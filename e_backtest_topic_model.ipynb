{
 "cells": [
  {
   "cell_type": "code",
   "execution_count": 3,
   "metadata": {},
   "outputs": [],
   "source": [
    "import pandas as pd \n",
    "import numpy as np \n",
    "import wrds\n",
    "import os\n",
    "import requests\n",
    "import unicodedata"
   ]
  },
  {
   "cell_type": "code",
   "execution_count": 4,
   "metadata": {},
   "outputs": [
    {
     "output_type": "stream",
     "name": "stdout",
     "text": "Loading library list...\nDone\n"
    }
   ],
   "source": [
    "db = wrds.Connection(wrds_username='codywan')"
   ]
  },
  {
   "cell_type": "code",
   "execution_count": 3,
   "metadata": {},
   "outputs": [
    {
     "output_type": "execute_result",
     "data": {
      "text/plain": "' prepare for scraping corporate annoucments/articles/press on sustainability '"
     },
     "metadata": {},
     "execution_count": 3
    }
   ],
   "source": [
    "\"\"\" prepare for scraping corporate annoucments/articles/press on sustainability \"\"\""
   ]
  },
  {
   "cell_type": "code",
   "execution_count": 4,
   "metadata": {},
   "outputs": [
    {
     "output_type": "execute_result",
     "data": {
      "text/plain": "775"
     },
     "metadata": {},
     "execution_count": 4
    }
   ],
   "source": [
    "# get permno_list, to get weburl of company for scraping\n",
    "permno_list = pd.read_csv(\"data/permno/filtered_permno_list_19960105_20200101.csv\", header=None, dtype='int').iloc[0].values\n",
    "len(permno_list)"
   ]
  },
  {
   "cell_type": "code",
   "execution_count": 5,
   "metadata": {},
   "outputs": [
    {
     "output_type": "stream",
     "name": "stdout",
     "text": "772 781\n781\n"
    }
   ],
   "source": [
    "# get linking table from permno to gvkey\n",
    "LINKING_FILE_PATH = '/Users/codywan/Data/WRDS Data/crspa_ccmlinktable.csv'\n",
    "link = pd.read_csv(LINKING_FILE_PATH, header=0, keep_default_na=False).replace(\"\", np.NaN).dropna(subset=['LPERMNO', 'GVKEY'])\n",
    "link[['LPERMNO', 'GVKEY']] = link[['LPERMNO', 'GVKEY']].astype('int')\n",
    "permno_gvkey_mapping = {int(permno): list(set(link[(link['LPERMNO']==permno)]['GVKEY'])) for permno in link['LPERMNO'].unique()}\n",
    "# get gvkey_list from permno_list (to fetch company weburl data) \n",
    "gvkey_list = [permno_gvkey_mapping[permno] for permno in permno_list if permno in permno_gvkey_mapping]\n",
    "# a few has no matching (e.g. 16267 ARROWSTREET CAPITAL, \n",
    "# which i'm very confused, i thought it was a private asset management firm) \n",
    "# see db.raw_sql(\"SELECT * FROM crsp.msf WHERE permno=16267\")\n",
    "# and a few has one permno matched to multiple gvkey:\n",
    "print(len(gvkey_list), sum([len(gvkey) for gvkey in gvkey_list]))\n",
    "# flatten gvkey_list to get company name and url from wrds\n",
    "gvkey_list = [a for b in gvkey_list for a in b]\n",
    "print(len(gvkey_list))"
   ]
  },
  {
   "cell_type": "code",
   "execution_count": 6,
   "metadata": {},
   "outputs": [
    {
     "output_type": "execute_result",
     "data": {
      "text/plain": "(566,\n                                   conml                   weburl  mkvalt\n gvkey                                                                   \n 1072                          AVX Corp.              www.avx.com       0\n 1414                      Primerica Inc        www.primerica.com       0\n 1177                         Aetna Inc.            www.aetna.com       0\n 1487   American International Group Inc              www.aig.com       0\n 1447                American Express Co  www.americanexpress.com       0)"
     },
     "metadata": {},
     "execution_count": 6
    }
   ],
   "source": [
    "# conml: company legal name; weburl: website url\n",
    "res = db.raw_sql(f\"SELECT gvkey, conml, weburl FROM comp.company where CAST(gvkey AS INT) in ({','.join(str(g) for g in gvkey_list)})\")\n",
    "res = res.dropna(subset=['weburl'], axis=0, how='any').astype({'gvkey':'int64'}).set_index('gvkey')\n",
    "res['mkvalt'] = [0]*len(res)\n",
    "len(res), res.head()\n",
    "# res.to_csv(\"data/web_scraping/seeds.txt\", index=False)"
   ]
  },
  {
   "cell_type": "code",
   "execution_count": 8,
   "metadata": {},
   "outputs": [],
   "source": [
    "# df = db.raw_sql(f\"SELECT gvkey, fyear, mkvalt FROM compa.funda \"\n",
    "#                 f\"where CAST(gvkey AS INT) in ({','.join(str(g) for g in gvkey_list)})\"\n",
    "#                 f\"AND mkvalt IS NOT NULL\")\n",
    "# df.to_csv(\"data/web_scraping/gvkey_mkvalt.csv\")\n",
    "\n",
    "# # read gvkey to mkvalt (market cap) from local\n",
    "df = pd.read_csv(\"data/web_scraping/gvkey_mkvalt.csv\", index_col=0, dtype={'gvkey':'int64'})"
   ]
  },
  {
   "cell_type": "code",
   "execution_count": 9,
   "metadata": {},
   "outputs": [],
   "source": [
    "# map mkvalt to dataframe\n",
    "for row in res.itertuples():\n",
    "    gvkey = getattr(row, 'Index')\n",
    "    df_gvkey = df[df['gvkey']==gvkey]\n",
    "    if not df_gvkey.empty:\n",
    "        res.at[gvkey, 'mkvalt']=df_gvkey.iloc[-1]['mkvalt']"
   ]
  },
  {
   "cell_type": "code",
   "execution_count": 10,
   "metadata": {},
   "outputs": [
    {
     "output_type": "execute_result",
     "data": {
      "text/plain": "    gvkey             conml                    weburl  mkvalt\n0  160329      Alphabet Inc               www.abc.xyz  729439\n1  170617      Facebook Inc           investor.fb.com  512792\n2   12141    Microsoft Corp         www.microsoft.com  354392\n3  179534          Visa Inc              usa.visa.com  333174\n4    4503  Exxon Mobil Corp  corporate.exxonmobil.com  323960",
      "text/html": "<div>\n<style scoped>\n    .dataframe tbody tr th:only-of-type {\n        vertical-align: middle;\n    }\n\n    .dataframe tbody tr th {\n        vertical-align: top;\n    }\n\n    .dataframe thead th {\n        text-align: right;\n    }\n</style>\n<table border=\"1\" class=\"dataframe\">\n  <thead>\n    <tr style=\"text-align: right;\">\n      <th></th>\n      <th>gvkey</th>\n      <th>conml</th>\n      <th>weburl</th>\n      <th>mkvalt</th>\n    </tr>\n  </thead>\n  <tbody>\n    <tr>\n      <th>0</th>\n      <td>160329</td>\n      <td>Alphabet Inc</td>\n      <td>www.abc.xyz</td>\n      <td>729439</td>\n    </tr>\n    <tr>\n      <th>1</th>\n      <td>170617</td>\n      <td>Facebook Inc</td>\n      <td>investor.fb.com</td>\n      <td>512792</td>\n    </tr>\n    <tr>\n      <th>2</th>\n      <td>12141</td>\n      <td>Microsoft Corp</td>\n      <td>www.microsoft.com</td>\n      <td>354392</td>\n    </tr>\n    <tr>\n      <th>3</th>\n      <td>179534</td>\n      <td>Visa Inc</td>\n      <td>usa.visa.com</td>\n      <td>333174</td>\n    </tr>\n    <tr>\n      <th>4</th>\n      <td>4503</td>\n      <td>Exxon Mobil Corp</td>\n      <td>corporate.exxonmobil.com</td>\n      <td>323960</td>\n    </tr>\n  </tbody>\n</table>\n</div>"
     },
     "metadata": {},
     "execution_count": 10
    }
   ],
   "source": [
    "res = res.sort_values('mkvalt', ascending=False)\n",
    "res.reset_index().head()"
   ]
  },
  {
   "cell_type": "code",
   "execution_count": 222,
   "metadata": {},
   "outputs": [],
   "source": [
    "# shuffle rows of the dataframe\n",
    "# for a different order of scraping websites\n",
    "res = res.sample(frac=1)"
   ]
  },
  {
   "cell_type": "code",
   "execution_count": 224,
   "metadata": {},
   "outputs": [],
   "source": [
    "# NOTE: don't run, unless prepping for scraping\n",
    "# save company name, weburl to local files, to be read by a python script that does scraping\n",
    "n = 14\n",
    "count = 0\n",
    "for i in range(len(res)):\n",
    "    # if count < n * 5:\n",
    "    #     count += 1\n",
    "    #     continue\n",
    "    file_num = i%n + 1\n",
    "    with open(f\"data/web_scraping/seeds_part{file_num}.txt\", 'a') as f:\n",
    "        conml, weburl = res.iloc[i][['conml', 'weburl']]\n",
    "        if not weburl == 'www.americanexpress.com':\n",
    "            f.write(f\"{conml},{weburl}\\n\")"
   ]
  },
  {
   "cell_type": "code",
   "execution_count": 11,
   "metadata": {},
   "outputs": [
    {
     "output_type": "execute_result",
     "data": {
      "text/plain": "' test a few functionalities used for scraping '"
     },
     "metadata": {},
     "execution_count": 11
    }
   ],
   "source": [
    "\"\"\" test a few functionalities used for scraping \"\"\""
   ]
  },
  {
   "cell_type": "code",
   "execution_count": null,
   "metadata": {},
   "outputs": [],
   "source": [
    "# NOTE: test dragnet, for extracting meaningful content of a web page\n",
    "\n",
    "from dragnet import extract_content\n",
    "# url = r\"https://www.microsoft.com/en-us/corporate-responsibility/sustainability\"\n",
    "url = r\"https://www.microsoft.com/en-us/corporate-responsibility/sustainability/operations\"\n",
    "response = requests.get(url)\n",
    "content = extract_content(response.content)"
   ]
  },
  {
   "cell_type": "code",
   "execution_count": null,
   "metadata": {},
   "outputs": [],
   "source": [
    "unicodedata.normalize(\"NFKD\", content).replace(\"\\n\", \" \").replace(\"\\t\", \"\").replace(\"  \", \" \")"
   ]
  },
  {
   "cell_type": "code",
   "execution_count": null,
   "metadata": {},
   "outputs": [],
   "source": [
    "# dragnet is pretty accurate at getting the content but it also misses a lot of things compared to \n",
    "# good old-fashioned soup.find_all('p') using the same url\n",
    "from bs4 import BeautifulSoup\n",
    "soup = BeautifulSoup(requests.get(url).content, 'html5')\n",
    "text = soup.find_all('p')\n",
    "for t in text:\n",
    "    t = t.get_text()\n",
    "    page_text_norm = str(unicodedata.normalize('NFKD', t).encode(encoding='ascii', errors='ignore'))\n",
    "    # print(page_text_norm)"
   ]
  },
  {
   "cell_type": "code",
   "execution_count": null,
   "metadata": {},
   "outputs": [],
   "source": [
    "# however, we just need to identify some texts on sustainability with high confidence. Let's use dragnet on\n",
    "# every company in our list and see if collectively, their word distribution skew towards sustainability, csr, etc."
   ]
  },
  {
   "cell_type": "code",
   "execution_count": null,
   "metadata": {},
   "outputs": [],
   "source": [
    "# NOTE: test whitelist and blacklist words\n",
    "\n",
    "from scrapy.spiders import Spider\n",
    "from scrapy.http import Request\n",
    "from scrapy.http.response.html import HtmlResponse\n",
    "from scrapy.linkextractors import LinkExtractor\n",
    "from urllib.parse import urlparse\n",
    "import re"
   ]
  },
  {
   "cell_type": "code",
   "execution_count": null,
   "metadata": {},
   "outputs": [],
   "source": [
    "url = r\"https://www.microsoft.com\"\n",
    "company = \"microsoft\"\n",
    "request = Request(url)\n",
    "request.meta.update(company=company.strip())"
   ]
  },
  {
   "cell_type": "code",
   "execution_count": null,
   "metadata": {},
   "outputs": [],
   "source": [
    "whitelist = ['csr', 'esg', 'responsibility', 'sustainability', 'climate', 'conservation'\n",
    "                          'environment', 'renewable', 'carbon-footprint', 'clean-energy', 'carbon-neutral',\n",
    "                          'corporate-governance', 'diverse-workforce', 'climate-change', 'customer-privacy',\n",
    "                          'community-impact', 'clean-water']\n",
    "blacklist = ['document', 'blog', 'product', 'profit', 'revenue', 'archive', 'search', 'login',\n",
    "                          'accessories', 'shop', 'support', 'developer', 'dmg', 'forums']"
   ]
  },
  {
   "cell_type": "code",
   "execution_count": null,
   "metadata": {},
   "outputs": [],
   "source": [
    "link_str = ' https://support.apple.com/es-us/guide/iphone/iph3dd5fc7e/12.0/ios/12.0'\n",
    "# keywords stores matching of any word from whitelist (| means OR), re.I means ignore case\n",
    "keywords = list(set(re.findall(\"|\".join(whitelist), link_str, flags=re.I)))\n",
    "flashcards = list(set(re.findall(\"|\".join(blacklist), link_str, flags=re.I)))"
   ]
  },
  {
   "cell_type": "code",
   "execution_count": 12,
   "metadata": {},
   "outputs": [
    {
     "output_type": "execute_result",
     "data": {
      "text/plain": "' process scraped content stored in local mongodb database '"
     },
     "metadata": {},
     "execution_count": 12
    }
   ],
   "source": [
    "\"\"\" after scraping, process scraped content stored in local mongodb database \"\"\""
   ]
  },
  {
   "cell_type": "code",
   "execution_count": 31,
   "metadata": {},
   "outputs": [],
   "source": [
    "from pymongo import MongoClient\n",
    "\n",
    "class Connect(object):\n",
    "    @staticmethod    \n",
    "    def get_connection():\n",
    "        return MongoClient(port=27017, username='codywan', password='password', authSource=\"admin\")\n",
    "\n",
    "# connect to local mongodb\n",
    "connection = Connect.get_connection()\n",
    "db = connection['admin']"
   ]
  },
  {
   "cell_type": "code",
   "execution_count": 32,
   "metadata": {},
   "outputs": [],
   "source": [
    "# get whitelist used in scraping, for compiling statistics\n",
    "keywords_dict = dict()\n",
    "\n",
    "# further process scraped content\n",
    "\n",
    "from langid.langid import LanguageIdentifier, model\n",
    "identifier = LanguageIdentifier.from_modelstring(model, norm_probs=True)\n",
    "\n",
    "def convert_unicode(content):\n",
    "    return unicodedata.normalize(\"NFKD\", content).replace(\"\\n\", \" \").replace(\"\\t\", \"\").replace(\"  \", \" \")\n",
    "\n",
    "filter_list = [\"system.users\", 'system.version']\n",
    "master_texts = list()\n",
    "for collection_name in db.collection_names():\n",
    "    if collection_name not in filter_list:\n",
    "        # only store unique texts/str\n",
    "        sub_texts = set()\n",
    "        cursor = db[collection_name].find({})\n",
    "        for item in cursor:\n",
    "            # convert any leftover unicode\n",
    "            text = convert_unicode(item['content'])\n",
    "            # skip non-English texts\n",
    "            lang, prob = identifier.classify(text)\n",
    "            if prob > 0.8 and lang == 'en':\n",
    "                sub_texts.add(text)\n",
    "            # get count for keywords\n",
    "            for keyword in item['keywords']:\n",
    "                keywords_dict[keyword] = keywords_dict.get(keyword, 0) + 1\n",
    "        master_texts.extend(list(sub_texts))"
   ]
  },
  {
   "cell_type": "code",
   "execution_count": 34,
   "metadata": {},
   "outputs": [
    {
     "output_type": "execute_result",
     "data": {
      "text/plain": "{'sustainability': 46875,\n 'carbon-neutral': 114,\n 'corporate-responsibility': 425,\n 'climate-change': 749,\n 'corporate-governance': 140,\n 'social-responsibility': 252,\n 'community-impact': 36,\n 'clean-energy': 203,\n 'global-warming': 26,\n 'clean-water': 65,\n 'social-justice': 14,\n 'social-impact': 98,\n 'carbon-footprint': 34,\n 'inclusive-environment': 4,\n 'customer-privacy': 3,\n 'diverse-workforce': 2}"
     },
     "metadata": {},
     "execution_count": 34
    }
   ],
   "source": [
    "keywords_dict"
   ]
  },
  {
   "cell_type": "code",
   "execution_count": 37,
   "metadata": {},
   "outputs": [],
   "source": [
    "# save processed text corpora to local\n",
    "import pickle\n",
    "with open(\"data/web_scraping/sustainability_corpora.pickle\", \"wb\") as f:\n",
    "    pickle.dump(master_texts, f)"
   ]
  },
  {
   "cell_type": "code",
   "execution_count": 38,
   "metadata": {},
   "outputs": [
    {
     "output_type": "execute_result",
     "data": {
      "text/plain": "' after saving processed scraped content to local as corpora, prepare corpora for LDA '"
     },
     "metadata": {},
     "execution_count": 38
    }
   ],
   "source": [
    "\"\"\" after saving processed scraped content to local as corpora, prepare corpora for LDA \"\"\""
   ]
  },
  {
   "cell_type": "code",
   "execution_count": 1,
   "metadata": {},
   "outputs": [],
   "source": [
    "import pickle\n",
    "# load text corpora\n",
    "with open(\"data/web_scraping/sustainability_corpora.pickle\", \"rb\") as f:\n",
    "    texts = pickle.load(f)"
   ]
  },
  {
   "cell_type": "code",
   "execution_count": 2,
   "metadata": {},
   "outputs": [
    {
     "output_type": "execute_result",
     "data": {
      "text/plain": "15407"
     },
     "metadata": {},
     "execution_count": 2
    }
   ],
   "source": [
    "len(texts)"
   ]
  },
  {
   "cell_type": "code",
   "execution_count": 41,
   "metadata": {},
   "outputs": [],
   "source": [
    "# convert text to bag of words:\n",
    "from nltk.corpus import stopwords\n",
    "from nltk.tokenize import word_tokenize\n",
    "from nltk.stem.wordnet import WordNetLemmatizer\n",
    "from nltk.stem.porter import PorterStemmer\n",
    "\n",
    "wordlemmatizer = WordNetLemmatizer()\n",
    "list_of_words = list()\n",
    "\n",
    "for text in texts:\n",
    "    # tokenize text as English\n",
    "    text_tokenized = word_tokenize(text, language='English')\n",
    "    # convert to lowercases and remove puncutation\n",
    "    text_tokenized = [word.lower() for word in text_tokenized if word.isalpha()]\n",
    "    # lemmatize token\n",
    "    text_tokenized = [wordlemmatizer.lemmatize(word) for word in text_tokenized if word not in stopwords.words('english')]\n",
    "    list_of_words.append(text_tokenized)"
   ]
  },
  {
   "cell_type": "code",
   "execution_count": 42,
   "metadata": {},
   "outputs": [
    {
     "output_type": "execute_result",
     "data": {
      "text/plain": "81"
     },
     "metadata": {},
     "execution_count": 42
    }
   ],
   "source": [
    "# check content with very small number of words (likely off-topic content)\n",
    "len([words for words in list_of_words if len(words) <= 20])"
   ]
  },
  {
   "cell_type": "code",
   "execution_count": 43,
   "metadata": {},
   "outputs": [],
   "source": [
    "# remove texts with few words (likely scraped from comment or survey section with no substantial information)\n",
    "list_of_words = [words for words in list_of_words if len(words) > 20]"
   ]
  },
  {
   "cell_type": "code",
   "execution_count": 44,
   "metadata": {},
   "outputs": [],
   "source": [
    "# save processed text tokenized to local\n",
    "with open(\"data/web_scraping/sustainability_corpora_tokenized.pickle\", \"wb\") as f:\n",
    "    pickle.dump(list_of_words, f)"
   ]
  },
  {
   "cell_type": "code",
   "execution_count": 45,
   "metadata": {},
   "outputs": [
    {
     "output_type": "execute_result",
     "data": {
      "text/plain": "' after saving tokenized corpora to local, load and prepare tokenized corpora for LDA '"
     },
     "metadata": {},
     "execution_count": 45
    }
   ],
   "source": [
    "\"\"\" after saving tokenized corpora to local, load and prepare tokenized corpora for LDA \"\"\""
   ]
  },
  {
   "cell_type": "code",
   "execution_count": 1,
   "metadata": {},
   "outputs": [],
   "source": [
    "import pickle\n",
    "with open(\"data/web_scraping/sustainability_corpora_tokenized.pickle\", \"rb\") as f:\n",
    "    list_of_words = pickle.load(f)"
   ]
  },
  {
   "cell_type": "code",
   "execution_count": 2,
   "metadata": {},
   "outputs": [
    {
     "output_type": "execute_result",
     "data": {
      "text/plain": "15326"
     },
     "metadata": {},
     "execution_count": 2
    }
   ],
   "source": [
    "len(list_of_words)"
   ]
  },
  {
   "cell_type": "code",
   "execution_count": 3,
   "outputs": [],
   "source": [
    "# NOTE: run LDA\n",
    "from gensim.test.utils import common_texts\n",
    "from gensim.corpora.dictionary import Dictionary\n",
    "from gensim import corpora, models\n",
    "import gensim\n",
    "import pyLDAvis.gensim\n",
    "\n",
    "# create dictionary based on list of words\n",
    "dictionary = Dictionary(list_of_words)\n",
    "# remove tokens appear less than no_below and more than no_above (in %)\n",
    "dictionary.filter_extremes(no_above=0.8)\n",
    "bow_corpus = [dictionary.doc2bow(doc) for doc in list_of_words]"
   ],
   "metadata": {
    "collapsed": false,
    "pycharm": {
     "name": "#%%\n"
    }
   }
  },
  {
   "cell_type": "code",
   "execution_count": 5,
   "metadata": {},
   "outputs": [],
   "source": [
    "# apply tf-idf\n",
    "tfidf = models.TfidfModel(bow_corpus)\n",
    "corpus_tfidf = tfidf[bow_corpus]"
   ]
  },
  {
   "cell_type": "code",
   "execution_count": 6,
   "metadata": {},
   "outputs": [],
   "source": [
    "# fit with bag of words (without tf-idf)\n",
    "num_topics=6\n",
    "path=f\"data/LDA/lda_model_{num_topics}topics\"\n",
    "if not os.path.exists(path):\n",
    "    os.mkdir(path)\n",
    "lda_model = gensim.models.LdaMulticore(bow_corpus, num_topics=num_topics, id2word=dictionary, workers=7)\n",
    "# save model specifications to local\n",
    "lda_model.save(f\"{path}/topic_model.model\")\n",
    "dictionary.save(f\"{path}/dictionary.dict\")\n",
    "corpora.MmCorpus.serialize(f\"{path}/corpus.mm\", bow_corpus)\n",
    "# visualize LDA\n",
    "res = pyLDAvis.gensim.prepare(lda_model, bow_corpus, dictionary)\n",
    "pyLDAvis.save_html(res,f'{path}/vis.html')"
   ]
  },
  {
   "cell_type": "code",
   "execution_count": 21,
   "metadata": {},
   "outputs": [],
   "source": [
    "# show distribution of words for each topic (-1 choose all topics), ordered by significance\n",
    "# for idx, topic in lda_model.print_topics(-1):\n",
    "#     print(f'Topic: {idx} \\nWords: {topic}')"
   ]
  },
  {
   "cell_type": "code",
   "execution_count": 22,
   "metadata": {},
   "outputs": [],
   "source": [
    "# fit with bag of words with tf-idf\n",
    "path=\"data/LDA/lda_model_tfidf\"\n",
    "lda_model_tfidf = gensim.models.LdaMulticore(corpus_tfidf, num_topics=20, id2word=dictionary, workers=7)\n",
    "# save model specifications to local\n",
    "lda_model.save(f\"{path}/topic_model.model\")\n",
    "dictionary.save(f\"{path}/dictionary.dict\")\n",
    "corpora.MmCorpus.serialize(f\"{path}/corpus.mm\", bow_corpus)\n",
    "# visualize LDA\n",
    "res = pyLDAvis.gensim.prepare(lda_model, bow_corpus, dictionary)\n",
    "pyLDAvis.save_html(res,f'{path}/vis.html')"
   ]
  },
  {
   "cell_type": "code",
   "execution_count": null,
   "metadata": {},
   "outputs": [],
   "source": [
    "# for idx, topic in lda_model_tfidf.print_topics(-1):\n",
    "#     print(f'Topic: {idx} \\nWords: {topic}')"
   ]
  },
  {
   "cell_type": "code",
   "execution_count": 99,
   "metadata": {},
   "outputs": [
    {
     "output_type": "stream",
     "name": "stdout",
     "text": "\nScore: 0.9526092410087585\t \nTopic: 0.013*\"company\" + 0.011*\"energy\" + 0.009*\"climate\" + 0.006*\"sustainability\" + 0.006*\"said\" + 0.006*\"change\" + 0.006*\"business\" + 0.005*\"community\" + 0.005*\"environmental\" + 0.005*\"report\"\n"
    }
   ],
   "source": [
    "# performance evaluation by classifying sample document using lda bag of words model\n",
    "for index, score in sorted(lda_model[dictionary.doc2bow(list_of_words[2])], key=lambda topic: -1*topic[1]):\n",
    "    print(f\"\\nScore: {score}\\t \\nTopic: {lda_model.print_topic(index, 10)}\")"
   ]
  },
  {
   "cell_type": "code",
   "execution_count": 24,
   "metadata": {},
   "outputs": [],
   "source": [
    "\"\"\" load fitted lda model from local \"\"\"\n",
    "\n",
    "path=\"data/LDA/lda_model\"\n",
    "lda_model = gensim.models.LdaModel.load(f'{path}/topic_model.model')\n",
    "dictionary = gensim.corpora.Dictionary.load(f'{path}/dictionary.dict')\n",
    "bow_corpus = gensim.corpora.MmCorpus(f'{path}/corpus.mm')"
   ]
  },
  {
   "cell_type": "code",
   "execution_count": 35,
   "metadata": {},
   "outputs": [],
   "source": [
    "# show distribution of words for each topic (-1 choose all topics), ordered by significance\n",
    "# for idx, topic in lda_model.print_topics(-1):\n",
    "#     print(f'Topic: {idx+1} \\nWords: {topic}')"
   ]
  },
  {
   "cell_type": "code",
   "execution_count": 46,
   "metadata": {},
   "outputs": [],
   "source": [
    "# apply LDA model to signal filings from keywords matching\n",
    "# !python utils_LDA.py"
   ]
  },
  {
   "cell_type": "code",
   "execution_count": null,
   "metadata": {},
   "outputs": [],
   "source": [
    "\"\"\" evaluate LDA signal \"\"\""
   ]
  },
  {
   "cell_type": "code",
   "execution_count": 13,
   "metadata": {},
   "outputs": [
    {
     "output_type": "stream",
     "name": "stdout",
     "text": "Loading library list...\nDone\n"
    }
   ],
   "source": [
    "import importlib\n",
    "import wrds\n",
    "import numpy as np \n",
    "import pandas as pd\n",
    "import json\n",
    "import utils.backtest_performance\n",
    "importlib.reload(utils.backtest_performance)\n",
    "from utils.backtest_performance import price_history_to_cumu, add_to_return_stats, get_price_history_yahoo_finance, get_price_history, get_return_stats, get_NACIS_code_sector_name\n",
    "\n",
    "db = wrds.Connection(wrds_username='codywan')\n",
    "# db.create_pgpass_file() # first-time use\n",
    "def get_CIK_mapping():\n",
    "    \"\"\"\n",
    "    \"\"\"\n",
    "    # get linking table from CIK to permno (for retreiving price history from wrds)\n",
    "    LINKING_FILE_PATH = '/Users/codywan/Data/WRDS Data/crspa_ccmlinktable.csv'\n",
    "    link = pd.read_csv(LINKING_FILE_PATH, header=0, keep_default_na=False).replace(\"\", np.NaN).dropna(subset=['LPERMNO', 'cik'])\n",
    "    link[['LPERMNO', 'cik']] = link[['LPERMNO', 'cik']].astype('int')\n",
    "    CIK_PERMNO_mapping = {CIK: set(link[(link['cik']==CIK)]['LPERMNO']) for CIK in link['cik'].unique()}\n",
    "\n",
    "    # get linking table from CIK to ticker (for retreiving price history after 12/31/2019 from yahoo finance)\n",
    "    link['tic'] = link['tic'].astype('str')\n",
    "    CIK_TICKER_mapping = {CIK: list(set(link[(link['cik']==CIK)]['tic'])) for CIK in link['cik'].unique()}\n",
    "\n",
    "    # check if the mapping between CIK and TICKER is one-to-one\n",
    "    if len(CIK_TICKER_mapping) == sum([len(CIK_TICKER_mapping[CIK]) for CIK in CIK_TICKER_mapping]):\n",
    "        CIK_TICKER_mapping = {CIK: CIK_TICKER_mapping[CIK][0] for CIK in CIK_TICKER_mapping}\n",
    "    else:\n",
    "        print(\"multiple tickers for CIK\")\n",
    "\n",
    "    # get linking table from CIK to SIC (for benchmarking using industry level returns from  ken french website)\n",
    "    CIK_SIC_mapping = {CIK: int(link[(link['cik']==CIK)]['sic'].unique().tolist()[0]) for CIK in link['cik'].unique()}\n",
    "    return CIK_PERMNO_mapping, CIK_TICKER_mapping, CIK_SIC_mapping"
   ]
  },
  {
   "cell_type": "code",
   "execution_count": 14,
   "metadata": {},
   "outputs": [],
   "source": [
    "# read SIC to industry portfolio mapping\n",
    "with open(\"data/industry_classification_and_portfolio/SIC_portfl_mapping_Siccodes49.json\", \"r\") as f:\n",
    "    SIC_portfolio_mapping = json.load(f)"
   ]
  },
  {
   "cell_type": "code",
   "execution_count": 15,
   "metadata": {},
   "outputs": [],
   "source": [
    "CIK_PERMNO_mapping, CIK_TICKER_mapping, CIK_SIC_mapping = get_CIK_mapping()"
   ]
  },
  {
   "cell_type": "code",
   "execution_count": 16,
   "metadata": {},
   "outputs": [],
   "source": [
    "NACIS_sector_code, NACIS_sector_name = get_NACIS_code_sector_name()"
   ]
  },
  {
   "cell_type": "code",
   "execution_count": 97,
   "metadata": {},
   "outputs": [
    {
     "output_type": "stream",
     "name": "stdout",
     "text": "Agriculture, Forestry, Fishing and Hunting\n8/8 price history generated from wrds/crsp\n0/0 price history generated from yahoo finance\n8/8 earnings call date checked\n"
    },
    {
     "output_type": "display_data",
     "data": {
      "text/plain": "                                      R       MKT   R - MKT       vol   EA  \\\nCIK     day -1     day 0                                                     \n18169   2012-09-17 2012-09-18  1.015328  1.000297  0.015031  4.063723  NaN   \n1110783 2008-03-31 2008-04-01  1.004484  1.032770 -0.028285  1.191451  1.0   \n        2013-01-30 2013-01-31  0.995522  1.009092 -0.013570  0.769629  NaN   \n18169   2012-09-20 2012-09-21  0.994425  0.997799 -0.003374  2.400726  NaN   \n1110783 2017-01-26 2017-01-27  0.988798  0.992008 -0.003210  0.722790  NaN   \n\n                               10d - MKT  30d - MKT  60d - MKT  90d - MKT  \\\nCIK     day -1     day 0                                                    \n18169   2012-09-17 2012-09-18   0.023594  -0.060028  -0.109767  -0.219718   \n1110783 2008-03-31 2008-04-01   0.090976   0.017837   0.171132  -0.004116   \n        2013-01-30 2013-01-31  -0.024049  -0.031472  -0.029140  -0.078926   \n18169   2012-09-20 2012-09-21  -0.066822  -0.141302  -0.193622  -0.273133   \n1110783 2017-01-26 2017-01-27  -0.029457   0.007649   0.022494   0.010466   \n\n                               120d - MKT    IDT  10d - IDT  30d - IDT  \\\nCIK     day -1     day 0                                                 \n18169   2012-09-17 2012-09-18   -0.302071  Agric  -0.008352  -0.060351   \n1110783 2008-03-31 2008-04-01    0.096612  Agric   0.006831  -0.004927   \n        2013-01-30 2013-01-31   -0.153300  Agric  -0.001248  -0.000581   \n18169   2012-09-20 2012-09-21   -0.328859  Agric  -0.069676  -0.138451   \n1110783 2017-01-26 2017-01-27   -0.016598  Agric  -0.000824   0.010097   \n\n                               60d - IDT  90d - IDT  120d - IDT  \nCIK     day -1     day 0                                         \n18169   2012-09-17 2012-09-18  -0.138513  -0.324356   -0.372845  \n1110783 2008-03-31 2008-04-01   0.015511  -0.010566   -0.004276  \n        2013-01-30 2013-01-31  -0.004012  -0.014729   -0.026945  \n18169   2012-09-20 2012-09-21  -0.207239  -0.338833   -0.365333  \n1110783 2017-01-26 2017-01-27   0.007999   0.010048    0.005113  ",
      "text/html": "<div>\n<style scoped>\n    .dataframe tbody tr th:only-of-type {\n        vertical-align: middle;\n    }\n\n    .dataframe tbody tr th {\n        vertical-align: top;\n    }\n\n    .dataframe thead th {\n        text-align: right;\n    }\n</style>\n<table border=\"1\" class=\"dataframe\">\n  <thead>\n    <tr style=\"text-align: right;\">\n      <th></th>\n      <th></th>\n      <th></th>\n      <th>R</th>\n      <th>MKT</th>\n      <th>R - MKT</th>\n      <th>vol</th>\n      <th>EA</th>\n      <th>10d - MKT</th>\n      <th>30d - MKT</th>\n      <th>60d - MKT</th>\n      <th>90d - MKT</th>\n      <th>120d - MKT</th>\n      <th>IDT</th>\n      <th>10d - IDT</th>\n      <th>30d - IDT</th>\n      <th>60d - IDT</th>\n      <th>90d - IDT</th>\n      <th>120d - IDT</th>\n    </tr>\n    <tr>\n      <th>CIK</th>\n      <th>day -1</th>\n      <th>day 0</th>\n      <th></th>\n      <th></th>\n      <th></th>\n      <th></th>\n      <th></th>\n      <th></th>\n      <th></th>\n      <th></th>\n      <th></th>\n      <th></th>\n      <th></th>\n      <th></th>\n      <th></th>\n      <th></th>\n      <th></th>\n      <th></th>\n    </tr>\n  </thead>\n  <tbody>\n    <tr>\n      <th>18169</th>\n      <th>2012-09-17</th>\n      <th>2012-09-18</th>\n      <td>1.015328</td>\n      <td>1.000297</td>\n      <td>0.015031</td>\n      <td>4.063723</td>\n      <td>NaN</td>\n      <td>0.023594</td>\n      <td>-0.060028</td>\n      <td>-0.109767</td>\n      <td>-0.219718</td>\n      <td>-0.302071</td>\n      <td>Agric</td>\n      <td>-0.008352</td>\n      <td>-0.060351</td>\n      <td>-0.138513</td>\n      <td>-0.324356</td>\n      <td>-0.372845</td>\n    </tr>\n    <tr>\n      <th rowspan=\"2\" valign=\"top\">1110783</th>\n      <th>2008-03-31</th>\n      <th>2008-04-01</th>\n      <td>1.004484</td>\n      <td>1.032770</td>\n      <td>-0.028285</td>\n      <td>1.191451</td>\n      <td>1.0</td>\n      <td>0.090976</td>\n      <td>0.017837</td>\n      <td>0.171132</td>\n      <td>-0.004116</td>\n      <td>0.096612</td>\n      <td>Agric</td>\n      <td>0.006831</td>\n      <td>-0.004927</td>\n      <td>0.015511</td>\n      <td>-0.010566</td>\n      <td>-0.004276</td>\n    </tr>\n    <tr>\n      <th>2013-01-30</th>\n      <th>2013-01-31</th>\n      <td>0.995522</td>\n      <td>1.009092</td>\n      <td>-0.013570</td>\n      <td>0.769629</td>\n      <td>NaN</td>\n      <td>-0.024049</td>\n      <td>-0.031472</td>\n      <td>-0.029140</td>\n      <td>-0.078926</td>\n      <td>-0.153300</td>\n      <td>Agric</td>\n      <td>-0.001248</td>\n      <td>-0.000581</td>\n      <td>-0.004012</td>\n      <td>-0.014729</td>\n      <td>-0.026945</td>\n    </tr>\n    <tr>\n      <th>18169</th>\n      <th>2012-09-20</th>\n      <th>2012-09-21</th>\n      <td>0.994425</td>\n      <td>0.997799</td>\n      <td>-0.003374</td>\n      <td>2.400726</td>\n      <td>NaN</td>\n      <td>-0.066822</td>\n      <td>-0.141302</td>\n      <td>-0.193622</td>\n      <td>-0.273133</td>\n      <td>-0.328859</td>\n      <td>Agric</td>\n      <td>-0.069676</td>\n      <td>-0.138451</td>\n      <td>-0.207239</td>\n      <td>-0.338833</td>\n      <td>-0.365333</td>\n    </tr>\n    <tr>\n      <th>1110783</th>\n      <th>2017-01-26</th>\n      <th>2017-01-27</th>\n      <td>0.988798</td>\n      <td>0.992008</td>\n      <td>-0.003210</td>\n      <td>0.722790</td>\n      <td>NaN</td>\n      <td>-0.029457</td>\n      <td>0.007649</td>\n      <td>0.022494</td>\n      <td>0.010466</td>\n      <td>-0.016598</td>\n      <td>Agric</td>\n      <td>-0.000824</td>\n      <td>0.010097</td>\n      <td>0.007999</td>\n      <td>0.010048</td>\n      <td>0.005113</td>\n    </tr>\n  </tbody>\n</table>\n</div>"
     },
     "metadata": {}
    },
    {
     "output_type": "stream",
     "name": "stdout",
     "text": "Mining, Quarrying, and Oil and Gas Extraction\n212/258 price history generated from wrds/crsp\n9/11 price history generated from yahoo finance\n245/258 earnings call date checked\n"
    },
    {
     "output_type": "display_data",
     "data": {
      "text/plain": "                                      R       MKT   R - MKT       vol   EA  \\\nCIK     day -1     day 0                                                     \n773910  2014-04-02 2014-04-03  1.168613  0.982246  0.186368  0.851952  NaN   \n1518832 2019-12-13 2019-12-16  1.163153  1.008407  0.154746  1.970733  NaN   \n1070412 2016-02-26 2016-02-29  1.154337  1.016339  0.137998  1.112579  NaN   \n831259  2016-11-08 2016-11-09  1.141439  1.017847  0.123592  0.780734  NaN   \n1524741 2015-10-26 2015-10-27  1.131396  1.010040  0.121356  0.618072  0.0   \n\n                               10d - MKT  30d - MKT  60d - MKT  90d - MKT  \\\nCIK     day -1     day 0                                                    \n773910  2014-04-02 2014-04-03   0.164832   0.164451   0.232864   0.210824   \n1518832 2019-12-13 2019-12-16   0.240296   0.072927  -0.433110  -0.471730   \n1070412 2016-02-26 2016-02-29   0.475397   0.661811   0.705788   0.944704   \n831259  2016-11-08 2016-11-09   0.295063   0.070498   0.196267  -0.047473   \n1524741 2015-10-26 2015-10-27   0.252973   0.273716   0.125774   0.251364   \n\n                               120d - MKT    IDT  10d - IDT  30d - IDT  \\\nCIK     day -1     day 0                                                 \n773910  2014-04-02 2014-04-03    0.162857    Oil   0.110630   0.108990   \n1518832 2019-12-13 2019-12-16   -0.316202    Oil   0.221876   0.165123   \n1070412 2016-02-26 2016-02-29    1.194114    Oil   0.430704   0.589540   \n831259  2016-11-08 2016-11-09   -0.168796  Mines   0.174731   0.019104   \n1524741 2015-10-26 2015-10-27    0.577935  Mines   0.294259   0.387221   \n\n                               60d - IDT  90d - IDT  120d - IDT  \nCIK     day -1     day 0                                         \n773910  2014-04-02 2014-04-03   0.164560   0.173723    0.192149  \n1518832 2019-12-13 2019-12-16  -0.130052  -0.178056   -0.080214  \n1070412 2016-02-26 2016-02-29   0.605133   0.844409    1.099941  \n831259  2016-11-08 2016-11-09   0.074487  -0.036726   -0.109522  \n1524741 2015-10-26 2015-10-27   0.295162   0.277310    0.519280  ",
      "text/html": "<div>\n<style scoped>\n    .dataframe tbody tr th:only-of-type {\n        vertical-align: middle;\n    }\n\n    .dataframe tbody tr th {\n        vertical-align: top;\n    }\n\n    .dataframe thead th {\n        text-align: right;\n    }\n</style>\n<table border=\"1\" class=\"dataframe\">\n  <thead>\n    <tr style=\"text-align: right;\">\n      <th></th>\n      <th></th>\n      <th></th>\n      <th>R</th>\n      <th>MKT</th>\n      <th>R - MKT</th>\n      <th>vol</th>\n      <th>EA</th>\n      <th>10d - MKT</th>\n      <th>30d - MKT</th>\n      <th>60d - MKT</th>\n      <th>90d - MKT</th>\n      <th>120d - MKT</th>\n      <th>IDT</th>\n      <th>10d - IDT</th>\n      <th>30d - IDT</th>\n      <th>60d - IDT</th>\n      <th>90d - IDT</th>\n      <th>120d - IDT</th>\n    </tr>\n    <tr>\n      <th>CIK</th>\n      <th>day -1</th>\n      <th>day 0</th>\n      <th></th>\n      <th></th>\n      <th></th>\n      <th></th>\n      <th></th>\n      <th></th>\n      <th></th>\n      <th></th>\n      <th></th>\n      <th></th>\n      <th></th>\n      <th></th>\n      <th></th>\n      <th></th>\n      <th></th>\n      <th></th>\n    </tr>\n  </thead>\n  <tbody>\n    <tr>\n      <th>773910</th>\n      <th>2014-04-02</th>\n      <th>2014-04-03</th>\n      <td>1.168613</td>\n      <td>0.982246</td>\n      <td>0.186368</td>\n      <td>0.851952</td>\n      <td>NaN</td>\n      <td>0.164832</td>\n      <td>0.164451</td>\n      <td>0.232864</td>\n      <td>0.210824</td>\n      <td>0.162857</td>\n      <td>Oil</td>\n      <td>0.110630</td>\n      <td>0.108990</td>\n      <td>0.164560</td>\n      <td>0.173723</td>\n      <td>0.192149</td>\n    </tr>\n    <tr>\n      <th>1518832</th>\n      <th>2019-12-13</th>\n      <th>2019-12-16</th>\n      <td>1.163153</td>\n      <td>1.008407</td>\n      <td>0.154746</td>\n      <td>1.970733</td>\n      <td>NaN</td>\n      <td>0.240296</td>\n      <td>0.072927</td>\n      <td>-0.433110</td>\n      <td>-0.471730</td>\n      <td>-0.316202</td>\n      <td>Oil</td>\n      <td>0.221876</td>\n      <td>0.165123</td>\n      <td>-0.130052</td>\n      <td>-0.178056</td>\n      <td>-0.080214</td>\n    </tr>\n    <tr>\n      <th>1070412</th>\n      <th>2016-02-26</th>\n      <th>2016-02-29</th>\n      <td>1.154337</td>\n      <td>1.016339</td>\n      <td>0.137998</td>\n      <td>1.112579</td>\n      <td>NaN</td>\n      <td>0.475397</td>\n      <td>0.661811</td>\n      <td>0.705788</td>\n      <td>0.944704</td>\n      <td>1.194114</td>\n      <td>Oil</td>\n      <td>0.430704</td>\n      <td>0.589540</td>\n      <td>0.605133</td>\n      <td>0.844409</td>\n      <td>1.099941</td>\n    </tr>\n    <tr>\n      <th>831259</th>\n      <th>2016-11-08</th>\n      <th>2016-11-09</th>\n      <td>1.141439</td>\n      <td>1.017847</td>\n      <td>0.123592</td>\n      <td>0.780734</td>\n      <td>NaN</td>\n      <td>0.295063</td>\n      <td>0.070498</td>\n      <td>0.196267</td>\n      <td>-0.047473</td>\n      <td>-0.168796</td>\n      <td>Mines</td>\n      <td>0.174731</td>\n      <td>0.019104</td>\n      <td>0.074487</td>\n      <td>-0.036726</td>\n      <td>-0.109522</td>\n    </tr>\n    <tr>\n      <th>1524741</th>\n      <th>2015-10-26</th>\n      <th>2015-10-27</th>\n      <td>1.131396</td>\n      <td>1.010040</td>\n      <td>0.121356</td>\n      <td>0.618072</td>\n      <td>0.0</td>\n      <td>0.252973</td>\n      <td>0.273716</td>\n      <td>0.125774</td>\n      <td>0.251364</td>\n      <td>0.577935</td>\n      <td>Mines</td>\n      <td>0.294259</td>\n      <td>0.387221</td>\n      <td>0.295162</td>\n      <td>0.277310</td>\n      <td>0.519280</td>\n    </tr>\n  </tbody>\n</table>\n</div>"
     },
     "metadata": {}
    },
    {
     "output_type": "stream",
     "name": "stdout",
     "text": "Utilities\n223/355 price history generated from wrds/crsp\n11/12 price history generated from yahoo finance\n332/355 earnings call date checked\n"
    },
    {
     "output_type": "display_data",
     "data": {
      "text/plain": "                                      R       MKT   R - MKT       vol   EA  \\\nCIK     day -1     day 0                                                     \n1379895 2016-02-23 2016-02-24  1.213555  1.016358  0.197197  1.728756  0.0   \n1599947 2017-10-16 2017-10-17  1.174740  1.001500  0.173240  1.732720  NaN   \n1379895 2016-02-29 2016-03-01  1.173611  1.028926  0.144685  1.960314  NaN   \n        2016-06-27 2016-06-28  1.164843  1.035917  0.128926  1.003176  NaN   \n        2013-03-13 2013-03-14  1.134787  1.003889  0.130898  4.187053  0.0   \n\n                               10d - MKT  30d - MKT  60d - MKT  90d - MKT  \\\nCIK     day -1     day 0                                                    \n1379895 2016-02-23 2016-02-24   0.453239   0.773437   1.250187   1.075562   \n1599947 2017-10-16 2017-10-17   0.154127   0.028985  -0.107634  -0.072377   \n1379895 2016-02-29 2016-03-01   0.196714   0.400595   0.660995   0.582245   \n        2016-06-27 2016-06-28   0.145246  -0.243393  -0.196788  -0.521295   \n        2013-03-13 2013-03-14   0.178709   0.190189   0.080704   0.024129   \n\n                               120d - MKT   IDT  10d - IDT  30d - IDT  \\\nCIK     day -1     day 0                                                \n1379895 2016-02-23 2016-02-24    0.461270   Oil   0.405391   0.738588   \n1599947 2017-10-16 2017-10-17   -0.089068  Util   0.146650   0.027516   \n1379895 2016-02-29 2016-03-01    0.052505   Oil   0.142417   0.333028   \n        2016-06-27 2016-06-28   -0.564684   Oil   0.159180  -0.171752   \n        2013-03-13 2013-03-14   -0.134212   Oil   0.181981   0.226424   \n\n                               60d - IDT  90d - IDT  120d - IDT  \nCIK     day -1     day 0                                         \n1379895 2016-02-23 2016-02-24   1.130609   0.937765    0.389769  \n1599947 2017-10-16 2017-10-17   0.032920   0.083368    0.015199  \n1379895 2016-02-29 2016-03-01   0.543317   0.476972   -0.040246  \n        2016-06-27 2016-06-28  -0.127497  -0.497298   -0.586999  \n        2013-03-13 2013-03-14   0.111575   0.059815   -0.094318  ",
      "text/html": "<div>\n<style scoped>\n    .dataframe tbody tr th:only-of-type {\n        vertical-align: middle;\n    }\n\n    .dataframe tbody tr th {\n        vertical-align: top;\n    }\n\n    .dataframe thead th {\n        text-align: right;\n    }\n</style>\n<table border=\"1\" class=\"dataframe\">\n  <thead>\n    <tr style=\"text-align: right;\">\n      <th></th>\n      <th></th>\n      <th></th>\n      <th>R</th>\n      <th>MKT</th>\n      <th>R - MKT</th>\n      <th>vol</th>\n      <th>EA</th>\n      <th>10d - MKT</th>\n      <th>30d - MKT</th>\n      <th>60d - MKT</th>\n      <th>90d - MKT</th>\n      <th>120d - MKT</th>\n      <th>IDT</th>\n      <th>10d - IDT</th>\n      <th>30d - IDT</th>\n      <th>60d - IDT</th>\n      <th>90d - IDT</th>\n      <th>120d - IDT</th>\n    </tr>\n    <tr>\n      <th>CIK</th>\n      <th>day -1</th>\n      <th>day 0</th>\n      <th></th>\n      <th></th>\n      <th></th>\n      <th></th>\n      <th></th>\n      <th></th>\n      <th></th>\n      <th></th>\n      <th></th>\n      <th></th>\n      <th></th>\n      <th></th>\n      <th></th>\n      <th></th>\n      <th></th>\n      <th></th>\n    </tr>\n  </thead>\n  <tbody>\n    <tr>\n      <th>1379895</th>\n      <th>2016-02-23</th>\n      <th>2016-02-24</th>\n      <td>1.213555</td>\n      <td>1.016358</td>\n      <td>0.197197</td>\n      <td>1.728756</td>\n      <td>0.0</td>\n      <td>0.453239</td>\n      <td>0.773437</td>\n      <td>1.250187</td>\n      <td>1.075562</td>\n      <td>0.461270</td>\n      <td>Oil</td>\n      <td>0.405391</td>\n      <td>0.738588</td>\n      <td>1.130609</td>\n      <td>0.937765</td>\n      <td>0.389769</td>\n    </tr>\n    <tr>\n      <th>1599947</th>\n      <th>2017-10-16</th>\n      <th>2017-10-17</th>\n      <td>1.174740</td>\n      <td>1.001500</td>\n      <td>0.173240</td>\n      <td>1.732720</td>\n      <td>NaN</td>\n      <td>0.154127</td>\n      <td>0.028985</td>\n      <td>-0.107634</td>\n      <td>-0.072377</td>\n      <td>-0.089068</td>\n      <td>Util</td>\n      <td>0.146650</td>\n      <td>0.027516</td>\n      <td>0.032920</td>\n      <td>0.083368</td>\n      <td>0.015199</td>\n    </tr>\n    <tr>\n      <th rowspan=\"3\" valign=\"top\">1379895</th>\n      <th>2016-02-29</th>\n      <th>2016-03-01</th>\n      <td>1.173611</td>\n      <td>1.028926</td>\n      <td>0.144685</td>\n      <td>1.960314</td>\n      <td>NaN</td>\n      <td>0.196714</td>\n      <td>0.400595</td>\n      <td>0.660995</td>\n      <td>0.582245</td>\n      <td>0.052505</td>\n      <td>Oil</td>\n      <td>0.142417</td>\n      <td>0.333028</td>\n      <td>0.543317</td>\n      <td>0.476972</td>\n      <td>-0.040246</td>\n    </tr>\n    <tr>\n      <th>2016-06-27</th>\n      <th>2016-06-28</th>\n      <td>1.164843</td>\n      <td>1.035917</td>\n      <td>0.128926</td>\n      <td>1.003176</td>\n      <td>NaN</td>\n      <td>0.145246</td>\n      <td>-0.243393</td>\n      <td>-0.196788</td>\n      <td>-0.521295</td>\n      <td>-0.564684</td>\n      <td>Oil</td>\n      <td>0.159180</td>\n      <td>-0.171752</td>\n      <td>-0.127497</td>\n      <td>-0.497298</td>\n      <td>-0.586999</td>\n    </tr>\n    <tr>\n      <th>2013-03-13</th>\n      <th>2013-03-14</th>\n      <td>1.134787</td>\n      <td>1.003889</td>\n      <td>0.130898</td>\n      <td>4.187053</td>\n      <td>0.0</td>\n      <td>0.178709</td>\n      <td>0.190189</td>\n      <td>0.080704</td>\n      <td>0.024129</td>\n      <td>-0.134212</td>\n      <td>Oil</td>\n      <td>0.181981</td>\n      <td>0.226424</td>\n      <td>0.111575</td>\n      <td>0.059815</td>\n      <td>-0.094318</td>\n    </tr>\n  </tbody>\n</table>\n</div>"
     },
     "metadata": {}
    },
    {
     "output_type": "stream",
     "name": "stdout",
     "text": "Construction\n25/26 price history generated from wrds/crsp\n0/0 price history generated from yahoo finance\n26/26 earnings call date checked\n"
    },
    {
     "output_type": "display_data",
     "data": {
      "text/plain": "                                      R       MKT   R - MKT       vol   EA  \\\nCIK     day -1     day 0                                                     \n1124198 2011-05-05 2011-05-06  1.099406  1.010125  0.089281  0.998076 -1.0   \n        2018-08-02 2018-08-03  1.088781  1.007714  0.081067  0.732614 -1.0   \n        2017-11-01 2017-11-02  1.066454  1.003702  0.062752  0.645956  0.0   \n        2007-12-20 2007-12-21  1.044484  1.024531  0.019953  1.135959  NaN   \n1357615 2011-05-23 2011-05-24  1.039493  1.003094  0.036399  0.633402  NaN   \n\n                               10d - MKT  30d - MKT  60d - MKT  90d - MKT  \\\nCIK     day -1     day 0                                                    \n1124198 2011-05-05 2011-05-06   0.024651  -0.021480  -0.018665   0.008205   \n        2018-08-02 2018-08-03   0.090653   0.092561  -0.084562  -0.267086   \n        2017-11-01 2017-11-02   0.053419   0.108274   0.281696   0.228015   \n        2007-12-20 2007-12-21   0.058080  -0.109195   0.028284   0.124859   \n1357615 2011-05-23 2011-05-24   0.072612   0.082550  -0.090431  -0.172019   \n\n                               120d - MKT    IDT  10d - IDT  30d - IDT  \\\nCIK     day -1     day 0                                                 \n1124198 2011-05-05 2011-05-06   -0.067233  Cnstr   0.035199   0.010634   \n        2018-08-02 2018-08-03   -0.222790  Cnstr   0.099724   0.119780   \n        2017-11-01 2017-11-02    0.324636  Cnstr   0.048044   0.077278   \n        2007-12-20 2007-12-21    0.399727  Cnstr   0.113669  -0.104134   \n1357615 2011-05-23 2011-05-24   -0.136328  Cnstr   0.075575   0.085043   \n\n                               60d - IDT  90d - IDT  120d - IDT  \nCIK     day -1     day 0                                         \n1124198 2011-05-05 2011-05-06   0.048044   0.115567    0.033915  \n        2018-08-02 2018-08-03  -0.001168  -0.174987   -0.171399  \n        2017-11-01 2017-11-02   0.300239   0.301158    0.368217  \n        2007-12-20 2007-12-21   0.030115   0.092503    0.321715  \n1357615 2011-05-23 2011-05-24   0.012817  -0.035118   -0.040436  ",
      "text/html": "<div>\n<style scoped>\n    .dataframe tbody tr th:only-of-type {\n        vertical-align: middle;\n    }\n\n    .dataframe tbody tr th {\n        vertical-align: top;\n    }\n\n    .dataframe thead th {\n        text-align: right;\n    }\n</style>\n<table border=\"1\" class=\"dataframe\">\n  <thead>\n    <tr style=\"text-align: right;\">\n      <th></th>\n      <th></th>\n      <th></th>\n      <th>R</th>\n      <th>MKT</th>\n      <th>R - MKT</th>\n      <th>vol</th>\n      <th>EA</th>\n      <th>10d - MKT</th>\n      <th>30d - MKT</th>\n      <th>60d - MKT</th>\n      <th>90d - MKT</th>\n      <th>120d - MKT</th>\n      <th>IDT</th>\n      <th>10d - IDT</th>\n      <th>30d - IDT</th>\n      <th>60d - IDT</th>\n      <th>90d - IDT</th>\n      <th>120d - IDT</th>\n    </tr>\n    <tr>\n      <th>CIK</th>\n      <th>day -1</th>\n      <th>day 0</th>\n      <th></th>\n      <th></th>\n      <th></th>\n      <th></th>\n      <th></th>\n      <th></th>\n      <th></th>\n      <th></th>\n      <th></th>\n      <th></th>\n      <th></th>\n      <th></th>\n      <th></th>\n      <th></th>\n      <th></th>\n      <th></th>\n    </tr>\n  </thead>\n  <tbody>\n    <tr>\n      <th rowspan=\"4\" valign=\"top\">1124198</th>\n      <th>2011-05-05</th>\n      <th>2011-05-06</th>\n      <td>1.099406</td>\n      <td>1.010125</td>\n      <td>0.089281</td>\n      <td>0.998076</td>\n      <td>-1.0</td>\n      <td>0.024651</td>\n      <td>-0.021480</td>\n      <td>-0.018665</td>\n      <td>0.008205</td>\n      <td>-0.067233</td>\n      <td>Cnstr</td>\n      <td>0.035199</td>\n      <td>0.010634</td>\n      <td>0.048044</td>\n      <td>0.115567</td>\n      <td>0.033915</td>\n    </tr>\n    <tr>\n      <th>2018-08-02</th>\n      <th>2018-08-03</th>\n      <td>1.088781</td>\n      <td>1.007714</td>\n      <td>0.081067</td>\n      <td>0.732614</td>\n      <td>-1.0</td>\n      <td>0.090653</td>\n      <td>0.092561</td>\n      <td>-0.084562</td>\n      <td>-0.267086</td>\n      <td>-0.222790</td>\n      <td>Cnstr</td>\n      <td>0.099724</td>\n      <td>0.119780</td>\n      <td>-0.001168</td>\n      <td>-0.174987</td>\n      <td>-0.171399</td>\n    </tr>\n    <tr>\n      <th>2017-11-01</th>\n      <th>2017-11-02</th>\n      <td>1.066454</td>\n      <td>1.003702</td>\n      <td>0.062752</td>\n      <td>0.645956</td>\n      <td>0.0</td>\n      <td>0.053419</td>\n      <td>0.108274</td>\n      <td>0.281696</td>\n      <td>0.228015</td>\n      <td>0.324636</td>\n      <td>Cnstr</td>\n      <td>0.048044</td>\n      <td>0.077278</td>\n      <td>0.300239</td>\n      <td>0.301158</td>\n      <td>0.368217</td>\n    </tr>\n    <tr>\n      <th>2007-12-20</th>\n      <th>2007-12-21</th>\n      <td>1.044484</td>\n      <td>1.024531</td>\n      <td>0.019953</td>\n      <td>1.135959</td>\n      <td>NaN</td>\n      <td>0.058080</td>\n      <td>-0.109195</td>\n      <td>0.028284</td>\n      <td>0.124859</td>\n      <td>0.399727</td>\n      <td>Cnstr</td>\n      <td>0.113669</td>\n      <td>-0.104134</td>\n      <td>0.030115</td>\n      <td>0.092503</td>\n      <td>0.321715</td>\n    </tr>\n    <tr>\n      <th>1357615</th>\n      <th>2011-05-23</th>\n      <th>2011-05-24</th>\n      <td>1.039493</td>\n      <td>1.003094</td>\n      <td>0.036399</td>\n      <td>0.633402</td>\n      <td>NaN</td>\n      <td>0.072612</td>\n      <td>0.082550</td>\n      <td>-0.090431</td>\n      <td>-0.172019</td>\n      <td>-0.136328</td>\n      <td>Cnstr</td>\n      <td>0.075575</td>\n      <td>0.085043</td>\n      <td>0.012817</td>\n      <td>-0.035118</td>\n      <td>-0.040436</td>\n    </tr>\n  </tbody>\n</table>\n</div>"
     },
     "metadata": {}
    },
    {
     "output_type": "stream",
     "name": "stdout",
     "text": "Manufacturing\n1255/1493 price history generated from wrds/crsp\n35/38 price history generated from yahoo finance\n1426/1493 earnings call date checked\n"
    },
    {
     "output_type": "display_data",
     "data": {
      "text/plain": "                                      R       MKT   R - MKT        vol   EA  \\\nCIK     day -1     day 0                                                      \n1609351 2019-02-22 2019-02-25  2.200349  0.999898  1.200451  14.623877  NaN   \n1651235 2018-10-31 2018-11-01  1.298230  1.007532  0.290699   0.963224  0.0   \n1408356 2013-10-09 2013-10-10  1.270602  1.029558  0.241044   1.004837  NaN   \n1307954 2007-06-22 2007-06-25  1.263570  0.992614  0.270956   0.797463  NaN   \n1644440 2017-03-01 2017-03-02  1.252372  0.993894  0.258478   1.223336  0.0   \n\n                               10d - MKT  30d - MKT  60d - MKT  90d - MKT  \\\nCIK     day -1     day 0                                                    \n1609351 2019-02-22 2019-02-25   1.216740   1.157118   1.096636   0.926713   \n1651235 2018-10-31 2018-11-01   0.296933   0.222800   0.264915   0.530810   \n1408356 2013-10-09 2013-10-10   0.572390   0.209710   0.598241   0.911686   \n1307954 2007-06-22 2007-06-25   0.441180   0.323961   0.369590   0.354159   \n1644440 2017-03-01 2017-03-02   0.279218   0.275653   0.160194   0.146840   \n\n                               120d - MKT    IDT  10d - IDT  30d - IDT  \\\nCIK     day -1     day 0                                                 \n1609351 2019-02-22 2019-02-25    0.939200  Drugs   1.212526   1.169531   \n1651235 2018-10-31 2018-11-01    0.611571  Chips   0.352335   0.298457   \n1408356 2013-10-09 2013-10-10    0.478406  ElcEq   0.553421   0.192517   \n1307954 2007-06-22 2007-06-25    0.303165  Chems   0.433709   0.300424   \n1644440 2017-03-01 2017-03-02    0.067871  Chems   0.277260   0.268150   \n\n                               60d - IDT  90d - IDT  120d - IDT  \nCIK     day -1     day 0                                         \n1609351 2019-02-22 2019-02-25   1.140298   0.961948    0.988350  \n1651235 2018-10-31 2018-11-01   0.373217   0.582045    0.626957  \n1408356 2013-10-09 2013-10-10   0.575646   0.906874    0.454753  \n1307954 2007-06-22 2007-06-25   0.322982   0.274751    0.175078  \n1644440 2017-03-01 2017-03-02   0.157853   0.115911    0.051608  ",
      "text/html": "<div>\n<style scoped>\n    .dataframe tbody tr th:only-of-type {\n        vertical-align: middle;\n    }\n\n    .dataframe tbody tr th {\n        vertical-align: top;\n    }\n\n    .dataframe thead th {\n        text-align: right;\n    }\n</style>\n<table border=\"1\" class=\"dataframe\">\n  <thead>\n    <tr style=\"text-align: right;\">\n      <th></th>\n      <th></th>\n      <th></th>\n      <th>R</th>\n      <th>MKT</th>\n      <th>R - MKT</th>\n      <th>vol</th>\n      <th>EA</th>\n      <th>10d - MKT</th>\n      <th>30d - MKT</th>\n      <th>60d - MKT</th>\n      <th>90d - MKT</th>\n      <th>120d - MKT</th>\n      <th>IDT</th>\n      <th>10d - IDT</th>\n      <th>30d - IDT</th>\n      <th>60d - IDT</th>\n      <th>90d - IDT</th>\n      <th>120d - IDT</th>\n    </tr>\n    <tr>\n      <th>CIK</th>\n      <th>day -1</th>\n      <th>day 0</th>\n      <th></th>\n      <th></th>\n      <th></th>\n      <th></th>\n      <th></th>\n      <th></th>\n      <th></th>\n      <th></th>\n      <th></th>\n      <th></th>\n      <th></th>\n      <th></th>\n      <th></th>\n      <th></th>\n      <th></th>\n      <th></th>\n    </tr>\n  </thead>\n  <tbody>\n    <tr>\n      <th>1609351</th>\n      <th>2019-02-22</th>\n      <th>2019-02-25</th>\n      <td>2.200349</td>\n      <td>0.999898</td>\n      <td>1.200451</td>\n      <td>14.623877</td>\n      <td>NaN</td>\n      <td>1.216740</td>\n      <td>1.157118</td>\n      <td>1.096636</td>\n      <td>0.926713</td>\n      <td>0.939200</td>\n      <td>Drugs</td>\n      <td>1.212526</td>\n      <td>1.169531</td>\n      <td>1.140298</td>\n      <td>0.961948</td>\n      <td>0.988350</td>\n    </tr>\n    <tr>\n      <th>1651235</th>\n      <th>2018-10-31</th>\n      <th>2018-11-01</th>\n      <td>1.298230</td>\n      <td>1.007532</td>\n      <td>0.290699</td>\n      <td>0.963224</td>\n      <td>0.0</td>\n      <td>0.296933</td>\n      <td>0.222800</td>\n      <td>0.264915</td>\n      <td>0.530810</td>\n      <td>0.611571</td>\n      <td>Chips</td>\n      <td>0.352335</td>\n      <td>0.298457</td>\n      <td>0.373217</td>\n      <td>0.582045</td>\n      <td>0.626957</td>\n    </tr>\n    <tr>\n      <th>1408356</th>\n      <th>2013-10-09</th>\n      <th>2013-10-10</th>\n      <td>1.270602</td>\n      <td>1.029558</td>\n      <td>0.241044</td>\n      <td>1.004837</td>\n      <td>NaN</td>\n      <td>0.572390</td>\n      <td>0.209710</td>\n      <td>0.598241</td>\n      <td>0.911686</td>\n      <td>0.478406</td>\n      <td>ElcEq</td>\n      <td>0.553421</td>\n      <td>0.192517</td>\n      <td>0.575646</td>\n      <td>0.906874</td>\n      <td>0.454753</td>\n    </tr>\n    <tr>\n      <th>1307954</th>\n      <th>2007-06-22</th>\n      <th>2007-06-25</th>\n      <td>1.263570</td>\n      <td>0.992614</td>\n      <td>0.270956</td>\n      <td>0.797463</td>\n      <td>NaN</td>\n      <td>0.441180</td>\n      <td>0.323961</td>\n      <td>0.369590</td>\n      <td>0.354159</td>\n      <td>0.303165</td>\n      <td>Chems</td>\n      <td>0.433709</td>\n      <td>0.300424</td>\n      <td>0.322982</td>\n      <td>0.274751</td>\n      <td>0.175078</td>\n    </tr>\n    <tr>\n      <th>1644440</th>\n      <th>2017-03-01</th>\n      <th>2017-03-02</th>\n      <td>1.252372</td>\n      <td>0.993894</td>\n      <td>0.258478</td>\n      <td>1.223336</td>\n      <td>0.0</td>\n      <td>0.279218</td>\n      <td>0.275653</td>\n      <td>0.160194</td>\n      <td>0.146840</td>\n      <td>0.067871</td>\n      <td>Chems</td>\n      <td>0.277260</td>\n      <td>0.268150</td>\n      <td>0.157853</td>\n      <td>0.115911</td>\n      <td>0.051608</td>\n    </tr>\n  </tbody>\n</table>\n</div>"
     },
     "metadata": {}
    },
    {
     "output_type": "stream",
     "name": "stdout",
     "text": "Wholesale Trade\n110/138 price history generated from wrds/crsp\n6/9 price history generated from yahoo finance\n131/138 earnings call date checked\n"
    },
    {
     "output_type": "display_data",
     "data": {
      "text/plain": "                                      R       MKT   R - MKT       vol   EA  \\\nCIK     day -1     day 0                                                     \n1599617 2018-04-30 2018-05-01  1.140973  0.996085  0.144888  0.932640  1.0   \n1600438 2018-10-31 2018-11-01  1.097324  1.007532  0.089792  1.041496  NaN   \n        2017-09-05 2017-09-06  1.087299  1.002098  0.085201  1.399358  0.0   \n1577916 2019-05-03 2019-05-06  1.073448  0.979266  0.094182  1.255155  1.0   \n1439095 2019-11-01 2019-11-04  1.065714  1.003699  0.062015  3.113164  NaN   \n\n                               10d - MKT  30d - MKT  60d - MKT  90d - MKT  \\\nCIK     day -1     day 0                                                    \n1599617 2018-04-30 2018-05-01   0.177810   0.071230   0.112703   0.214043   \n1600438 2018-10-31 2018-11-01   0.055843   0.068865   0.154118  -0.035835   \n        2017-09-05 2017-09-06   0.061910   0.020853   0.088609   0.041597   \n1577916 2019-05-03 2019-05-06   0.137516   0.093999   0.123177   0.009525   \n1439095 2019-11-01 2019-11-04  -0.024029  -0.052104  -0.250738  -0.486794   \n\n                               120d - MKT    IDT  10d - IDT  30d - IDT  \\\nCIK     day -1     day 0                                                 \n1599617 2018-04-30 2018-05-01    0.197159  Whlsl   0.191633   0.076755   \n1600438 2018-10-31 2018-11-01   -0.007173  Whlsl   0.041430   0.067204   \n        2017-09-05 2017-09-06   -0.141990  Whlsl   0.057446   0.001018   \n1577916 2019-05-03 2019-05-06   -0.031747  Whlsl   0.122555   0.093334   \n1439095 2019-11-01 2019-11-04   -0.618368  Whlsl  -0.026529  -0.041332   \n\n                               60d - IDT  90d - IDT  120d - IDT  \nCIK     day -1     day 0                                         \n1599617 2018-04-30 2018-05-01   0.130991   0.227192    0.238419  \n1600438 2018-10-31 2018-11-01   0.154808  -0.016800    0.013969  \n        2017-09-05 2017-09-06   0.091634   0.002543   -0.144197  \n1577916 2019-05-03 2019-05-06   0.125267  -0.025996   -0.093437  \n1439095 2019-11-01 2019-11-04  -0.207100  -0.412566   -0.525778  ",
      "text/html": "<div>\n<style scoped>\n    .dataframe tbody tr th:only-of-type {\n        vertical-align: middle;\n    }\n\n    .dataframe tbody tr th {\n        vertical-align: top;\n    }\n\n    .dataframe thead th {\n        text-align: right;\n    }\n</style>\n<table border=\"1\" class=\"dataframe\">\n  <thead>\n    <tr style=\"text-align: right;\">\n      <th></th>\n      <th></th>\n      <th></th>\n      <th>R</th>\n      <th>MKT</th>\n      <th>R - MKT</th>\n      <th>vol</th>\n      <th>EA</th>\n      <th>10d - MKT</th>\n      <th>30d - MKT</th>\n      <th>60d - MKT</th>\n      <th>90d - MKT</th>\n      <th>120d - MKT</th>\n      <th>IDT</th>\n      <th>10d - IDT</th>\n      <th>30d - IDT</th>\n      <th>60d - IDT</th>\n      <th>90d - IDT</th>\n      <th>120d - IDT</th>\n    </tr>\n    <tr>\n      <th>CIK</th>\n      <th>day -1</th>\n      <th>day 0</th>\n      <th></th>\n      <th></th>\n      <th></th>\n      <th></th>\n      <th></th>\n      <th></th>\n      <th></th>\n      <th></th>\n      <th></th>\n      <th></th>\n      <th></th>\n      <th></th>\n      <th></th>\n      <th></th>\n      <th></th>\n      <th></th>\n    </tr>\n  </thead>\n  <tbody>\n    <tr>\n      <th>1599617</th>\n      <th>2018-04-30</th>\n      <th>2018-05-01</th>\n      <td>1.140973</td>\n      <td>0.996085</td>\n      <td>0.144888</td>\n      <td>0.932640</td>\n      <td>1.0</td>\n      <td>0.177810</td>\n      <td>0.071230</td>\n      <td>0.112703</td>\n      <td>0.214043</td>\n      <td>0.197159</td>\n      <td>Whlsl</td>\n      <td>0.191633</td>\n      <td>0.076755</td>\n      <td>0.130991</td>\n      <td>0.227192</td>\n      <td>0.238419</td>\n    </tr>\n    <tr>\n      <th rowspan=\"2\" valign=\"top\">1600438</th>\n      <th>2018-10-31</th>\n      <th>2018-11-01</th>\n      <td>1.097324</td>\n      <td>1.007532</td>\n      <td>0.089792</td>\n      <td>1.041496</td>\n      <td>NaN</td>\n      <td>0.055843</td>\n      <td>0.068865</td>\n      <td>0.154118</td>\n      <td>-0.035835</td>\n      <td>-0.007173</td>\n      <td>Whlsl</td>\n      <td>0.041430</td>\n      <td>0.067204</td>\n      <td>0.154808</td>\n      <td>-0.016800</td>\n      <td>0.013969</td>\n    </tr>\n    <tr>\n      <th>2017-09-05</th>\n      <th>2017-09-06</th>\n      <td>1.087299</td>\n      <td>1.002098</td>\n      <td>0.085201</td>\n      <td>1.399358</td>\n      <td>0.0</td>\n      <td>0.061910</td>\n      <td>0.020853</td>\n      <td>0.088609</td>\n      <td>0.041597</td>\n      <td>-0.141990</td>\n      <td>Whlsl</td>\n      <td>0.057446</td>\n      <td>0.001018</td>\n      <td>0.091634</td>\n      <td>0.002543</td>\n      <td>-0.144197</td>\n    </tr>\n    <tr>\n      <th>1577916</th>\n      <th>2019-05-03</th>\n      <th>2019-05-06</th>\n      <td>1.073448</td>\n      <td>0.979266</td>\n      <td>0.094182</td>\n      <td>1.255155</td>\n      <td>1.0</td>\n      <td>0.137516</td>\n      <td>0.093999</td>\n      <td>0.123177</td>\n      <td>0.009525</td>\n      <td>-0.031747</td>\n      <td>Whlsl</td>\n      <td>0.122555</td>\n      <td>0.093334</td>\n      <td>0.125267</td>\n      <td>-0.025996</td>\n      <td>-0.093437</td>\n    </tr>\n    <tr>\n      <th>1439095</th>\n      <th>2019-11-01</th>\n      <th>2019-11-04</th>\n      <td>1.065714</td>\n      <td>1.003699</td>\n      <td>0.062015</td>\n      <td>3.113164</td>\n      <td>NaN</td>\n      <td>-0.024029</td>\n      <td>-0.052104</td>\n      <td>-0.250738</td>\n      <td>-0.486794</td>\n      <td>-0.618368</td>\n      <td>Whlsl</td>\n      <td>-0.026529</td>\n      <td>-0.041332</td>\n      <td>-0.207100</td>\n      <td>-0.412566</td>\n      <td>-0.525778</td>\n    </tr>\n  </tbody>\n</table>\n</div>"
     },
     "metadata": {}
    },
    {
     "output_type": "stream",
     "name": "stdout",
     "text": "Retail Trade\n89/110 price history generated from wrds/crsp\n2/3 price history generated from yahoo finance\n108/110 earnings call date checked\n"
    },
    {
     "output_type": "display_data",
     "data": {
      "text/plain": "                                      R       MKT   R - MKT       vol   EA  \\\nCIK     day -1     day 0                                                     \n1610092 2015-02-25 2015-02-26  1.175549  0.995603  0.179946  0.723223  NaN   \n1419852 2012-04-09 2012-04-10  1.120448  0.989843  0.130605  2.879444  0.0   \n        2014-09-03 2014-09-04  1.118817  1.002792  0.116025  0.988721  0.0   \n1326380 2014-03-27 2014-03-28  1.100991  1.013840  0.087151  1.802533 -1.0   \n1573516 2014-05-08 2014-05-09  1.080788  1.014530  0.066258  2.680823  NaN   \n\n                               10d - MKT  30d - MKT  60d - MKT  90d - MKT  \\\nCIK     day -1     day 0                                                    \n1610092 2015-02-25 2015-02-26   0.117126   0.360446   0.515172   0.772516   \n1419852 2012-04-09 2012-04-10   0.053594  -0.136273  -0.155651  -0.240349   \n        2014-09-03 2014-09-04   0.098575   0.080260   0.218416   0.029966   \n1326380 2014-03-27 2014-03-28   0.106909  -0.032187   0.026252   0.077953   \n1573516 2014-05-08 2014-05-09   0.096363   0.039558   0.054836   0.140927   \n\n                               120d - MKT    IDT  10d - IDT  30d - IDT  \\\nCIK     day -1     day 0                                                 \n1610092 2015-02-25 2015-02-26    0.783683  Rtail   0.098042   0.343004   \n1419852 2012-04-09 2012-04-10   -0.328553  Rtail   0.057331  -0.176997   \n        2014-09-03 2014-09-04    0.006900  Rtail   0.097472   0.053115   \n1326380 2014-03-27 2014-03-28    0.098100  Rtail   0.108637  -0.020408   \n1573516 2014-05-08 2014-05-09    0.196630  Rtail   0.103535   0.062977   \n\n                               60d - IDT  90d - IDT  120d - IDT  \nCIK     day -1     day 0                                         \n1610092 2015-02-25 2015-02-26   0.529354   0.765857    0.744885  \n1419852 2012-04-09 2012-04-10  -0.211952  -0.301462   -0.400938  \n        2014-09-03 2014-09-04   0.140398  -0.084956   -0.123682  \n1326380 2014-03-27 2014-03-28   0.066689   0.116497    0.126109  \n1573516 2014-05-08 2014-05-09   0.073018   0.143771    0.188680  ",
      "text/html": "<div>\n<style scoped>\n    .dataframe tbody tr th:only-of-type {\n        vertical-align: middle;\n    }\n\n    .dataframe tbody tr th {\n        vertical-align: top;\n    }\n\n    .dataframe thead th {\n        text-align: right;\n    }\n</style>\n<table border=\"1\" class=\"dataframe\">\n  <thead>\n    <tr style=\"text-align: right;\">\n      <th></th>\n      <th></th>\n      <th></th>\n      <th>R</th>\n      <th>MKT</th>\n      <th>R - MKT</th>\n      <th>vol</th>\n      <th>EA</th>\n      <th>10d - MKT</th>\n      <th>30d - MKT</th>\n      <th>60d - MKT</th>\n      <th>90d - MKT</th>\n      <th>120d - MKT</th>\n      <th>IDT</th>\n      <th>10d - IDT</th>\n      <th>30d - IDT</th>\n      <th>60d - IDT</th>\n      <th>90d - IDT</th>\n      <th>120d - IDT</th>\n    </tr>\n    <tr>\n      <th>CIK</th>\n      <th>day -1</th>\n      <th>day 0</th>\n      <th></th>\n      <th></th>\n      <th></th>\n      <th></th>\n      <th></th>\n      <th></th>\n      <th></th>\n      <th></th>\n      <th></th>\n      <th></th>\n      <th></th>\n      <th></th>\n      <th></th>\n      <th></th>\n      <th></th>\n      <th></th>\n    </tr>\n  </thead>\n  <tbody>\n    <tr>\n      <th>1610092</th>\n      <th>2015-02-25</th>\n      <th>2015-02-26</th>\n      <td>1.175549</td>\n      <td>0.995603</td>\n      <td>0.179946</td>\n      <td>0.723223</td>\n      <td>NaN</td>\n      <td>0.117126</td>\n      <td>0.360446</td>\n      <td>0.515172</td>\n      <td>0.772516</td>\n      <td>0.783683</td>\n      <td>Rtail</td>\n      <td>0.098042</td>\n      <td>0.343004</td>\n      <td>0.529354</td>\n      <td>0.765857</td>\n      <td>0.744885</td>\n    </tr>\n    <tr>\n      <th rowspan=\"2\" valign=\"top\">1419852</th>\n      <th>2012-04-09</th>\n      <th>2012-04-10</th>\n      <td>1.120448</td>\n      <td>0.989843</td>\n      <td>0.130605</td>\n      <td>2.879444</td>\n      <td>0.0</td>\n      <td>0.053594</td>\n      <td>-0.136273</td>\n      <td>-0.155651</td>\n      <td>-0.240349</td>\n      <td>-0.328553</td>\n      <td>Rtail</td>\n      <td>0.057331</td>\n      <td>-0.176997</td>\n      <td>-0.211952</td>\n      <td>-0.301462</td>\n      <td>-0.400938</td>\n    </tr>\n    <tr>\n      <th>2014-09-03</th>\n      <th>2014-09-04</th>\n      <td>1.118817</td>\n      <td>1.002792</td>\n      <td>0.116025</td>\n      <td>0.988721</td>\n      <td>0.0</td>\n      <td>0.098575</td>\n      <td>0.080260</td>\n      <td>0.218416</td>\n      <td>0.029966</td>\n      <td>0.006900</td>\n      <td>Rtail</td>\n      <td>0.097472</td>\n      <td>0.053115</td>\n      <td>0.140398</td>\n      <td>-0.084956</td>\n      <td>-0.123682</td>\n    </tr>\n    <tr>\n      <th>1326380</th>\n      <th>2014-03-27</th>\n      <th>2014-03-28</th>\n      <td>1.100991</td>\n      <td>1.013840</td>\n      <td>0.087151</td>\n      <td>1.802533</td>\n      <td>-1.0</td>\n      <td>0.106909</td>\n      <td>-0.032187</td>\n      <td>0.026252</td>\n      <td>0.077953</td>\n      <td>0.098100</td>\n      <td>Rtail</td>\n      <td>0.108637</td>\n      <td>-0.020408</td>\n      <td>0.066689</td>\n      <td>0.116497</td>\n      <td>0.126109</td>\n    </tr>\n    <tr>\n      <th>1573516</th>\n      <th>2014-05-08</th>\n      <th>2014-05-09</th>\n      <td>1.080788</td>\n      <td>1.014530</td>\n      <td>0.066258</td>\n      <td>2.680823</td>\n      <td>NaN</td>\n      <td>0.096363</td>\n      <td>0.039558</td>\n      <td>0.054836</td>\n      <td>0.140927</td>\n      <td>0.196630</td>\n      <td>Rtail</td>\n      <td>0.103535</td>\n      <td>0.062977</td>\n      <td>0.073018</td>\n      <td>0.143771</td>\n      <td>0.188680</td>\n    </tr>\n  </tbody>\n</table>\n</div>"
     },
     "metadata": {}
    },
    {
     "output_type": "stream",
     "name": "stdout",
     "text": "Transportation and Warehousing\n54/66 price history generated from wrds/crsp\n2/4 price history generated from yahoo finance\n62/66 earnings call date checked\n"
    },
    {
     "output_type": "display_data",
     "data": {
      "text/plain": "                                      R       MKT   R - MKT       vol   EA  \\\nCIK     day -1     day 0                                                     \n1614436 2016-04-01 2016-04-04  1.417224  0.986539  0.430685  8.205060  NaN   \n1090727 2019-07-23 2019-07-24  1.123302  1.000258  0.123044  2.575551  0.0   \n1066107 2011-05-23 2011-05-24  1.112223  1.003094  0.109130  1.161312  NaN   \n1492691 2011-10-26 2011-10-27  1.088506  1.035296  0.053209  1.765881 -1.0   \n1066107 2006-02-15 2006-02-16  1.087237  1.005888  0.081349  1.073787  NaN   \n\n                               10d - MKT  30d - MKT  60d - MKT  90d - MKT  \\\nCIK     day -1     day 0                                                    \n1614436 2016-04-01 2016-04-04   0.409342   0.426455   0.453040   0.374042   \n1090727 2019-07-23 2019-07-24   0.139655   0.178210   0.145649   0.115991   \n1066107 2011-05-23 2011-05-24   0.081006   0.052069   0.075378   0.067775   \n1492691 2011-10-26 2011-10-27  -0.008496   0.075568   0.158265   0.153678   \n1066107 2006-02-15 2006-02-16   0.040513  -0.042451   0.186511   0.243662   \n\n                               120d - MKT    IDT  10d - IDT  30d - IDT  \\\nCIK     day -1     day 0                                                 \n1614436 2016-04-01 2016-04-04    0.294909  Trans   0.403695   0.469186   \n1090727 2019-07-23 2019-07-24    0.044136  Trans   0.141215   0.211594   \n1066107 2011-05-23 2011-05-24    0.347933   Util   0.064039   0.060756   \n1492691 2011-10-26 2011-10-27    0.036359  Trans  -0.014349   0.055254   \n1066107 2006-02-15 2006-02-16    0.225207   Util   0.026419  -0.014493   \n\n                               60d - IDT  90d - IDT  120d - IDT  \nCIK     day -1     day 0                                         \n1614436 2016-04-01 2016-04-04   0.523974   0.440882    0.345429  \n1090727 2019-07-23 2019-07-24   0.185251   0.179604    0.125693  \n1066107 2011-05-23 2011-05-24  -0.025865  -0.069833    0.235496  \n1492691 2011-10-26 2011-10-27   0.126347   0.178767    0.054647  \n1066107 2006-02-15 2006-02-16   0.185447   0.176198    0.094655  ",
      "text/html": "<div>\n<style scoped>\n    .dataframe tbody tr th:only-of-type {\n        vertical-align: middle;\n    }\n\n    .dataframe tbody tr th {\n        vertical-align: top;\n    }\n\n    .dataframe thead th {\n        text-align: right;\n    }\n</style>\n<table border=\"1\" class=\"dataframe\">\n  <thead>\n    <tr style=\"text-align: right;\">\n      <th></th>\n      <th></th>\n      <th></th>\n      <th>R</th>\n      <th>MKT</th>\n      <th>R - MKT</th>\n      <th>vol</th>\n      <th>EA</th>\n      <th>10d - MKT</th>\n      <th>30d - MKT</th>\n      <th>60d - MKT</th>\n      <th>90d - MKT</th>\n      <th>120d - MKT</th>\n      <th>IDT</th>\n      <th>10d - IDT</th>\n      <th>30d - IDT</th>\n      <th>60d - IDT</th>\n      <th>90d - IDT</th>\n      <th>120d - IDT</th>\n    </tr>\n    <tr>\n      <th>CIK</th>\n      <th>day -1</th>\n      <th>day 0</th>\n      <th></th>\n      <th></th>\n      <th></th>\n      <th></th>\n      <th></th>\n      <th></th>\n      <th></th>\n      <th></th>\n      <th></th>\n      <th></th>\n      <th></th>\n      <th></th>\n      <th></th>\n      <th></th>\n      <th></th>\n      <th></th>\n    </tr>\n  </thead>\n  <tbody>\n    <tr>\n      <th>1614436</th>\n      <th>2016-04-01</th>\n      <th>2016-04-04</th>\n      <td>1.417224</td>\n      <td>0.986539</td>\n      <td>0.430685</td>\n      <td>8.205060</td>\n      <td>NaN</td>\n      <td>0.409342</td>\n      <td>0.426455</td>\n      <td>0.453040</td>\n      <td>0.374042</td>\n      <td>0.294909</td>\n      <td>Trans</td>\n      <td>0.403695</td>\n      <td>0.469186</td>\n      <td>0.523974</td>\n      <td>0.440882</td>\n      <td>0.345429</td>\n    </tr>\n    <tr>\n      <th>1090727</th>\n      <th>2019-07-23</th>\n      <th>2019-07-24</th>\n      <td>1.123302</td>\n      <td>1.000258</td>\n      <td>0.123044</td>\n      <td>2.575551</td>\n      <td>0.0</td>\n      <td>0.139655</td>\n      <td>0.178210</td>\n      <td>0.145649</td>\n      <td>0.115991</td>\n      <td>0.044136</td>\n      <td>Trans</td>\n      <td>0.141215</td>\n      <td>0.211594</td>\n      <td>0.185251</td>\n      <td>0.179604</td>\n      <td>0.125693</td>\n    </tr>\n    <tr>\n      <th>1066107</th>\n      <th>2011-05-23</th>\n      <th>2011-05-24</th>\n      <td>1.112223</td>\n      <td>1.003094</td>\n      <td>0.109130</td>\n      <td>1.161312</td>\n      <td>NaN</td>\n      <td>0.081006</td>\n      <td>0.052069</td>\n      <td>0.075378</td>\n      <td>0.067775</td>\n      <td>0.347933</td>\n      <td>Util</td>\n      <td>0.064039</td>\n      <td>0.060756</td>\n      <td>-0.025865</td>\n      <td>-0.069833</td>\n      <td>0.235496</td>\n    </tr>\n    <tr>\n      <th>1492691</th>\n      <th>2011-10-26</th>\n      <th>2011-10-27</th>\n      <td>1.088506</td>\n      <td>1.035296</td>\n      <td>0.053209</td>\n      <td>1.765881</td>\n      <td>-1.0</td>\n      <td>-0.008496</td>\n      <td>0.075568</td>\n      <td>0.158265</td>\n      <td>0.153678</td>\n      <td>0.036359</td>\n      <td>Trans</td>\n      <td>-0.014349</td>\n      <td>0.055254</td>\n      <td>0.126347</td>\n      <td>0.178767</td>\n      <td>0.054647</td>\n    </tr>\n    <tr>\n      <th>1066107</th>\n      <th>2006-02-15</th>\n      <th>2006-02-16</th>\n      <td>1.087237</td>\n      <td>1.005888</td>\n      <td>0.081349</td>\n      <td>1.073787</td>\n      <td>NaN</td>\n      <td>0.040513</td>\n      <td>-0.042451</td>\n      <td>0.186511</td>\n      <td>0.243662</td>\n      <td>0.225207</td>\n      <td>Util</td>\n      <td>0.026419</td>\n      <td>-0.014493</td>\n      <td>0.185447</td>\n      <td>0.176198</td>\n      <td>0.094655</td>\n    </tr>\n  </tbody>\n</table>\n</div>"
     },
     "metadata": {}
    },
    {
     "output_type": "stream",
     "name": "stdout",
     "text": "Information\n509/605 price history generated from wrds/crsp\n22/25 price history generated from yahoo finance\n582/605 earnings call date checked\n"
    },
    {
     "output_type": "display_data",
     "data": {
      "text/plain": "                                      R       MKT   R - MKT       vol   EA  \\\nCIK     day -1     day 0                                                     \n732712  2008-10-24 2008-10-27  1.261962  1.060817  0.201144  1.075221  0.0   \n1265888 2016-12-13 2016-12-14  1.193490  0.996362  0.197128  1.187609  NaN   \n1101215 2001-09-21 2001-09-24  1.192500  1.045883  0.146617  0.592770  NaN   \n1108524 2005-05-18 2005-05-19  1.167298  1.003394  0.163904  0.865111 -1.0   \n1091667 2019-01-29 2019-01-30  1.142418  1.024439  0.117979  0.842350  1.0   \n\n                               10d - MKT  30d - MKT  60d - MKT  90d - MKT  \\\nCIK     day -1     day 0                                                    \n732712  2008-10-24 2008-10-27   0.166284   0.314378   0.253500   0.254809   \n1265888 2016-12-13 2016-12-14   0.217124   0.199269   0.159023   0.145848   \n1101215 2001-09-21 2001-09-24   0.100957   0.171110   0.244513   0.573618   \n1108524 2005-05-18 2005-05-19   0.284605   0.215336   0.346934   0.454717   \n1091667 2019-01-29 2019-01-30   0.123041   0.153296   0.166087   0.278803   \n\n                               120d - MKT    IDT  10d - IDT  30d - IDT  \\\nCIK     day -1     day 0                                                 \n732712  2008-10-24 2008-10-27    0.237681  Telcm   0.109915   0.193301   \n1265888 2016-12-13 2016-12-14    0.119249  Telcm   0.188456   0.156023   \n1101215 2001-09-21 2001-09-24    0.714595  BusSv   0.113972   0.119950   \n1108524 2005-05-18 2005-05-19    0.619560  Softw   0.287232   0.245046   \n1091667 2019-01-29 2019-01-30    0.276760  Telcm   0.151610   0.159019   \n\n                               60d - IDT  90d - IDT  120d - IDT  \nCIK     day -1     day 0                                         \n732712  2008-10-24 2008-10-27   0.153130   0.171887    0.131650  \n1265888 2016-12-13 2016-12-14   0.149112   0.135003    0.168279  \n1101215 2001-09-21 2001-09-24   0.133151   0.590996    0.714110  \n1108524 2005-05-18 2005-05-19   0.342504   0.461134    0.561600  \n1091667 2019-01-29 2019-01-30   0.160757   0.246316    0.250667  ",
      "text/html": "<div>\n<style scoped>\n    .dataframe tbody tr th:only-of-type {\n        vertical-align: middle;\n    }\n\n    .dataframe tbody tr th {\n        vertical-align: top;\n    }\n\n    .dataframe thead th {\n        text-align: right;\n    }\n</style>\n<table border=\"1\" class=\"dataframe\">\n  <thead>\n    <tr style=\"text-align: right;\">\n      <th></th>\n      <th></th>\n      <th></th>\n      <th>R</th>\n      <th>MKT</th>\n      <th>R - MKT</th>\n      <th>vol</th>\n      <th>EA</th>\n      <th>10d - MKT</th>\n      <th>30d - MKT</th>\n      <th>60d - MKT</th>\n      <th>90d - MKT</th>\n      <th>120d - MKT</th>\n      <th>IDT</th>\n      <th>10d - IDT</th>\n      <th>30d - IDT</th>\n      <th>60d - IDT</th>\n      <th>90d - IDT</th>\n      <th>120d - IDT</th>\n    </tr>\n    <tr>\n      <th>CIK</th>\n      <th>day -1</th>\n      <th>day 0</th>\n      <th></th>\n      <th></th>\n      <th></th>\n      <th></th>\n      <th></th>\n      <th></th>\n      <th></th>\n      <th></th>\n      <th></th>\n      <th></th>\n      <th></th>\n      <th></th>\n      <th></th>\n      <th></th>\n      <th></th>\n      <th></th>\n    </tr>\n  </thead>\n  <tbody>\n    <tr>\n      <th>732712</th>\n      <th>2008-10-24</th>\n      <th>2008-10-27</th>\n      <td>1.261962</td>\n      <td>1.060817</td>\n      <td>0.201144</td>\n      <td>1.075221</td>\n      <td>0.0</td>\n      <td>0.166284</td>\n      <td>0.314378</td>\n      <td>0.253500</td>\n      <td>0.254809</td>\n      <td>0.237681</td>\n      <td>Telcm</td>\n      <td>0.109915</td>\n      <td>0.193301</td>\n      <td>0.153130</td>\n      <td>0.171887</td>\n      <td>0.131650</td>\n    </tr>\n    <tr>\n      <th>1265888</th>\n      <th>2016-12-13</th>\n      <th>2016-12-14</th>\n      <td>1.193490</td>\n      <td>0.996362</td>\n      <td>0.197128</td>\n      <td>1.187609</td>\n      <td>NaN</td>\n      <td>0.217124</td>\n      <td>0.199269</td>\n      <td>0.159023</td>\n      <td>0.145848</td>\n      <td>0.119249</td>\n      <td>Telcm</td>\n      <td>0.188456</td>\n      <td>0.156023</td>\n      <td>0.149112</td>\n      <td>0.135003</td>\n      <td>0.168279</td>\n    </tr>\n    <tr>\n      <th>1101215</th>\n      <th>2001-09-21</th>\n      <th>2001-09-24</th>\n      <td>1.192500</td>\n      <td>1.045883</td>\n      <td>0.146617</td>\n      <td>0.592770</td>\n      <td>NaN</td>\n      <td>0.100957</td>\n      <td>0.171110</td>\n      <td>0.244513</td>\n      <td>0.573618</td>\n      <td>0.714595</td>\n      <td>BusSv</td>\n      <td>0.113972</td>\n      <td>0.119950</td>\n      <td>0.133151</td>\n      <td>0.590996</td>\n      <td>0.714110</td>\n    </tr>\n    <tr>\n      <th>1108524</th>\n      <th>2005-05-18</th>\n      <th>2005-05-19</th>\n      <td>1.167298</td>\n      <td>1.003394</td>\n      <td>0.163904</td>\n      <td>0.865111</td>\n      <td>-1.0</td>\n      <td>0.284605</td>\n      <td>0.215336</td>\n      <td>0.346934</td>\n      <td>0.454717</td>\n      <td>0.619560</td>\n      <td>Softw</td>\n      <td>0.287232</td>\n      <td>0.245046</td>\n      <td>0.342504</td>\n      <td>0.461134</td>\n      <td>0.561600</td>\n    </tr>\n    <tr>\n      <th>1091667</th>\n      <th>2019-01-29</th>\n      <th>2019-01-30</th>\n      <td>1.142418</td>\n      <td>1.024439</td>\n      <td>0.117979</td>\n      <td>0.842350</td>\n      <td>1.0</td>\n      <td>0.123041</td>\n      <td>0.153296</td>\n      <td>0.166087</td>\n      <td>0.278803</td>\n      <td>0.276760</td>\n      <td>Telcm</td>\n      <td>0.151610</td>\n      <td>0.159019</td>\n      <td>0.160757</td>\n      <td>0.246316</td>\n      <td>0.250667</td>\n    </tr>\n  </tbody>\n</table>\n</div>"
     },
     "metadata": {}
    },
    {
     "output_type": "stream",
     "name": "stdout",
     "text": "Finance and Insurance\n325/397 price history generated from wrds/crsp\n7/7 price history generated from yahoo finance\n377/397 earnings call date checked\n"
    },
    {
     "output_type": "display_data",
     "data": {
      "text/plain": "                                      R       MKT   R - MKT       vol   EA  \\\nCIK     day -1     day 0                                                     \n777001  2000-09-27 2000-09-28  1.113812  1.010308  0.103504  1.004685  NaN   \n1295172 2009-02-18 2009-02-19  1.095363  0.977033  0.118330  1.617912  NaN   \n1267238 2009-03-06 2009-03-09  1.092496  1.051908  0.040588  0.923283  NaN   \n1430592 2012-11-05 2012-11-06  1.085652  0.984715  0.100937  0.780834  0.0   \n1141391 2009-01-01 2009-01-02  1.081720  1.005876  0.075844  0.338429  NaN   \n\n                               10d - MKT  30d - MKT  60d - MKT  90d - MKT  \\\nCIK     day -1     day 0                                                    \n777001  2000-09-27 2000-09-28   0.015509   0.071810  -0.005088   0.154798   \n1295172 2009-02-18 2009-02-19   0.080850   0.243713   0.267083   0.323620   \n1267238 2009-03-06 2009-03-09   0.201790   0.346287   0.019576   0.032786   \n1430592 2012-11-05 2012-11-06   0.176717   0.184273   0.396816   0.370272   \n1141391 2009-01-01 2009-01-02  -0.073560   0.207195   0.182693   0.180070   \n\n                               120d - MKT    IDT  10d - IDT  30d - IDT  \\\nCIK     day -1     day 0                                                 \n777001  2000-09-27 2000-09-28    0.061183    Fin   0.066861   0.088177   \n1295172 2009-02-18 2009-02-19    0.124522  Insur   0.218630   0.335674   \n1267238 2009-03-06 2009-03-09    0.180985  Insur   0.100544   0.186241   \n1430592 2012-11-05 2012-11-06    0.371688    Fin   0.189227   0.168527   \n1141391 2009-01-01 2009-01-02    0.113843  Banks   0.042741   0.443016   \n\n                               60d - IDT  90d - IDT  120d - IDT  \nCIK     day -1     day 0                                         \n777001  2000-09-27 2000-09-28  -0.028969   0.066642    0.063825  \n1295172 2009-02-18 2009-02-19   0.291785   0.386299    0.144768  \n1267238 2009-03-06 2009-03-09  -0.149038  -0.088853   -0.125607  \n1430592 2012-11-05 2012-11-06   0.291491   0.247431    0.285595  \n1141391 2009-01-01 2009-01-02   0.371530   0.276610    0.240049  ",
      "text/html": "<div>\n<style scoped>\n    .dataframe tbody tr th:only-of-type {\n        vertical-align: middle;\n    }\n\n    .dataframe tbody tr th {\n        vertical-align: top;\n    }\n\n    .dataframe thead th {\n        text-align: right;\n    }\n</style>\n<table border=\"1\" class=\"dataframe\">\n  <thead>\n    <tr style=\"text-align: right;\">\n      <th></th>\n      <th></th>\n      <th></th>\n      <th>R</th>\n      <th>MKT</th>\n      <th>R - MKT</th>\n      <th>vol</th>\n      <th>EA</th>\n      <th>10d - MKT</th>\n      <th>30d - MKT</th>\n      <th>60d - MKT</th>\n      <th>90d - MKT</th>\n      <th>120d - MKT</th>\n      <th>IDT</th>\n      <th>10d - IDT</th>\n      <th>30d - IDT</th>\n      <th>60d - IDT</th>\n      <th>90d - IDT</th>\n      <th>120d - IDT</th>\n    </tr>\n    <tr>\n      <th>CIK</th>\n      <th>day -1</th>\n      <th>day 0</th>\n      <th></th>\n      <th></th>\n      <th></th>\n      <th></th>\n      <th></th>\n      <th></th>\n      <th></th>\n      <th></th>\n      <th></th>\n      <th></th>\n      <th></th>\n      <th></th>\n      <th></th>\n      <th></th>\n      <th></th>\n      <th></th>\n    </tr>\n  </thead>\n  <tbody>\n    <tr>\n      <th>777001</th>\n      <th>2000-09-27</th>\n      <th>2000-09-28</th>\n      <td>1.113812</td>\n      <td>1.010308</td>\n      <td>0.103504</td>\n      <td>1.004685</td>\n      <td>NaN</td>\n      <td>0.015509</td>\n      <td>0.071810</td>\n      <td>-0.005088</td>\n      <td>0.154798</td>\n      <td>0.061183</td>\n      <td>Fin</td>\n      <td>0.066861</td>\n      <td>0.088177</td>\n      <td>-0.028969</td>\n      <td>0.066642</td>\n      <td>0.063825</td>\n    </tr>\n    <tr>\n      <th>1295172</th>\n      <th>2009-02-18</th>\n      <th>2009-02-19</th>\n      <td>1.095363</td>\n      <td>0.977033</td>\n      <td>0.118330</td>\n      <td>1.617912</td>\n      <td>NaN</td>\n      <td>0.080850</td>\n      <td>0.243713</td>\n      <td>0.267083</td>\n      <td>0.323620</td>\n      <td>0.124522</td>\n      <td>Insur</td>\n      <td>0.218630</td>\n      <td>0.335674</td>\n      <td>0.291785</td>\n      <td>0.386299</td>\n      <td>0.144768</td>\n    </tr>\n    <tr>\n      <th>1267238</th>\n      <th>2009-03-06</th>\n      <th>2009-03-09</th>\n      <td>1.092496</td>\n      <td>1.051908</td>\n      <td>0.040588</td>\n      <td>0.923283</td>\n      <td>NaN</td>\n      <td>0.201790</td>\n      <td>0.346287</td>\n      <td>0.019576</td>\n      <td>0.032786</td>\n      <td>0.180985</td>\n      <td>Insur</td>\n      <td>0.100544</td>\n      <td>0.186241</td>\n      <td>-0.149038</td>\n      <td>-0.088853</td>\n      <td>-0.125607</td>\n    </tr>\n    <tr>\n      <th>1430592</th>\n      <th>2012-11-05</th>\n      <th>2012-11-06</th>\n      <td>1.085652</td>\n      <td>0.984715</td>\n      <td>0.100937</td>\n      <td>0.780834</td>\n      <td>0.0</td>\n      <td>0.176717</td>\n      <td>0.184273</td>\n      <td>0.396816</td>\n      <td>0.370272</td>\n      <td>0.371688</td>\n      <td>Fin</td>\n      <td>0.189227</td>\n      <td>0.168527</td>\n      <td>0.291491</td>\n      <td>0.247431</td>\n      <td>0.285595</td>\n    </tr>\n    <tr>\n      <th>1141391</th>\n      <th>2009-01-01</th>\n      <th>2009-01-02</th>\n      <td>1.081720</td>\n      <td>1.005876</td>\n      <td>0.075844</td>\n      <td>0.338429</td>\n      <td>NaN</td>\n      <td>-0.073560</td>\n      <td>0.207195</td>\n      <td>0.182693</td>\n      <td>0.180070</td>\n      <td>0.113843</td>\n      <td>Banks</td>\n      <td>0.042741</td>\n      <td>0.443016</td>\n      <td>0.371530</td>\n      <td>0.276610</td>\n      <td>0.240049</td>\n    </tr>\n  </tbody>\n</table>\n</div>"
     },
     "metadata": {}
    },
    {
     "output_type": "stream",
     "name": "stdout",
     "text": "Real Estate and Rental and Leasing\n50/58 price history generated from wrds/crsp\n1/1 price history generated from yahoo finance\n57/58 earnings call date checked\n"
    },
    {
     "output_type": "display_data",
     "data": {
      "text/plain": "                                      R       MKT   R - MKT       vol  EA  \\\nCIK     day -1     day 0                                                    \n1138118 2009-05-15 2009-05-18  1.117397  1.030784  0.086613  1.046415 NaN   \n        2011-03-07 2011-03-08  1.075678  1.007984  0.067694  0.545934 NaN   \n1657853 2016-07-06 2016-07-07  1.059488  1.016203  0.043285  3.161081 NaN   \n1138118 2011-09-05 2011-09-06  1.051576  1.018439  0.033137  1.161865 NaN   \n        2010-12-01 2010-12-02  1.044025  1.015843  0.028182  0.876925 NaN   \n\n                               10d - MKT  30d - MKT  60d - MKT  90d - MKT  \\\nCIK     day -1     day 0                                                    \n1138118 2009-05-15 2009-05-18   0.117864   0.275005   0.436158   0.444112   \n        2011-03-07 2011-03-08   0.116264   0.168485   0.053671  -0.070586   \n1657853 2016-07-06 2016-07-07   0.147700   0.053171   0.072964   0.216671   \n1138118 2011-09-05 2011-09-06  -0.053595  -0.007172   0.108812   0.088928   \n        2010-12-01 2010-12-02   0.038619   0.074826   0.202063   0.341556   \n\n                               120d - MKT    IDT  10d - IDT  30d - IDT  \\\nCIK     day -1     day 0                                                 \n1138118 2009-05-15 2009-05-18    0.292204  RlEst   0.036950   0.186653   \n        2011-03-07 2011-03-08   -0.323735  RlEst   0.060996   0.105743   \n1657853 2016-07-06 2016-07-07    0.255359  PerSv   0.115495   0.067666   \n1138118 2011-09-05 2011-09-06    0.124613  RlEst  -0.041723   0.028873   \n        2010-12-01 2010-12-02    0.284896  RlEst   0.026966   0.034186   \n\n                               60d - IDT  90d - IDT  120d - IDT  \nCIK     day -1     day 0                                         \n1138118 2009-05-15 2009-05-18   0.208556   0.235911    0.109260  \n        2011-03-07 2011-03-08   0.030336  -0.026054   -0.156423  \n1657853 2016-07-06 2016-07-07   0.107224   0.179193    0.199277  \n1138118 2011-09-05 2011-09-06   0.091230   0.057669    0.038095  \n        2010-12-01 2010-12-02   0.105951   0.177584    0.157373  ",
      "text/html": "<div>\n<style scoped>\n    .dataframe tbody tr th:only-of-type {\n        vertical-align: middle;\n    }\n\n    .dataframe tbody tr th {\n        vertical-align: top;\n    }\n\n    .dataframe thead th {\n        text-align: right;\n    }\n</style>\n<table border=\"1\" class=\"dataframe\">\n  <thead>\n    <tr style=\"text-align: right;\">\n      <th></th>\n      <th></th>\n      <th></th>\n      <th>R</th>\n      <th>MKT</th>\n      <th>R - MKT</th>\n      <th>vol</th>\n      <th>EA</th>\n      <th>10d - MKT</th>\n      <th>30d - MKT</th>\n      <th>60d - MKT</th>\n      <th>90d - MKT</th>\n      <th>120d - MKT</th>\n      <th>IDT</th>\n      <th>10d - IDT</th>\n      <th>30d - IDT</th>\n      <th>60d - IDT</th>\n      <th>90d - IDT</th>\n      <th>120d - IDT</th>\n    </tr>\n    <tr>\n      <th>CIK</th>\n      <th>day -1</th>\n      <th>day 0</th>\n      <th></th>\n      <th></th>\n      <th></th>\n      <th></th>\n      <th></th>\n      <th></th>\n      <th></th>\n      <th></th>\n      <th></th>\n      <th></th>\n      <th></th>\n      <th></th>\n      <th></th>\n      <th></th>\n      <th></th>\n      <th></th>\n    </tr>\n  </thead>\n  <tbody>\n    <tr>\n      <th rowspan=\"2\" valign=\"top\">1138118</th>\n      <th>2009-05-15</th>\n      <th>2009-05-18</th>\n      <td>1.117397</td>\n      <td>1.030784</td>\n      <td>0.086613</td>\n      <td>1.046415</td>\n      <td>NaN</td>\n      <td>0.117864</td>\n      <td>0.275005</td>\n      <td>0.436158</td>\n      <td>0.444112</td>\n      <td>0.292204</td>\n      <td>RlEst</td>\n      <td>0.036950</td>\n      <td>0.186653</td>\n      <td>0.208556</td>\n      <td>0.235911</td>\n      <td>0.109260</td>\n    </tr>\n    <tr>\n      <th>2011-03-07</th>\n      <th>2011-03-08</th>\n      <td>1.075678</td>\n      <td>1.007984</td>\n      <td>0.067694</td>\n      <td>0.545934</td>\n      <td>NaN</td>\n      <td>0.116264</td>\n      <td>0.168485</td>\n      <td>0.053671</td>\n      <td>-0.070586</td>\n      <td>-0.323735</td>\n      <td>RlEst</td>\n      <td>0.060996</td>\n      <td>0.105743</td>\n      <td>0.030336</td>\n      <td>-0.026054</td>\n      <td>-0.156423</td>\n    </tr>\n    <tr>\n      <th>1657853</th>\n      <th>2016-07-06</th>\n      <th>2016-07-07</th>\n      <td>1.059488</td>\n      <td>1.016203</td>\n      <td>0.043285</td>\n      <td>3.161081</td>\n      <td>NaN</td>\n      <td>0.147700</td>\n      <td>0.053171</td>\n      <td>0.072964</td>\n      <td>0.216671</td>\n      <td>0.255359</td>\n      <td>PerSv</td>\n      <td>0.115495</td>\n      <td>0.067666</td>\n      <td>0.107224</td>\n      <td>0.179193</td>\n      <td>0.199277</td>\n    </tr>\n    <tr>\n      <th rowspan=\"2\" valign=\"top\">1138118</th>\n      <th>2011-09-05</th>\n      <th>2011-09-06</th>\n      <td>1.051576</td>\n      <td>1.018439</td>\n      <td>0.033137</td>\n      <td>1.161865</td>\n      <td>NaN</td>\n      <td>-0.053595</td>\n      <td>-0.007172</td>\n      <td>0.108812</td>\n      <td>0.088928</td>\n      <td>0.124613</td>\n      <td>RlEst</td>\n      <td>-0.041723</td>\n      <td>0.028873</td>\n      <td>0.091230</td>\n      <td>0.057669</td>\n      <td>0.038095</td>\n    </tr>\n    <tr>\n      <th>2010-12-01</th>\n      <th>2010-12-02</th>\n      <td>1.044025</td>\n      <td>1.015843</td>\n      <td>0.028182</td>\n      <td>0.876925</td>\n      <td>NaN</td>\n      <td>0.038619</td>\n      <td>0.074826</td>\n      <td>0.202063</td>\n      <td>0.341556</td>\n      <td>0.284896</td>\n      <td>RlEst</td>\n      <td>0.026966</td>\n      <td>0.034186</td>\n      <td>0.105951</td>\n      <td>0.177584</td>\n      <td>0.157373</td>\n    </tr>\n  </tbody>\n</table>\n</div>"
     },
     "metadata": {}
    },
    {
     "output_type": "stream",
     "name": "stdout",
     "text": "Professional, Scientific, and Technical Services\n104/118 price history generated from wrds/crsp\n3/3 price history generated from yahoo finance\n116/118 earnings call date checked\n"
    },
    {
     "output_type": "display_data",
     "data": {
      "text/plain": "                                      R       MKT   R - MKT       vol   EA  \\\nCIK     day -1     day 0                                                     \n1169264 2008-05-05 2008-05-06  1.317302  0.990776  0.326526  1.235704  NaN   \n        2008-01-14 2008-01-15  1.131466  0.971122  0.160344  0.584567  NaN   \n1571123 2014-06-09 2014-06-10  1.121349  0.996301  0.125048  2.117503  0.0   \n868857  2008-02-11 2008-02-12  1.089961  1.020789  0.069172  0.616010  0.0   \n70866   2013-04-29 2013-04-30  1.087523  0.992069  0.095455  1.067469  0.0   \n\n                               10d - MKT  30d - MKT  60d - MKT  90d - MKT  \\\nCIK     day -1     day 0                                                    \n1169264 2008-05-05 2008-05-06   0.387165   0.172930   0.099001   0.261057   \n        2008-01-14 2008-01-15   0.166752   0.306075   0.328245   0.524056   \n1571123 2014-06-09 2014-06-10   0.126988   0.076536   0.124324   0.196765   \n868857  2008-02-11 2008-02-12   0.016555   0.010273   0.111523   0.206964   \n70866   2013-04-29 2013-04-30   0.100295   0.205597   0.238678   0.300595   \n\n                               120d - MKT    IDT  10d - IDT  30d - IDT  \\\nCIK     day -1     day 0                                                 \n1169264 2008-05-05 2008-05-06    0.319947  Softw   0.377442   0.133943   \n        2008-01-14 2008-01-15    0.145842  Softw   0.188537   0.366749   \n1571123 2014-06-09 2014-06-10    0.213390  Softw   0.123060   0.056410   \n868857  2008-02-11 2008-02-12    0.127233  BusSv   0.000413   0.003942   \n70866   2013-04-29 2013-04-30    0.384937  Softw   0.094848   0.194216   \n\n                               60d - IDT  90d - IDT  120d - IDT  \nCIK     day -1     day 0                                         \n1169264 2008-05-05 2008-05-06   0.077779   0.250054    0.285489  \n        2008-01-14 2008-01-15   0.366418   0.526242    0.117554  \n1571123 2014-06-09 2014-06-10   0.091033   0.174758    0.210019  \n868857  2008-02-11 2008-02-12   0.115420   0.182212    0.081645  \n70866   2013-04-29 2013-04-30   0.255220   0.286900    0.358444  ",
      "text/html": "<div>\n<style scoped>\n    .dataframe tbody tr th:only-of-type {\n        vertical-align: middle;\n    }\n\n    .dataframe tbody tr th {\n        vertical-align: top;\n    }\n\n    .dataframe thead th {\n        text-align: right;\n    }\n</style>\n<table border=\"1\" class=\"dataframe\">\n  <thead>\n    <tr style=\"text-align: right;\">\n      <th></th>\n      <th></th>\n      <th></th>\n      <th>R</th>\n      <th>MKT</th>\n      <th>R - MKT</th>\n      <th>vol</th>\n      <th>EA</th>\n      <th>10d - MKT</th>\n      <th>30d - MKT</th>\n      <th>60d - MKT</th>\n      <th>90d - MKT</th>\n      <th>120d - MKT</th>\n      <th>IDT</th>\n      <th>10d - IDT</th>\n      <th>30d - IDT</th>\n      <th>60d - IDT</th>\n      <th>90d - IDT</th>\n      <th>120d - IDT</th>\n    </tr>\n    <tr>\n      <th>CIK</th>\n      <th>day -1</th>\n      <th>day 0</th>\n      <th></th>\n      <th></th>\n      <th></th>\n      <th></th>\n      <th></th>\n      <th></th>\n      <th></th>\n      <th></th>\n      <th></th>\n      <th></th>\n      <th></th>\n      <th></th>\n      <th></th>\n      <th></th>\n      <th></th>\n      <th></th>\n    </tr>\n  </thead>\n  <tbody>\n    <tr>\n      <th rowspan=\"2\" valign=\"top\">1169264</th>\n      <th>2008-05-05</th>\n      <th>2008-05-06</th>\n      <td>1.317302</td>\n      <td>0.990776</td>\n      <td>0.326526</td>\n      <td>1.235704</td>\n      <td>NaN</td>\n      <td>0.387165</td>\n      <td>0.172930</td>\n      <td>0.099001</td>\n      <td>0.261057</td>\n      <td>0.319947</td>\n      <td>Softw</td>\n      <td>0.377442</td>\n      <td>0.133943</td>\n      <td>0.077779</td>\n      <td>0.250054</td>\n      <td>0.285489</td>\n    </tr>\n    <tr>\n      <th>2008-01-14</th>\n      <th>2008-01-15</th>\n      <td>1.131466</td>\n      <td>0.971122</td>\n      <td>0.160344</td>\n      <td>0.584567</td>\n      <td>NaN</td>\n      <td>0.166752</td>\n      <td>0.306075</td>\n      <td>0.328245</td>\n      <td>0.524056</td>\n      <td>0.145842</td>\n      <td>Softw</td>\n      <td>0.188537</td>\n      <td>0.366749</td>\n      <td>0.366418</td>\n      <td>0.526242</td>\n      <td>0.117554</td>\n    </tr>\n    <tr>\n      <th>1571123</th>\n      <th>2014-06-09</th>\n      <th>2014-06-10</th>\n      <td>1.121349</td>\n      <td>0.996301</td>\n      <td>0.125048</td>\n      <td>2.117503</td>\n      <td>0.0</td>\n      <td>0.126988</td>\n      <td>0.076536</td>\n      <td>0.124324</td>\n      <td>0.196765</td>\n      <td>0.213390</td>\n      <td>Softw</td>\n      <td>0.123060</td>\n      <td>0.056410</td>\n      <td>0.091033</td>\n      <td>0.174758</td>\n      <td>0.210019</td>\n    </tr>\n    <tr>\n      <th>868857</th>\n      <th>2008-02-11</th>\n      <th>2008-02-12</th>\n      <td>1.089961</td>\n      <td>1.020789</td>\n      <td>0.069172</td>\n      <td>0.616010</td>\n      <td>0.0</td>\n      <td>0.016555</td>\n      <td>0.010273</td>\n      <td>0.111523</td>\n      <td>0.206964</td>\n      <td>0.127233</td>\n      <td>BusSv</td>\n      <td>0.000413</td>\n      <td>0.003942</td>\n      <td>0.115420</td>\n      <td>0.182212</td>\n      <td>0.081645</td>\n    </tr>\n    <tr>\n      <th>70866</th>\n      <th>2013-04-29</th>\n      <th>2013-04-30</th>\n      <td>1.087523</td>\n      <td>0.992069</td>\n      <td>0.095455</td>\n      <td>1.067469</td>\n      <td>0.0</td>\n      <td>0.100295</td>\n      <td>0.205597</td>\n      <td>0.238678</td>\n      <td>0.300595</td>\n      <td>0.384937</td>\n      <td>Softw</td>\n      <td>0.094848</td>\n      <td>0.194216</td>\n      <td>0.255220</td>\n      <td>0.286900</td>\n      <td>0.358444</td>\n    </tr>\n  </tbody>\n</table>\n</div>"
     },
     "metadata": {}
    },
    {
     "output_type": "stream",
     "name": "stdout",
     "text": "Administrative and Support and Waste Management and Remediation Services\n50/66 price history generated from wrds/crsp\n1/1 price history generated from yahoo finance\n64/66 earnings call date checked\n"
    },
    {
     "output_type": "display_data",
     "data": {
      "text/plain": "                                      R       MKT   R - MKT       vol   EA  \\\nCIK     day -1     day 0                                                     \n1324424 2016-02-09 2016-02-10  1.115825  0.988399  0.127426  2.148261  0.0   \n1062047 2014-01-06 2014-01-07  1.053212  1.007203  0.046009  0.723724  NaN   \n1395942 2011-05-16 2011-05-17  1.049299  1.009089  0.040211  0.827347  NaN   \n1324424 2015-05-21 2015-05-22  1.044858  0.987722  0.057136  0.616125  NaN   \n1082754 2011-05-26 2011-05-27  1.035120  1.015351  0.019769  0.476140  NaN   \n\n                               10d - MKT  30d - MKT  60d - MKT  90d - MKT  \\\nCIK     day -1     day 0                                                    \n1324424 2016-02-09 2016-02-10   0.076626   0.054303   0.094501   0.009005   \n1062047 2014-01-06 2014-01-07   0.032059  -0.056730   0.030006   0.036677   \n1395942 2011-05-16 2011-05-17   0.076552  -0.017165  -0.174019  -0.213445   \n1324424 2015-05-21 2015-05-22   0.009006   0.029771   0.178880   0.209969   \n1082754 2011-05-26 2011-05-27  -0.007027   0.056909  -0.017349  -0.064849   \n\n                               120d - MKT    IDT  10d - IDT  30d - IDT  \\\nCIK     day -1     day 0                                                 \n1324424 2016-02-09 2016-02-10    0.036344  Trans   0.061682   0.028492   \n1062047 2014-01-06 2014-01-07   -0.046493  BusSv   0.030965  -0.039178   \n1395942 2011-05-16 2011-05-17   -0.270638  BusSv   0.071255  -0.014734   \n1324424 2015-05-21 2015-05-22    0.243554  Trans   0.019993   0.060444   \n1082754 2011-05-26 2011-05-27   -0.037569  BusSv  -0.009763   0.057216   \n\n                               60d - IDT  90d - IDT  120d - IDT  \nCIK     day -1     day 0                                         \n1324424 2016-02-09 2016-02-10   0.121429   0.064116    0.124949  \n1062047 2014-01-06 2014-01-07   0.059969   0.079619   -0.006878  \n1395942 2011-05-16 2011-05-17  -0.131096  -0.171023   -0.248744  \n1324424 2015-05-21 2015-05-22   0.189253   0.209906    0.254311  \n1082754 2011-05-26 2011-05-27   0.019220  -0.028929   -0.013583  ",
      "text/html": "<div>\n<style scoped>\n    .dataframe tbody tr th:only-of-type {\n        vertical-align: middle;\n    }\n\n    .dataframe tbody tr th {\n        vertical-align: top;\n    }\n\n    .dataframe thead th {\n        text-align: right;\n    }\n</style>\n<table border=\"1\" class=\"dataframe\">\n  <thead>\n    <tr style=\"text-align: right;\">\n      <th></th>\n      <th></th>\n      <th></th>\n      <th>R</th>\n      <th>MKT</th>\n      <th>R - MKT</th>\n      <th>vol</th>\n      <th>EA</th>\n      <th>10d - MKT</th>\n      <th>30d - MKT</th>\n      <th>60d - MKT</th>\n      <th>90d - MKT</th>\n      <th>120d - MKT</th>\n      <th>IDT</th>\n      <th>10d - IDT</th>\n      <th>30d - IDT</th>\n      <th>60d - IDT</th>\n      <th>90d - IDT</th>\n      <th>120d - IDT</th>\n    </tr>\n    <tr>\n      <th>CIK</th>\n      <th>day -1</th>\n      <th>day 0</th>\n      <th></th>\n      <th></th>\n      <th></th>\n      <th></th>\n      <th></th>\n      <th></th>\n      <th></th>\n      <th></th>\n      <th></th>\n      <th></th>\n      <th></th>\n      <th></th>\n      <th></th>\n      <th></th>\n      <th></th>\n      <th></th>\n    </tr>\n  </thead>\n  <tbody>\n    <tr>\n      <th>1324424</th>\n      <th>2016-02-09</th>\n      <th>2016-02-10</th>\n      <td>1.115825</td>\n      <td>0.988399</td>\n      <td>0.127426</td>\n      <td>2.148261</td>\n      <td>0.0</td>\n      <td>0.076626</td>\n      <td>0.054303</td>\n      <td>0.094501</td>\n      <td>0.009005</td>\n      <td>0.036344</td>\n      <td>Trans</td>\n      <td>0.061682</td>\n      <td>0.028492</td>\n      <td>0.121429</td>\n      <td>0.064116</td>\n      <td>0.124949</td>\n    </tr>\n    <tr>\n      <th>1062047</th>\n      <th>2014-01-06</th>\n      <th>2014-01-07</th>\n      <td>1.053212</td>\n      <td>1.007203</td>\n      <td>0.046009</td>\n      <td>0.723724</td>\n      <td>NaN</td>\n      <td>0.032059</td>\n      <td>-0.056730</td>\n      <td>0.030006</td>\n      <td>0.036677</td>\n      <td>-0.046493</td>\n      <td>BusSv</td>\n      <td>0.030965</td>\n      <td>-0.039178</td>\n      <td>0.059969</td>\n      <td>0.079619</td>\n      <td>-0.006878</td>\n    </tr>\n    <tr>\n      <th>1395942</th>\n      <th>2011-05-16</th>\n      <th>2011-05-17</th>\n      <td>1.049299</td>\n      <td>1.009089</td>\n      <td>0.040211</td>\n      <td>0.827347</td>\n      <td>NaN</td>\n      <td>0.076552</td>\n      <td>-0.017165</td>\n      <td>-0.174019</td>\n      <td>-0.213445</td>\n      <td>-0.270638</td>\n      <td>BusSv</td>\n      <td>0.071255</td>\n      <td>-0.014734</td>\n      <td>-0.131096</td>\n      <td>-0.171023</td>\n      <td>-0.248744</td>\n    </tr>\n    <tr>\n      <th>1324424</th>\n      <th>2015-05-21</th>\n      <th>2015-05-22</th>\n      <td>1.044858</td>\n      <td>0.987722</td>\n      <td>0.057136</td>\n      <td>0.616125</td>\n      <td>NaN</td>\n      <td>0.009006</td>\n      <td>0.029771</td>\n      <td>0.178880</td>\n      <td>0.209969</td>\n      <td>0.243554</td>\n      <td>Trans</td>\n      <td>0.019993</td>\n      <td>0.060444</td>\n      <td>0.189253</td>\n      <td>0.209906</td>\n      <td>0.254311</td>\n    </tr>\n    <tr>\n      <th>1082754</th>\n      <th>2011-05-26</th>\n      <th>2011-05-27</th>\n      <td>1.035120</td>\n      <td>1.015351</td>\n      <td>0.019769</td>\n      <td>0.476140</td>\n      <td>NaN</td>\n      <td>-0.007027</td>\n      <td>0.056909</td>\n      <td>-0.017349</td>\n      <td>-0.064849</td>\n      <td>-0.037569</td>\n      <td>BusSv</td>\n      <td>-0.009763</td>\n      <td>0.057216</td>\n      <td>0.019220</td>\n      <td>-0.028929</td>\n      <td>-0.013583</td>\n    </tr>\n  </tbody>\n</table>\n</div>"
     },
     "metadata": {}
    },
    {
     "output_type": "stream",
     "name": "stdout",
     "text": "Educational Services\n1/1 price history generated from wrds/crsp\n0/0 price history generated from yahoo finance\n1/1 earnings call date checked\n"
    },
    {
     "output_type": "display_data",
     "data": {
      "text/plain": "                                      R       MKT   R - MKT       vol  EA  \\\nCIK     day -1     day 0                                                    \n1434588 2017-06-13 2017-06-14  1.005741  0.995305  0.010436  0.774767 NaN   \n\n                               10d - MKT  30d - MKT  60d - MKT  90d - MKT  \\\nCIK     day -1     day 0                                                    \n1434588 2017-06-13 2017-06-14  -0.013617  -0.121103  -0.012347   0.047605   \n\n                               120d - MKT    IDT  10d - IDT  30d - IDT  \\\nCIK     day -1     day 0                                                 \n1434588 2017-06-13 2017-06-14    0.058428  PerSv  -0.039131  -0.155627   \n\n                               60d - IDT  90d - IDT  120d - IDT  \nCIK     day -1     day 0                                         \n1434588 2017-06-13 2017-06-14   -0.07243  -0.002919    0.011621  ",
      "text/html": "<div>\n<style scoped>\n    .dataframe tbody tr th:only-of-type {\n        vertical-align: middle;\n    }\n\n    .dataframe tbody tr th {\n        vertical-align: top;\n    }\n\n    .dataframe thead th {\n        text-align: right;\n    }\n</style>\n<table border=\"1\" class=\"dataframe\">\n  <thead>\n    <tr style=\"text-align: right;\">\n      <th></th>\n      <th></th>\n      <th></th>\n      <th>R</th>\n      <th>MKT</th>\n      <th>R - MKT</th>\n      <th>vol</th>\n      <th>EA</th>\n      <th>10d - MKT</th>\n      <th>30d - MKT</th>\n      <th>60d - MKT</th>\n      <th>90d - MKT</th>\n      <th>120d - MKT</th>\n      <th>IDT</th>\n      <th>10d - IDT</th>\n      <th>30d - IDT</th>\n      <th>60d - IDT</th>\n      <th>90d - IDT</th>\n      <th>120d - IDT</th>\n    </tr>\n    <tr>\n      <th>CIK</th>\n      <th>day -1</th>\n      <th>day 0</th>\n      <th></th>\n      <th></th>\n      <th></th>\n      <th></th>\n      <th></th>\n      <th></th>\n      <th></th>\n      <th></th>\n      <th></th>\n      <th></th>\n      <th></th>\n      <th></th>\n      <th></th>\n      <th></th>\n      <th></th>\n      <th></th>\n    </tr>\n  </thead>\n  <tbody>\n    <tr>\n      <th>1434588</th>\n      <th>2017-06-13</th>\n      <th>2017-06-14</th>\n      <td>1.005741</td>\n      <td>0.995305</td>\n      <td>0.010436</td>\n      <td>0.774767</td>\n      <td>NaN</td>\n      <td>-0.013617</td>\n      <td>-0.121103</td>\n      <td>-0.012347</td>\n      <td>0.047605</td>\n      <td>0.058428</td>\n      <td>PerSv</td>\n      <td>-0.039131</td>\n      <td>-0.155627</td>\n      <td>-0.07243</td>\n      <td>-0.002919</td>\n      <td>0.011621</td>\n    </tr>\n  </tbody>\n</table>\n</div>"
     },
     "metadata": {}
    },
    {
     "output_type": "stream",
     "name": "stdout",
     "text": "Health Care and Social Assistance\n15/33 price history generated from wrds/crsp\n1/4 price history generated from yahoo finance\n30/33 earnings call date checked\n"
    },
    {
     "output_type": "display_data",
     "data": {
      "text/plain": "                                      R       MKT   R - MKT       vol  EA  \\\nCIK     day -1     day 0                                                    \n1320414 2017-10-20 2017-10-23  1.071348  0.997491  0.073857  1.483208 NaN   \n1045829 2011-11-14 2011-11-15  1.061111  0.989108  0.072003  0.766931 NaN   \n1437578 2013-04-10 2013-04-11  1.017148  1.000690  0.016458  0.358566 NaN   \n860730  2019-01-16 2019-01-17  1.016854  1.020497 -0.003642  0.793586 NaN   \n1320414 2016-09-27 2016-09-28  1.005327  0.995745  0.009582  1.100299 NaN   \n\n                               10d - MKT  30d - MKT  60d - MKT  90d - MKT  \\\nCIK     day -1     day 0                                                    \n1320414 2017-10-20 2017-10-23  -0.049977  -0.040646  -0.114386  -0.055194   \n1045829 2011-11-14 2011-11-15   0.140153   0.124289   0.049340  -0.023483   \n1437578 2013-04-10 2013-04-11  -0.005626  -0.012806  -0.021312   0.016360   \n860730  2019-01-16 2019-01-17   0.022133  -0.040774  -0.146461  -0.135743   \n1320414 2016-09-27 2016-09-28   0.056548  -0.126088  -0.033499  -0.129750   \n\n                               120d - MKT    IDT  10d - IDT  30d - IDT  \\\nCIK     day -1     day 0                                                 \n1320414 2017-10-20 2017-10-23   -0.031206   Hlth   0.014671   0.006044   \n1045829 2011-11-14 2011-11-15   -0.141217   Hlth   0.158227   0.174692   \n1437578 2013-04-10 2013-04-11   -0.016514  PerSv   0.003261  -0.040289   \n860730  2019-01-16 2019-01-17   -0.087984   Hlth   0.020493  -0.005419   \n1320414 2016-09-27 2016-09-28   -0.176082   Hlth   0.063584  -0.029172   \n\n                               60d - IDT  90d - IDT  120d - IDT  \nCIK     day -1     day 0                                         \n1320414 2017-10-20 2017-10-23  -0.100912  -0.102114   -0.060510  \n1045829 2011-11-14 2011-11-15   0.091286   0.046946   -0.092784  \n1437578 2013-04-10 2013-04-11  -0.061149   0.014690   -0.005359  \n860730  2019-01-16 2019-01-17  -0.053147  -0.048448   -0.032019  \n1320414 2016-09-27 2016-09-28   0.059280  -0.052323   -0.092782  ",
      "text/html": "<div>\n<style scoped>\n    .dataframe tbody tr th:only-of-type {\n        vertical-align: middle;\n    }\n\n    .dataframe tbody tr th {\n        vertical-align: top;\n    }\n\n    .dataframe thead th {\n        text-align: right;\n    }\n</style>\n<table border=\"1\" class=\"dataframe\">\n  <thead>\n    <tr style=\"text-align: right;\">\n      <th></th>\n      <th></th>\n      <th></th>\n      <th>R</th>\n      <th>MKT</th>\n      <th>R - MKT</th>\n      <th>vol</th>\n      <th>EA</th>\n      <th>10d - MKT</th>\n      <th>30d - MKT</th>\n      <th>60d - MKT</th>\n      <th>90d - MKT</th>\n      <th>120d - MKT</th>\n      <th>IDT</th>\n      <th>10d - IDT</th>\n      <th>30d - IDT</th>\n      <th>60d - IDT</th>\n      <th>90d - IDT</th>\n      <th>120d - IDT</th>\n    </tr>\n    <tr>\n      <th>CIK</th>\n      <th>day -1</th>\n      <th>day 0</th>\n      <th></th>\n      <th></th>\n      <th></th>\n      <th></th>\n      <th></th>\n      <th></th>\n      <th></th>\n      <th></th>\n      <th></th>\n      <th></th>\n      <th></th>\n      <th></th>\n      <th></th>\n      <th></th>\n      <th></th>\n      <th></th>\n    </tr>\n  </thead>\n  <tbody>\n    <tr>\n      <th>1320414</th>\n      <th>2017-10-20</th>\n      <th>2017-10-23</th>\n      <td>1.071348</td>\n      <td>0.997491</td>\n      <td>0.073857</td>\n      <td>1.483208</td>\n      <td>NaN</td>\n      <td>-0.049977</td>\n      <td>-0.040646</td>\n      <td>-0.114386</td>\n      <td>-0.055194</td>\n      <td>-0.031206</td>\n      <td>Hlth</td>\n      <td>0.014671</td>\n      <td>0.006044</td>\n      <td>-0.100912</td>\n      <td>-0.102114</td>\n      <td>-0.060510</td>\n    </tr>\n    <tr>\n      <th>1045829</th>\n      <th>2011-11-14</th>\n      <th>2011-11-15</th>\n      <td>1.061111</td>\n      <td>0.989108</td>\n      <td>0.072003</td>\n      <td>0.766931</td>\n      <td>NaN</td>\n      <td>0.140153</td>\n      <td>0.124289</td>\n      <td>0.049340</td>\n      <td>-0.023483</td>\n      <td>-0.141217</td>\n      <td>Hlth</td>\n      <td>0.158227</td>\n      <td>0.174692</td>\n      <td>0.091286</td>\n      <td>0.046946</td>\n      <td>-0.092784</td>\n    </tr>\n    <tr>\n      <th>1437578</th>\n      <th>2013-04-10</th>\n      <th>2013-04-11</th>\n      <td>1.017148</td>\n      <td>1.000690</td>\n      <td>0.016458</td>\n      <td>0.358566</td>\n      <td>NaN</td>\n      <td>-0.005626</td>\n      <td>-0.012806</td>\n      <td>-0.021312</td>\n      <td>0.016360</td>\n      <td>-0.016514</td>\n      <td>PerSv</td>\n      <td>0.003261</td>\n      <td>-0.040289</td>\n      <td>-0.061149</td>\n      <td>0.014690</td>\n      <td>-0.005359</td>\n    </tr>\n    <tr>\n      <th>860730</th>\n      <th>2019-01-16</th>\n      <th>2019-01-17</th>\n      <td>1.016854</td>\n      <td>1.020497</td>\n      <td>-0.003642</td>\n      <td>0.793586</td>\n      <td>NaN</td>\n      <td>0.022133</td>\n      <td>-0.040774</td>\n      <td>-0.146461</td>\n      <td>-0.135743</td>\n      <td>-0.087984</td>\n      <td>Hlth</td>\n      <td>0.020493</td>\n      <td>-0.005419</td>\n      <td>-0.053147</td>\n      <td>-0.048448</td>\n      <td>-0.032019</td>\n    </tr>\n    <tr>\n      <th>1320414</th>\n      <th>2016-09-27</th>\n      <th>2016-09-28</th>\n      <td>1.005327</td>\n      <td>0.995745</td>\n      <td>0.009582</td>\n      <td>1.100299</td>\n      <td>NaN</td>\n      <td>0.056548</td>\n      <td>-0.126088</td>\n      <td>-0.033499</td>\n      <td>-0.129750</td>\n      <td>-0.176082</td>\n      <td>Hlth</td>\n      <td>0.063584</td>\n      <td>-0.029172</td>\n      <td>0.059280</td>\n      <td>-0.052323</td>\n      <td>-0.092782</td>\n    </tr>\n  </tbody>\n</table>\n</div>"
     },
     "metadata": {}
    },
    {
     "output_type": "stream",
     "name": "stdout",
     "text": "Arts, Entertainment, and Recreation\n24/31 price history generated from wrds/crsp\n1/1 price history generated from yahoo finance\n31/31 earnings call date checked\n"
    },
    {
     "output_type": "display_data",
     "data": {
      "text/plain": "                                      R       MKT   R - MKT       vol   EA  \\\nCIK     day -1     day 0                                                     \n701374  2011-12-19 2011-12-20  1.080043  1.033062  0.046981  0.673755  NaN   \n        2010-09-10 2010-09-13  1.038945  1.012392  0.026553  0.591688  NaN   \n1564902 2015-08-05 2015-08-06  1.037931  0.987632  0.050299  1.530385  0.0   \n1656239 2017-12-19 2017-12-20  1.030711  1.002500  0.028211  0.956442  NaN   \n701374  2010-08-17 2010-08-18  1.024483  0.984663  0.039819  2.361030  NaN   \n\n                               10d - MKT  30d - MKT  60d - MKT  90d - MKT  \\\nCIK     day -1     day 0                                                    \n701374  2011-12-19 2011-12-20   0.028587   0.045598   0.066155   0.088994   \n        2010-09-10 2010-09-13   0.052957   0.192830   0.224000   0.201989   \n1564902 2015-08-05 2015-08-06   0.112555   0.079425   0.163290   0.084794   \n1656239 2017-12-19 2017-12-20  -0.008109  -0.003761  -0.066473   0.021434   \n701374  2010-08-17 2010-08-18   0.147650   0.227516   0.406509   0.439672   \n\n                               120d - MKT  IDT  10d - IDT  30d - IDT  \\\nCIK     day -1     day 0                                               \n701374  2011-12-19 2011-12-20    0.235092  Fun   0.009532  -0.074887   \n        2010-09-10 2010-09-13    0.326795  Fun   0.035403   0.129236   \n1564902 2015-08-05 2015-08-06    0.209264  Fun   0.164825   0.152916   \n1656239 2017-12-19 2017-12-20   -0.011662  Fun  -0.011698  -0.141719   \n701374  2010-08-17 2010-08-18    0.539067  Fun   0.166571   0.199279   \n\n                               60d - IDT  90d - IDT  120d - IDT  \nCIK     day -1     day 0                                         \n701374  2011-12-19 2011-12-20  -0.104348  -0.026459    0.241854  \n        2010-09-10 2010-09-13   0.049928   0.064094    0.212719  \n1564902 2015-08-05 2015-08-06   0.221021   0.152378    0.289041  \n1656239 2017-12-19 2017-12-20  -0.306346  -0.235856   -0.398724  \n701374  2010-08-17 2010-08-18   0.187701   0.294820    0.371449  ",
      "text/html": "<div>\n<style scoped>\n    .dataframe tbody tr th:only-of-type {\n        vertical-align: middle;\n    }\n\n    .dataframe tbody tr th {\n        vertical-align: top;\n    }\n\n    .dataframe thead th {\n        text-align: right;\n    }\n</style>\n<table border=\"1\" class=\"dataframe\">\n  <thead>\n    <tr style=\"text-align: right;\">\n      <th></th>\n      <th></th>\n      <th></th>\n      <th>R</th>\n      <th>MKT</th>\n      <th>R - MKT</th>\n      <th>vol</th>\n      <th>EA</th>\n      <th>10d - MKT</th>\n      <th>30d - MKT</th>\n      <th>60d - MKT</th>\n      <th>90d - MKT</th>\n      <th>120d - MKT</th>\n      <th>IDT</th>\n      <th>10d - IDT</th>\n      <th>30d - IDT</th>\n      <th>60d - IDT</th>\n      <th>90d - IDT</th>\n      <th>120d - IDT</th>\n    </tr>\n    <tr>\n      <th>CIK</th>\n      <th>day -1</th>\n      <th>day 0</th>\n      <th></th>\n      <th></th>\n      <th></th>\n      <th></th>\n      <th></th>\n      <th></th>\n      <th></th>\n      <th></th>\n      <th></th>\n      <th></th>\n      <th></th>\n      <th></th>\n      <th></th>\n      <th></th>\n      <th></th>\n      <th></th>\n    </tr>\n  </thead>\n  <tbody>\n    <tr>\n      <th rowspan=\"2\" valign=\"top\">701374</th>\n      <th>2011-12-19</th>\n      <th>2011-12-20</th>\n      <td>1.080043</td>\n      <td>1.033062</td>\n      <td>0.046981</td>\n      <td>0.673755</td>\n      <td>NaN</td>\n      <td>0.028587</td>\n      <td>0.045598</td>\n      <td>0.066155</td>\n      <td>0.088994</td>\n      <td>0.235092</td>\n      <td>Fun</td>\n      <td>0.009532</td>\n      <td>-0.074887</td>\n      <td>-0.104348</td>\n      <td>-0.026459</td>\n      <td>0.241854</td>\n    </tr>\n    <tr>\n      <th>2010-09-10</th>\n      <th>2010-09-13</th>\n      <td>1.038945</td>\n      <td>1.012392</td>\n      <td>0.026553</td>\n      <td>0.591688</td>\n      <td>NaN</td>\n      <td>0.052957</td>\n      <td>0.192830</td>\n      <td>0.224000</td>\n      <td>0.201989</td>\n      <td>0.326795</td>\n      <td>Fun</td>\n      <td>0.035403</td>\n      <td>0.129236</td>\n      <td>0.049928</td>\n      <td>0.064094</td>\n      <td>0.212719</td>\n    </tr>\n    <tr>\n      <th>1564902</th>\n      <th>2015-08-05</th>\n      <th>2015-08-06</th>\n      <td>1.037931</td>\n      <td>0.987632</td>\n      <td>0.050299</td>\n      <td>1.530385</td>\n      <td>0.0</td>\n      <td>0.112555</td>\n      <td>0.079425</td>\n      <td>0.163290</td>\n      <td>0.084794</td>\n      <td>0.209264</td>\n      <td>Fun</td>\n      <td>0.164825</td>\n      <td>0.152916</td>\n      <td>0.221021</td>\n      <td>0.152378</td>\n      <td>0.289041</td>\n    </tr>\n    <tr>\n      <th>1656239</th>\n      <th>2017-12-19</th>\n      <th>2017-12-20</th>\n      <td>1.030711</td>\n      <td>1.002500</td>\n      <td>0.028211</td>\n      <td>0.956442</td>\n      <td>NaN</td>\n      <td>-0.008109</td>\n      <td>-0.003761</td>\n      <td>-0.066473</td>\n      <td>0.021434</td>\n      <td>-0.011662</td>\n      <td>Fun</td>\n      <td>-0.011698</td>\n      <td>-0.141719</td>\n      <td>-0.306346</td>\n      <td>-0.235856</td>\n      <td>-0.398724</td>\n    </tr>\n    <tr>\n      <th>701374</th>\n      <th>2010-08-17</th>\n      <th>2010-08-18</th>\n      <td>1.024483</td>\n      <td>0.984663</td>\n      <td>0.039819</td>\n      <td>2.361030</td>\n      <td>NaN</td>\n      <td>0.147650</td>\n      <td>0.227516</td>\n      <td>0.406509</td>\n      <td>0.439672</td>\n      <td>0.539067</td>\n      <td>Fun</td>\n      <td>0.166571</td>\n      <td>0.199279</td>\n      <td>0.187701</td>\n      <td>0.294820</td>\n      <td>0.371449</td>\n    </tr>\n  </tbody>\n</table>\n</div>"
     },
     "metadata": {}
    },
    {
     "output_type": "stream",
     "name": "stdout",
     "text": "Accommodation and Food Services\n190/227 price history generated from wrds/crsp\n9/12 price history generated from yahoo finance\n217/227 earnings call date checked\n"
    },
    {
     "output_type": "display_data",
     "data": {
      "text/plain": "                                     R       MKT   R - MKT       vol  EA  \\\nCIK    day -1     day 0                                                    \n858339 2014-11-11 2014-11-12  1.482047  1.000400  0.481647  0.766720 NaN   \n       2013-04-22 2013-04-23  1.315452  1.011707  0.303746  2.324882 NaN   \n       2016-07-29 2016-08-01  1.150725  0.991411  0.159313  0.498378 NaN   \n       2014-12-18 2014-12-19  1.138952  1.008016  0.130936  2.086160 NaN   \n       2014-12-19 2014-12-22  1.129726  1.005808  0.123918  1.412747 NaN   \n\n                              10d - MKT  30d - MKT  60d - MKT  90d - MKT  \\\nCIK    day -1     day 0                                                    \n858339 2014-11-11 2014-11-12   0.520094   0.361173  -0.047886  -0.181175   \n       2013-04-22 2013-04-23   0.185665   0.022828   0.223311   0.674142   \n       2016-07-29 2016-08-01   0.068352  -0.025810   0.055750   0.131462   \n       2014-12-18 2014-12-19   0.038639  -0.137135  -0.311356  -0.327851   \n       2014-12-19 2014-12-22  -0.000844  -0.147795  -0.332249  -0.344986   \n\n                              120d - MKT  IDT  10d - IDT  30d - IDT  \\\nCIK    day -1     day 0                                               \n858339 2014-11-11 2014-11-12   -0.141596  Fun   0.536483   0.436060   \n       2013-04-22 2013-04-23    0.635222  Fun   0.143411  -0.023512   \n       2016-07-29 2016-08-01    0.252755  Fun   0.049604  -0.087516   \n       2014-12-18 2014-12-19   -0.510855  Fun   0.026276  -0.208316   \n       2014-12-19 2014-12-22   -0.544683  Fun  -0.001818  -0.193420   \n\n                              60d - IDT  90d - IDT  120d - IDT  \nCIK    day -1     day 0                                         \n858339 2014-11-11 2014-11-12  -0.022000  -0.136845   -0.112960  \n       2013-04-22 2013-04-23   0.188519   0.591865    0.462559  \n       2016-07-29 2016-08-01  -0.100688  -0.029959    0.110385  \n       2014-12-18 2014-12-19  -0.373273  -0.413537   -0.631239  \n       2014-12-19 2014-12-22  -0.366452  -0.410255   -0.641130  ",
      "text/html": "<div>\n<style scoped>\n    .dataframe tbody tr th:only-of-type {\n        vertical-align: middle;\n    }\n\n    .dataframe tbody tr th {\n        vertical-align: top;\n    }\n\n    .dataframe thead th {\n        text-align: right;\n    }\n</style>\n<table border=\"1\" class=\"dataframe\">\n  <thead>\n    <tr style=\"text-align: right;\">\n      <th></th>\n      <th></th>\n      <th></th>\n      <th>R</th>\n      <th>MKT</th>\n      <th>R - MKT</th>\n      <th>vol</th>\n      <th>EA</th>\n      <th>10d - MKT</th>\n      <th>30d - MKT</th>\n      <th>60d - MKT</th>\n      <th>90d - MKT</th>\n      <th>120d - MKT</th>\n      <th>IDT</th>\n      <th>10d - IDT</th>\n      <th>30d - IDT</th>\n      <th>60d - IDT</th>\n      <th>90d - IDT</th>\n      <th>120d - IDT</th>\n    </tr>\n    <tr>\n      <th>CIK</th>\n      <th>day -1</th>\n      <th>day 0</th>\n      <th></th>\n      <th></th>\n      <th></th>\n      <th></th>\n      <th></th>\n      <th></th>\n      <th></th>\n      <th></th>\n      <th></th>\n      <th></th>\n      <th></th>\n      <th></th>\n      <th></th>\n      <th></th>\n      <th></th>\n      <th></th>\n    </tr>\n  </thead>\n  <tbody>\n    <tr>\n      <th rowspan=\"5\" valign=\"top\">858339</th>\n      <th>2014-11-11</th>\n      <th>2014-11-12</th>\n      <td>1.482047</td>\n      <td>1.000400</td>\n      <td>0.481647</td>\n      <td>0.766720</td>\n      <td>NaN</td>\n      <td>0.520094</td>\n      <td>0.361173</td>\n      <td>-0.047886</td>\n      <td>-0.181175</td>\n      <td>-0.141596</td>\n      <td>Fun</td>\n      <td>0.536483</td>\n      <td>0.436060</td>\n      <td>-0.022000</td>\n      <td>-0.136845</td>\n      <td>-0.112960</td>\n    </tr>\n    <tr>\n      <th>2013-04-22</th>\n      <th>2013-04-23</th>\n      <td>1.315452</td>\n      <td>1.011707</td>\n      <td>0.303746</td>\n      <td>2.324882</td>\n      <td>NaN</td>\n      <td>0.185665</td>\n      <td>0.022828</td>\n      <td>0.223311</td>\n      <td>0.674142</td>\n      <td>0.635222</td>\n      <td>Fun</td>\n      <td>0.143411</td>\n      <td>-0.023512</td>\n      <td>0.188519</td>\n      <td>0.591865</td>\n      <td>0.462559</td>\n    </tr>\n    <tr>\n      <th>2016-07-29</th>\n      <th>2016-08-01</th>\n      <td>1.150725</td>\n      <td>0.991411</td>\n      <td>0.159313</td>\n      <td>0.498378</td>\n      <td>NaN</td>\n      <td>0.068352</td>\n      <td>-0.025810</td>\n      <td>0.055750</td>\n      <td>0.131462</td>\n      <td>0.252755</td>\n      <td>Fun</td>\n      <td>0.049604</td>\n      <td>-0.087516</td>\n      <td>-0.100688</td>\n      <td>-0.029959</td>\n      <td>0.110385</td>\n    </tr>\n    <tr>\n      <th>2014-12-18</th>\n      <th>2014-12-19</th>\n      <td>1.138952</td>\n      <td>1.008016</td>\n      <td>0.130936</td>\n      <td>2.086160</td>\n      <td>NaN</td>\n      <td>0.038639</td>\n      <td>-0.137135</td>\n      <td>-0.311356</td>\n      <td>-0.327851</td>\n      <td>-0.510855</td>\n      <td>Fun</td>\n      <td>0.026276</td>\n      <td>-0.208316</td>\n      <td>-0.373273</td>\n      <td>-0.413537</td>\n      <td>-0.631239</td>\n    </tr>\n    <tr>\n      <th>2014-12-19</th>\n      <th>2014-12-22</th>\n      <td>1.129726</td>\n      <td>1.005808</td>\n      <td>0.123918</td>\n      <td>1.412747</td>\n      <td>NaN</td>\n      <td>-0.000844</td>\n      <td>-0.147795</td>\n      <td>-0.332249</td>\n      <td>-0.344986</td>\n      <td>-0.544683</td>\n      <td>Fun</td>\n      <td>-0.001818</td>\n      <td>-0.193420</td>\n      <td>-0.366452</td>\n      <td>-0.410255</td>\n      <td>-0.641130</td>\n    </tr>\n  </tbody>\n</table>\n</div>"
     },
     "metadata": {}
    }
   ],
   "source": [
    "import logging\n",
    "# my_logger = logging.getLogger()\n",
    "# my_logger.disabled = True\n",
    "\n",
    "logging.basicConfig(filename=\"logs/generate_price_history/log.txt\",\n",
    "                    filemode='a',\n",
    "                    level=logging.INFO,\n",
    "                    format='%(levelname)s: %(asctime)s - %(message)s',\n",
    "                    datefmt='%m/%d/%Y %I:%M:%S')\n",
    "\n",
    "                    \n",
    "repository_path = \"backtests/LDA\"\n",
    "\n",
    "# get price history and performance metrics for each signal event\n",
    "HOLDING_PERIOD = 30*5 # in days\n",
    "\n",
    "master_df = list()\n",
    "for sector_name in NACIS_sector_name:\n",
    "    \n",
    "    file_path = f\"{repository_path}/{sector_name}/signal.csv\"\n",
    "    if not Path(file_path).is_file():\n",
    "        continue\n",
    "    print(sector_name)\n",
    "\n",
    "    # get signal events\n",
    "    df = pd.read_csv(file_path)\n",
    "    BUY_SIGNAL = { int(col): df[col].dropna().to_list() for col in df}\n",
    "\n",
    "    # get price history from wrds\n",
    "    price_history, volume_on_event_day, no_price_history_signal = get_price_history(db, CIK_PERMNO_mapping, BUY_SIGNAL, HOLDING_PERIOD)\n",
    "    # get price history of those not available from wrds, from yahoo finance\n",
    "    ex_price_history, ex_volume_on_event_day, _ = get_price_history_yahoo_finance(CIK_TICKER_mapping, no_price_history_signal, HOLDING_PERIOD)\n",
    "    # put price history from wrds and yahoo finance together\n",
    "    price_history[ex_price_history.columns] = ex_price_history\n",
    "    volume_on_event_day = pd.concat([volume_on_event_day, ex_volume_on_event_day])\n",
    "\n",
    "    # compute return statistics\n",
    "    return_stats = get_return_stats(db, price_history, CIK_SIC_mapping, SIC_portfolio_mapping)\n",
    "\n",
    "    # add volume data to return stats\n",
    "    add_to_return_stats(index=3, df=volume_on_event_day, return_stats=return_stats)\n",
    "\n",
    "    # get earnings call flag and add to return stats\n",
    "    earnings_call_date, _ = utils.backtest_performance.get_earnings_call_date(db, CIK_TICKER_mapping, BUY_SIGNAL)\n",
    "    add_to_return_stats(index=4, df=earnings_call_date, return_stats=return_stats)\n",
    "\n",
    "    # append to master variables\n",
    "    master_df.append(return_stats)\n",
    "    display(return_stats.sort_values(\"R\", ascending=False).iloc[:5])\n",
    "    # save to local\n",
    "    return_stats.to_csv(f\"{repository_path}/{sector_name}/performance.csv\")\n",
    "\n",
    "    # break\n",
    "\n",
    "# sector-aggregated performance table to local\n",
    "pd.concat(master_df).to_csv(f\"{repository_path}/performance.csv\")"
   ]
  },
  {
   "cell_type": "code",
   "execution_count": 9,
   "metadata": {},
   "outputs": [
    {
     "output_type": "stream",
     "name": "stdout",
     "text": [
      "2000-01-01 - 2005-12-31\n"
     ]
    },
    {
     "output_type": "display_data",
     "data": {
      "text/plain": "       sample size          1d - MKT         10d - MKT         30d - MKT  \\\n2              1.0     0.0236 (nan%)    -0.0246 (nan%)    -0.0705 (nan%)   \n4             23.0    0.0097 (0.43%)   0.0104 (39.52%)   0.0242 (31.84%)   \n5              2.0   0.0041 (90.50%)   0.0041 (79.58%)  -0.0321 (10.80%)   \n6              2.0   -0.0100 (9.33%)   0.0385 (35.65%)   0.0668 (34.94%)   \n7              3.0   0.0143 (47.81%)   0.0014 (92.47%)   0.0269 (61.48%)   \n8             12.0  -0.0094 (65.59%)  -0.0195 (32.56%)   0.0029 (92.59%)   \n9             17.0   0.0043 (57.95%)    0.0195 (2.68%)   0.0296 (12.69%)   \n11             2.0   0.0059 (74.12%)   0.0044 (91.65%)  -0.0075 (97.38%)   \n13             1.0    -0.0127 (nan%)     0.0611 (nan%)    -0.0373 (nan%)   \n17             5.0   0.0202 (32.15%)   0.0124 (31.61%)   0.0304 (37.64%)   \nTotal         68.0    0.005 (27.32%)    0.0078 (19.3%)   0.0187 (11.52%)   \n\n              60d - MKT         90d - MKT        120d - MKT          1d - IDT  \\\n2        -0.0988 (nan%)    -0.0422 (nan%)    -0.0171 (nan%)     0.0121 (nan%)   \n4       0.0229 (44.63%)    0.1095 (1.02%)    0.1717 (0.03%)    0.0063 (3.06%)   \n5       -0.0511 (9.27%)  -0.0439 (51.20%)  -0.0246 (72.55%)   0.0028 (92.40%)   \n6       0.0486 (24.43%)    0.1311 (2.83%)   0.0486 (45.02%)   -0.0085 (2.13%)   \n7       0.1169 (18.41%)   0.0518 (26.69%)   0.0777 (39.14%)   0.0060 (66.79%)   \n8       0.0464 (28.08%)   0.0663 (40.13%)   0.0014 (98.35%)  -0.0114 (60.82%)   \n9        0.0693 (9.58%)    0.1111 (6.96%)    0.1356 (6.80%)   0.0021 (72.60%)   \n11     -0.0077 (97.81%)   0.1389 (68.28%)   0.3461 (51.78%)   0.0069 (78.14%)   \n13       -0.0070 (nan%)     0.0664 (nan%)     0.1412 (nan%)    -0.0030 (nan%)   \n17      0.0475 (41.49%)   0.0437 (40.87%)   0.0629 (43.93%)   0.0213 (35.96%)   \nTotal      0.04 (2.25%)     0.089 (0.05%)     0.113 (0.01%)   0.0027 (55.54%)   \n\n              10d - IDT         30d - IDT         60d - IDT         90d - IDT  \\\n2        -0.0602 (nan%)    -0.1108 (nan%)    -0.1840 (nan%)    -0.1311 (nan%)   \n4       0.0086 (44.87%)   0.0296 (24.53%)   0.0195 (53.43%)    0.0886 (3.25%)   \n5       0.0120 (53.68%)  -0.0283 (10.40%)  -0.0591 (12.93%)  -0.0511 (43.23%)   \n6       0.0410 (48.84%)   0.0592 (56.75%)   0.0407 (27.36%)    0.1559 (3.65%)   \n7      -0.0119 (67.72%)   0.0055 (92.35%)   0.0387 (57.09%)  -0.0191 (61.73%)   \n8      -0.0304 (20.69%)  -0.0150 (68.09%)   0.0149 (62.12%)   0.0620 (35.15%)   \n9        0.0220 (3.10%)   0.0280 (11.81%)   0.0616 (15.17%)   0.0819 (17.41%)   \n11      0.0065 (83.33%)   0.0067 (97.46%)  -0.0250 (92.23%)   0.1158 (68.84%)   \n13        0.0598 (nan%)    -0.0383 (nan%)    -0.0210 (nan%)     0.0260 (nan%)   \n17      0.0147 (20.40%)   0.0265 (35.58%)   0.0404 (30.25%)   0.0438 (30.79%)   \nTotal   0.0053 (41.86%)   0.0155 (21.51%)    0.025 (13.89%)    0.0687 (0.43%)   \n\n             120d - IDT  \n2        -0.1714 (nan%)  \n4        0.1343 (0.26%)  \n5      -0.0407 (44.85%)  \n6       0.0471 (54.26%)  \n7      -0.0395 (47.35%)  \n8       0.0160 (81.25%)  \n9       0.0976 (17.68%)  \n11      0.3249 (52.06%)  \n13        0.1091 (nan%)  \n17      0.0524 (42.89%)  \nTotal    0.0836 (0.31%)  ",
      "text/html": "<div>\n<style scoped>\n    .dataframe tbody tr th:only-of-type {\n        vertical-align: middle;\n    }\n\n    .dataframe tbody tr th {\n        vertical-align: top;\n    }\n\n    .dataframe thead th {\n        text-align: right;\n    }\n</style>\n<table border=\"1\" class=\"dataframe\">\n  <thead>\n    <tr style=\"text-align: right;\">\n      <th></th>\n      <th>sample size</th>\n      <th>1d - MKT</th>\n      <th>10d - MKT</th>\n      <th>30d - MKT</th>\n      <th>60d - MKT</th>\n      <th>90d - MKT</th>\n      <th>120d - MKT</th>\n      <th>1d - IDT</th>\n      <th>10d - IDT</th>\n      <th>30d - IDT</th>\n      <th>60d - IDT</th>\n      <th>90d - IDT</th>\n      <th>120d - IDT</th>\n    </tr>\n  </thead>\n  <tbody>\n    <tr>\n      <th>2</th>\n      <td>1.0</td>\n      <td>0.0236 (nan%)</td>\n      <td>-0.0246 (nan%)</td>\n      <td>-0.0705 (nan%)</td>\n      <td>-0.0988 (nan%)</td>\n      <td>-0.0422 (nan%)</td>\n      <td>-0.0171 (nan%)</td>\n      <td>0.0121 (nan%)</td>\n      <td>-0.0602 (nan%)</td>\n      <td>-0.1108 (nan%)</td>\n      <td>-0.1840 (nan%)</td>\n      <td>-0.1311 (nan%)</td>\n      <td>-0.1714 (nan%)</td>\n    </tr>\n    <tr>\n      <th>4</th>\n      <td>23.0</td>\n      <td>0.0097 (0.43%)</td>\n      <td>0.0104 (39.52%)</td>\n      <td>0.0242 (31.84%)</td>\n      <td>0.0229 (44.63%)</td>\n      <td>0.1095 (1.02%)</td>\n      <td>0.1717 (0.03%)</td>\n      <td>0.0063 (3.06%)</td>\n      <td>0.0086 (44.87%)</td>\n      <td>0.0296 (24.53%)</td>\n      <td>0.0195 (53.43%)</td>\n      <td>0.0886 (3.25%)</td>\n      <td>0.1343 (0.26%)</td>\n    </tr>\n    <tr>\n      <th>5</th>\n      <td>2.0</td>\n      <td>0.0041 (90.50%)</td>\n      <td>0.0041 (79.58%)</td>\n      <td>-0.0321 (10.80%)</td>\n      <td>-0.0511 (9.27%)</td>\n      <td>-0.0439 (51.20%)</td>\n      <td>-0.0246 (72.55%)</td>\n      <td>0.0028 (92.40%)</td>\n      <td>0.0120 (53.68%)</td>\n      <td>-0.0283 (10.40%)</td>\n      <td>-0.0591 (12.93%)</td>\n      <td>-0.0511 (43.23%)</td>\n      <td>-0.0407 (44.85%)</td>\n    </tr>\n    <tr>\n      <th>6</th>\n      <td>2.0</td>\n      <td>-0.0100 (9.33%)</td>\n      <td>0.0385 (35.65%)</td>\n      <td>0.0668 (34.94%)</td>\n      <td>0.0486 (24.43%)</td>\n      <td>0.1311 (2.83%)</td>\n      <td>0.0486 (45.02%)</td>\n      <td>-0.0085 (2.13%)</td>\n      <td>0.0410 (48.84%)</td>\n      <td>0.0592 (56.75%)</td>\n      <td>0.0407 (27.36%)</td>\n      <td>0.1559 (3.65%)</td>\n      <td>0.0471 (54.26%)</td>\n    </tr>\n    <tr>\n      <th>7</th>\n      <td>3.0</td>\n      <td>0.0143 (47.81%)</td>\n      <td>0.0014 (92.47%)</td>\n      <td>0.0269 (61.48%)</td>\n      <td>0.1169 (18.41%)</td>\n      <td>0.0518 (26.69%)</td>\n      <td>0.0777 (39.14%)</td>\n      <td>0.0060 (66.79%)</td>\n      <td>-0.0119 (67.72%)</td>\n      <td>0.0055 (92.35%)</td>\n      <td>0.0387 (57.09%)</td>\n      <td>-0.0191 (61.73%)</td>\n      <td>-0.0395 (47.35%)</td>\n    </tr>\n    <tr>\n      <th>8</th>\n      <td>12.0</td>\n      <td>-0.0094 (65.59%)</td>\n      <td>-0.0195 (32.56%)</td>\n      <td>0.0029 (92.59%)</td>\n      <td>0.0464 (28.08%)</td>\n      <td>0.0663 (40.13%)</td>\n      <td>0.0014 (98.35%)</td>\n      <td>-0.0114 (60.82%)</td>\n      <td>-0.0304 (20.69%)</td>\n      <td>-0.0150 (68.09%)</td>\n      <td>0.0149 (62.12%)</td>\n      <td>0.0620 (35.15%)</td>\n      <td>0.0160 (81.25%)</td>\n    </tr>\n    <tr>\n      <th>9</th>\n      <td>17.0</td>\n      <td>0.0043 (57.95%)</td>\n      <td>0.0195 (2.68%)</td>\n      <td>0.0296 (12.69%)</td>\n      <td>0.0693 (9.58%)</td>\n      <td>0.1111 (6.96%)</td>\n      <td>0.1356 (6.80%)</td>\n      <td>0.0021 (72.60%)</td>\n      <td>0.0220 (3.10%)</td>\n      <td>0.0280 (11.81%)</td>\n      <td>0.0616 (15.17%)</td>\n      <td>0.0819 (17.41%)</td>\n      <td>0.0976 (17.68%)</td>\n    </tr>\n    <tr>\n      <th>11</th>\n      <td>2.0</td>\n      <td>0.0059 (74.12%)</td>\n      <td>0.0044 (91.65%)</td>\n      <td>-0.0075 (97.38%)</td>\n      <td>-0.0077 (97.81%)</td>\n      <td>0.1389 (68.28%)</td>\n      <td>0.3461 (51.78%)</td>\n      <td>0.0069 (78.14%)</td>\n      <td>0.0065 (83.33%)</td>\n      <td>0.0067 (97.46%)</td>\n      <td>-0.0250 (92.23%)</td>\n      <td>0.1158 (68.84%)</td>\n      <td>0.3249 (52.06%)</td>\n    </tr>\n    <tr>\n      <th>13</th>\n      <td>1.0</td>\n      <td>-0.0127 (nan%)</td>\n      <td>0.0611 (nan%)</td>\n      <td>-0.0373 (nan%)</td>\n      <td>-0.0070 (nan%)</td>\n      <td>0.0664 (nan%)</td>\n      <td>0.1412 (nan%)</td>\n      <td>-0.0030 (nan%)</td>\n      <td>0.0598 (nan%)</td>\n      <td>-0.0383 (nan%)</td>\n      <td>-0.0210 (nan%)</td>\n      <td>0.0260 (nan%)</td>\n      <td>0.1091 (nan%)</td>\n    </tr>\n    <tr>\n      <th>17</th>\n      <td>5.0</td>\n      <td>0.0202 (32.15%)</td>\n      <td>0.0124 (31.61%)</td>\n      <td>0.0304 (37.64%)</td>\n      <td>0.0475 (41.49%)</td>\n      <td>0.0437 (40.87%)</td>\n      <td>0.0629 (43.93%)</td>\n      <td>0.0213 (35.96%)</td>\n      <td>0.0147 (20.40%)</td>\n      <td>0.0265 (35.58%)</td>\n      <td>0.0404 (30.25%)</td>\n      <td>0.0438 (30.79%)</td>\n      <td>0.0524 (42.89%)</td>\n    </tr>\n    <tr>\n      <th>Total</th>\n      <td>68.0</td>\n      <td>0.005 (27.32%)</td>\n      <td>0.0078 (19.3%)</td>\n      <td>0.0187 (11.52%)</td>\n      <td>0.04 (2.25%)</td>\n      <td>0.089 (0.05%)</td>\n      <td>0.113 (0.01%)</td>\n      <td>0.0027 (55.54%)</td>\n      <td>0.0053 (41.86%)</td>\n      <td>0.0155 (21.51%)</td>\n      <td>0.025 (13.89%)</td>\n      <td>0.0687 (0.43%)</td>\n      <td>0.0836 (0.31%)</td>\n    </tr>\n  </tbody>\n</table>\n</div>"
     },
     "metadata": {}
    },
    {
     "output_type": "stream",
     "name": "stdout",
     "text": [
      "2006-01-01 - 2007-12-31\n"
     ]
    },
    {
     "output_type": "display_data",
     "data": {
      "text/plain": "       sample size          1d - MKT         10d - MKT         30d - MKT  \\\n1              3.0   0.0262 (27.84%)   0.0222 (64.14%)   0.0540 (60.80%)   \n2              6.0   0.0045 (68.70%)   0.0067 (78.85%)   0.0290 (29.39%)   \n3              1.0     0.0200 (nan%)     0.0581 (nan%)    -0.1092 (nan%)   \n4             35.0    0.0166 (8.48%)   0.0255 (14.75%)   0.0333 (14.48%)   \n5              3.0   0.0091 (59.57%)  -0.0101 (56.01%)  -0.0337 (58.89%)   \n6              5.0  -0.0059 (39.46%)   0.0164 (33.71%)   0.0794 (29.85%)   \n7              8.0  -0.0019 (88.47%)   0.0009 (96.23%)    0.0418 (7.94%)   \n8             24.0   0.0022 (74.50%)  -0.0103 (49.42%)  -0.0120 (47.19%)   \n9             14.0   0.0073 (16.63%)  -0.0066 (72.76%)  -0.0104 (67.32%)   \n10             2.0   0.0071 (64.35%)  -0.0011 (98.58%)   0.0186 (44.50%)   \n11             8.0  -0.0277 (33.44%)  -0.0113 (80.15%)   0.0261 (64.39%)   \n13             1.0    -0.0039 (nan%)     0.0103 (nan%)     0.0705 (nan%)   \n16             1.0    -0.0106 (nan%)     0.0190 (nan%)    -0.0809 (nan%)   \n17             1.0    -0.0112 (nan%)    -0.0034 (nan%)    -0.0360 (nan%)   \nTotal        112.0   0.0054 (18.39%)   0.0063 (40.95%)    0.016 (12.26%)   \n\n              60d - MKT         90d - MKT        120d - MKT          1d - IDT  \\\n1       0.0259 (42.95%)  -0.0250 (87.11%)   0.0783 (63.56%)   0.0192 (27.90%)   \n2       0.1147 (11.21%)   0.1887 (10.87%)    0.3272 (4.14%)   0.0040 (69.21%)   \n3         0.0283 (nan%)     0.1249 (nan%)     0.3997 (nan%)     0.0058 (nan%)   \n4        0.0729 (1.94%)    0.0994 (1.47%)    0.1291 (0.29%)   0.0128 (18.25%)   \n5      -0.0384 (55.53%)  -0.0240 (73.78%)  -0.0312 (77.38%)   0.0099 (57.63%)   \n6       0.0808 (15.23%)   0.0571 (45.10%)   0.0204 (75.98%)  -0.0108 (11.62%)   \n7        0.0887 (1.69%)    0.1495 (2.71%)    0.2059 (1.63%)   0.0040 (69.89%)   \n8      -0.0228 (33.79%)  -0.0200 (56.53%)  -0.0130 (76.92%)   0.0001 (98.77%)   \n9      -0.0110 (77.68%)  -0.0339 (39.67%)  -0.0409 (34.12%)   0.0012 (79.64%)   \n10      0.0442 (24.98%)   0.0418 (70.69%)  -0.2083 (25.38%)   0.0015 (57.00%)   \n11     -0.0119 (76.30%)  -0.0291 (56.83%)   0.0264 (56.85%)  -0.0280 (31.14%)   \n13        0.1001 (nan%)     0.1023 (nan%)     0.1550 (nan%)    -0.0105 (nan%)   \n16       -0.3005 (nan%)    -0.4310 (nan%)    -0.6079 (nan%)    -0.0041 (nan%)   \n17       -0.0223 (nan%)    -0.0097 (nan%)    -0.1325 (nan%)    -0.0100 (nan%)   \nTotal    0.0305 (2.69%)    0.0413 (2.88%)    0.0634 (0.54%)   0.0028 (47.27%)   \n\n              10d - IDT         30d - IDT         60d - IDT         90d - IDT  \\\n1       0.0131 (60.87%)   0.0290 (64.07%)  -0.0474 (34.07%)  -0.0902 (39.39%)   \n2       0.0071 (78.09%)   0.0198 (40.75%)   0.0602 (34.16%)   0.1130 (26.76%)   \n3         0.1137 (nan%)    -0.1041 (nan%)     0.0301 (nan%)     0.0925 (nan%)   \n4       0.0185 (25.98%)   0.0105 (62.60%)   0.0301 (28.46%)   0.0425 (23.49%)   \n5      -0.0052 (83.37%)  -0.0337 (61.18%)  -0.0366 (51.88%)  -0.0027 (97.22%)   \n6       0.0215 (40.04%)   0.0923 (21.29%)    0.1086 (7.17%)   0.1065 (20.31%)   \n7       0.0085 (62.83%)    0.0486 (4.44%)    0.0849 (1.11%)    0.1217 (3.51%)   \n8      -0.0150 (26.82%)  -0.0192 (20.23%)   -0.0423 (4.68%)   -0.0540 (9.77%)   \n9      -0.0101 (50.46%)  -0.0141 (46.30%)  -0.0031 (91.75%)  -0.0266 (38.55%)   \n10     -0.0053 (90.17%)   0.0062 (13.97%)   0.0201 (30.80%)   0.0827 (29.39%)   \n11     -0.0217 (61.71%)  -0.0018 (97.26%)  -0.0379 (24.75%)  -0.0562 (25.48%)   \n13        0.0019 (nan%)     0.0730 (nan%)     0.0983 (nan%)     0.1459 (nan%)   \n16        0.0232 (nan%)    -0.0804 (nan%)    -0.3609 (nan%)    -0.5803 (nan%)   \n17        0.0080 (nan%)    -0.0051 (nan%)    -0.0186 (nan%)    -0.0244 (nan%)   \nTotal   0.0031 (66.32%)   0.0049 (60.96%)   0.0072 (55.97%)   0.0096 (57.69%)   \n\n             120d - IDT  \n1      -0.0162 (87.27%)  \n2       0.2265 (13.46%)  \n3         0.3217 (nan%)  \n4       0.0489 (18.07%)  \n5      -0.0175 (87.49%)  \n6       0.0838 (15.96%)  \n7        0.1490 (4.30%)  \n8      -0.0615 (11.94%)  \n9      -0.0406 (24.11%)  \n10     -0.0301 (62.96%)  \n11     -0.0062 (90.22%)  \n13        0.1880 (nan%)  \n16       -0.7215 (nan%)  \n17       -0.1622 (nan%)  \nTotal   0.0183 (35.63%)  ",
      "text/html": "<div>\n<style scoped>\n    .dataframe tbody tr th:only-of-type {\n        vertical-align: middle;\n    }\n\n    .dataframe tbody tr th {\n        vertical-align: top;\n    }\n\n    .dataframe thead th {\n        text-align: right;\n    }\n</style>\n<table border=\"1\" class=\"dataframe\">\n  <thead>\n    <tr style=\"text-align: right;\">\n      <th></th>\n      <th>sample size</th>\n      <th>1d - MKT</th>\n      <th>10d - MKT</th>\n      <th>30d - MKT</th>\n      <th>60d - MKT</th>\n      <th>90d - MKT</th>\n      <th>120d - MKT</th>\n      <th>1d - IDT</th>\n      <th>10d - IDT</th>\n      <th>30d - IDT</th>\n      <th>60d - IDT</th>\n      <th>90d - IDT</th>\n      <th>120d - IDT</th>\n    </tr>\n  </thead>\n  <tbody>\n    <tr>\n      <th>1</th>\n      <td>3.0</td>\n      <td>0.0262 (27.84%)</td>\n      <td>0.0222 (64.14%)</td>\n      <td>0.0540 (60.80%)</td>\n      <td>0.0259 (42.95%)</td>\n      <td>-0.0250 (87.11%)</td>\n      <td>0.0783 (63.56%)</td>\n      <td>0.0192 (27.90%)</td>\n      <td>0.0131 (60.87%)</td>\n      <td>0.0290 (64.07%)</td>\n      <td>-0.0474 (34.07%)</td>\n      <td>-0.0902 (39.39%)</td>\n      <td>-0.0162 (87.27%)</td>\n    </tr>\n    <tr>\n      <th>2</th>\n      <td>6.0</td>\n      <td>0.0045 (68.70%)</td>\n      <td>0.0067 (78.85%)</td>\n      <td>0.0290 (29.39%)</td>\n      <td>0.1147 (11.21%)</td>\n      <td>0.1887 (10.87%)</td>\n      <td>0.3272 (4.14%)</td>\n      <td>0.0040 (69.21%)</td>\n      <td>0.0071 (78.09%)</td>\n      <td>0.0198 (40.75%)</td>\n      <td>0.0602 (34.16%)</td>\n      <td>0.1130 (26.76%)</td>\n      <td>0.2265 (13.46%)</td>\n    </tr>\n    <tr>\n      <th>3</th>\n      <td>1.0</td>\n      <td>0.0200 (nan%)</td>\n      <td>0.0581 (nan%)</td>\n      <td>-0.1092 (nan%)</td>\n      <td>0.0283 (nan%)</td>\n      <td>0.1249 (nan%)</td>\n      <td>0.3997 (nan%)</td>\n      <td>0.0058 (nan%)</td>\n      <td>0.1137 (nan%)</td>\n      <td>-0.1041 (nan%)</td>\n      <td>0.0301 (nan%)</td>\n      <td>0.0925 (nan%)</td>\n      <td>0.3217 (nan%)</td>\n    </tr>\n    <tr>\n      <th>4</th>\n      <td>35.0</td>\n      <td>0.0166 (8.48%)</td>\n      <td>0.0255 (14.75%)</td>\n      <td>0.0333 (14.48%)</td>\n      <td>0.0729 (1.94%)</td>\n      <td>0.0994 (1.47%)</td>\n      <td>0.1291 (0.29%)</td>\n      <td>0.0128 (18.25%)</td>\n      <td>0.0185 (25.98%)</td>\n      <td>0.0105 (62.60%)</td>\n      <td>0.0301 (28.46%)</td>\n      <td>0.0425 (23.49%)</td>\n      <td>0.0489 (18.07%)</td>\n    </tr>\n    <tr>\n      <th>5</th>\n      <td>3.0</td>\n      <td>0.0091 (59.57%)</td>\n      <td>-0.0101 (56.01%)</td>\n      <td>-0.0337 (58.89%)</td>\n      <td>-0.0384 (55.53%)</td>\n      <td>-0.0240 (73.78%)</td>\n      <td>-0.0312 (77.38%)</td>\n      <td>0.0099 (57.63%)</td>\n      <td>-0.0052 (83.37%)</td>\n      <td>-0.0337 (61.18%)</td>\n      <td>-0.0366 (51.88%)</td>\n      <td>-0.0027 (97.22%)</td>\n      <td>-0.0175 (87.49%)</td>\n    </tr>\n    <tr>\n      <th>6</th>\n      <td>5.0</td>\n      <td>-0.0059 (39.46%)</td>\n      <td>0.0164 (33.71%)</td>\n      <td>0.0794 (29.85%)</td>\n      <td>0.0808 (15.23%)</td>\n      <td>0.0571 (45.10%)</td>\n      <td>0.0204 (75.98%)</td>\n      <td>-0.0108 (11.62%)</td>\n      <td>0.0215 (40.04%)</td>\n      <td>0.0923 (21.29%)</td>\n      <td>0.1086 (7.17%)</td>\n      <td>0.1065 (20.31%)</td>\n      <td>0.0838 (15.96%)</td>\n    </tr>\n    <tr>\n      <th>7</th>\n      <td>8.0</td>\n      <td>-0.0019 (88.47%)</td>\n      <td>0.0009 (96.23%)</td>\n      <td>0.0418 (7.94%)</td>\n      <td>0.0887 (1.69%)</td>\n      <td>0.1495 (2.71%)</td>\n      <td>0.2059 (1.63%)</td>\n      <td>0.0040 (69.89%)</td>\n      <td>0.0085 (62.83%)</td>\n      <td>0.0486 (4.44%)</td>\n      <td>0.0849 (1.11%)</td>\n      <td>0.1217 (3.51%)</td>\n      <td>0.1490 (4.30%)</td>\n    </tr>\n    <tr>\n      <th>8</th>\n      <td>24.0</td>\n      <td>0.0022 (74.50%)</td>\n      <td>-0.0103 (49.42%)</td>\n      <td>-0.0120 (47.19%)</td>\n      <td>-0.0228 (33.79%)</td>\n      <td>-0.0200 (56.53%)</td>\n      <td>-0.0130 (76.92%)</td>\n      <td>0.0001 (98.77%)</td>\n      <td>-0.0150 (26.82%)</td>\n      <td>-0.0192 (20.23%)</td>\n      <td>-0.0423 (4.68%)</td>\n      <td>-0.0540 (9.77%)</td>\n      <td>-0.0615 (11.94%)</td>\n    </tr>\n    <tr>\n      <th>9</th>\n      <td>14.0</td>\n      <td>0.0073 (16.63%)</td>\n      <td>-0.0066 (72.76%)</td>\n      <td>-0.0104 (67.32%)</td>\n      <td>-0.0110 (77.68%)</td>\n      <td>-0.0339 (39.67%)</td>\n      <td>-0.0409 (34.12%)</td>\n      <td>0.0012 (79.64%)</td>\n      <td>-0.0101 (50.46%)</td>\n      <td>-0.0141 (46.30%)</td>\n      <td>-0.0031 (91.75%)</td>\n      <td>-0.0266 (38.55%)</td>\n      <td>-0.0406 (24.11%)</td>\n    </tr>\n    <tr>\n      <th>10</th>\n      <td>2.0</td>\n      <td>0.0071 (64.35%)</td>\n      <td>-0.0011 (98.58%)</td>\n      <td>0.0186 (44.50%)</td>\n      <td>0.0442 (24.98%)</td>\n      <td>0.0418 (70.69%)</td>\n      <td>-0.2083 (25.38%)</td>\n      <td>0.0015 (57.00%)</td>\n      <td>-0.0053 (90.17%)</td>\n      <td>0.0062 (13.97%)</td>\n      <td>0.0201 (30.80%)</td>\n      <td>0.0827 (29.39%)</td>\n      <td>-0.0301 (62.96%)</td>\n    </tr>\n    <tr>\n      <th>11</th>\n      <td>8.0</td>\n      <td>-0.0277 (33.44%)</td>\n      <td>-0.0113 (80.15%)</td>\n      <td>0.0261 (64.39%)</td>\n      <td>-0.0119 (76.30%)</td>\n      <td>-0.0291 (56.83%)</td>\n      <td>0.0264 (56.85%)</td>\n      <td>-0.0280 (31.14%)</td>\n      <td>-0.0217 (61.71%)</td>\n      <td>-0.0018 (97.26%)</td>\n      <td>-0.0379 (24.75%)</td>\n      <td>-0.0562 (25.48%)</td>\n      <td>-0.0062 (90.22%)</td>\n    </tr>\n    <tr>\n      <th>13</th>\n      <td>1.0</td>\n      <td>-0.0039 (nan%)</td>\n      <td>0.0103 (nan%)</td>\n      <td>0.0705 (nan%)</td>\n      <td>0.1001 (nan%)</td>\n      <td>0.1023 (nan%)</td>\n      <td>0.1550 (nan%)</td>\n      <td>-0.0105 (nan%)</td>\n      <td>0.0019 (nan%)</td>\n      <td>0.0730 (nan%)</td>\n      <td>0.0983 (nan%)</td>\n      <td>0.1459 (nan%)</td>\n      <td>0.1880 (nan%)</td>\n    </tr>\n    <tr>\n      <th>16</th>\n      <td>1.0</td>\n      <td>-0.0106 (nan%)</td>\n      <td>0.0190 (nan%)</td>\n      <td>-0.0809 (nan%)</td>\n      <td>-0.3005 (nan%)</td>\n      <td>-0.4310 (nan%)</td>\n      <td>-0.6079 (nan%)</td>\n      <td>-0.0041 (nan%)</td>\n      <td>0.0232 (nan%)</td>\n      <td>-0.0804 (nan%)</td>\n      <td>-0.3609 (nan%)</td>\n      <td>-0.5803 (nan%)</td>\n      <td>-0.7215 (nan%)</td>\n    </tr>\n    <tr>\n      <th>17</th>\n      <td>1.0</td>\n      <td>-0.0112 (nan%)</td>\n      <td>-0.0034 (nan%)</td>\n      <td>-0.0360 (nan%)</td>\n      <td>-0.0223 (nan%)</td>\n      <td>-0.0097 (nan%)</td>\n      <td>-0.1325 (nan%)</td>\n      <td>-0.0100 (nan%)</td>\n      <td>0.0080 (nan%)</td>\n      <td>-0.0051 (nan%)</td>\n      <td>-0.0186 (nan%)</td>\n      <td>-0.0244 (nan%)</td>\n      <td>-0.1622 (nan%)</td>\n    </tr>\n    <tr>\n      <th>Total</th>\n      <td>112.0</td>\n      <td>0.0054 (18.39%)</td>\n      <td>0.0063 (40.95%)</td>\n      <td>0.016 (12.26%)</td>\n      <td>0.0305 (2.69%)</td>\n      <td>0.0413 (2.88%)</td>\n      <td>0.0634 (0.54%)</td>\n      <td>0.0028 (47.27%)</td>\n      <td>0.0031 (66.32%)</td>\n      <td>0.0049 (60.96%)</td>\n      <td>0.0072 (55.97%)</td>\n      <td>0.0096 (57.69%)</td>\n      <td>0.0183 (35.63%)</td>\n    </tr>\n  </tbody>\n</table>\n</div>"
     },
     "metadata": {}
    },
    {
     "output_type": "stream",
     "name": "stdout",
     "text": [
      "2008-01-01 - 2009-12-31\n"
     ]
    },
    {
     "output_type": "display_data",
     "data": {
      "text/plain": "       sample size          1d - MKT         10d - MKT        30d - MKT  \\\n1              6.0   -0.0262 (6.94%)   0.0745 (21.16%)  0.1174 (11.51%)   \n2             11.0   0.0051 (67.82%)  -0.0111 (41.48%)  0.0197 (65.53%)   \n3              1.0     0.0608 (nan%)     0.0170 (nan%)   -0.0145 (nan%)   \n4             61.0  -0.0034 (49.54%)   0.0031 (76.40%)  0.0102 (50.09%)   \n6              3.0  -0.0297 (23.91%)  -0.0837 (14.83%)  -0.1617 (9.39%)   \n7              2.0   0.0004 (91.02%)   0.1205 (39.79%)  0.0857 (55.88%)   \n8             17.0   0.0051 (59.49%)  -0.0024 (90.35%)  0.0060 (79.06%)   \n9             14.0   0.0008 (93.75%)  -0.0031 (92.79%)  0.0064 (91.96%)   \n10             7.0   0.0228 (11.12%)  -0.0304 (32.98%)  0.0441 (55.46%)   \n11            10.0   0.0108 (85.72%)   0.0232 (73.67%)  0.0789 (22.08%)   \n13             1.0    -0.0374 (nan%)    -0.0343 (nan%)   -0.0822 (nan%)   \n17             4.0   0.0123 (68.22%)   0.0060 (87.27%)  0.0335 (48.18%)   \nTotal        137.0   0.0003 (95.54%)   0.0033 (70.54%)  0.0187 (13.02%)   \n\n              60d - MKT         90d - MKT        120d - MKT          1d - IDT  \\\n1       0.1951 (26.65%)   0.2745 (30.66%)   0.3815 (29.60%)  -0.0193 (17.54%)   \n2       0.0448 (49.97%)   0.0554 (57.99%)   0.0248 (82.61%)   0.0006 (96.11%)   \n3         0.0046 (nan%)     0.0871 (nan%)     0.1096 (nan%)     0.0535 (nan%)   \n4      -0.0005 (97.81%)   0.0008 (97.69%)  -0.0175 (58.44%)  -0.0019 (61.40%)   \n6      -0.0952 (38.86%)   -0.1571 (2.65%)  -0.1066 (26.15%)  -0.0277 (24.95%)   \n7       0.0846 (61.96%)   0.0348 (80.06%)   0.0616 (60.55%)  -0.0041 (46.52%)   \n8       0.0163 (58.20%)  -0.0025 (92.97%)   0.0345 (43.28%)   0.0047 (61.01%)   \n9      -0.0405 (70.02%)  -0.0627 (49.92%)  -0.1142 (22.38%)   0.0132 (19.20%)   \n10      0.0776 (72.17%)   0.0954 (72.03%)   0.1147 (75.08%)   0.0148 (11.35%)   \n11      0.0875 (13.49%)   0.1196 (11.72%)    0.1061 (7.96%)   0.0093 (87.50%)   \n13       -0.2017 (nan%)    -0.1347 (nan%)     0.0209 (nan%)    -0.0464 (nan%)   \n17     -0.0514 (26.25%)  -0.0126 (83.95%)   0.0722 (40.86%)   0.0194 (46.86%)   \nTotal   0.0164 (40.57%)   0.0201 (41.14%)   0.0187 (53.52%)   0.0017 (72.79%)   \n\n              10d - IDT         30d - IDT         60d - IDT         90d - IDT  \\\n1       0.0319 (30.13%)   0.0541 (16.30%)   0.1472 (26.01%)   0.2298 (20.94%)   \n2      -0.0273 (18.79%)   0.0294 (47.32%)   0.0474 (49.74%)   0.0621 (53.71%)   \n3         0.0962 (nan%)     0.0905 (nan%)     0.0455 (nan%)     0.1470 (nan%)   \n4       0.0042 (64.91%)   0.0087 (54.29%)  -0.0116 (46.75%)  -0.0111 (62.14%)   \n6      -0.0758 (12.82%)   -0.1694 (8.24%)  -0.1102 (20.88%)   -0.1662 (0.57%)   \n7       0.1272 (42.28%)   0.0533 (67.70%)   0.0723 (68.26%)   0.0262 (90.15%)   \n8       0.0015 (93.67%)  -0.0040 (82.93%)  -0.0040 (86.61%)  -0.0365 (24.38%)   \n9       0.0115 (62.24%)   0.0560 (29.51%)   0.0277 (75.02%)  -0.0065 (93.40%)   \n10     -0.0036 (83.01%)   0.0634 (24.83%)   0.0683 (60.51%)   0.0766 (65.83%)   \n11      0.0161 (81.29%)   0.0765 (23.78%)   0.0699 (24.10%)   0.0827 (27.41%)   \n13       -0.0295 (nan%)    -0.0726 (nan%)    -0.1943 (nan%)    -0.1470 (nan%)   \n17      0.0043 (91.32%)   0.0079 (87.71%)  -0.0941 (21.53%)  -0.0847 (34.58%)   \nTotal   0.0042 (57.88%)    0.0201 (6.78%)   0.0108 (49.62%)   0.0091 (64.62%)   \n\n             120d - IDT  \n1       0.3559 (16.14%)  \n2       0.0589 (59.62%)  \n3         0.1970 (nan%)  \n4      -0.0239 (36.39%)  \n6       -0.1697 (2.48%)  \n7       0.0420 (84.57%)  \n8       0.0127 (76.73%)  \n9      -0.0627 (42.09%)  \n10      0.1009 (65.34%)  \n11      0.0541 (38.21%)  \n13       -0.0389 (nan%)  \n17     -0.0214 (78.69%)  \nTotal   0.0114 (62.76%)  ",
      "text/html": "<div>\n<style scoped>\n    .dataframe tbody tr th:only-of-type {\n        vertical-align: middle;\n    }\n\n    .dataframe tbody tr th {\n        vertical-align: top;\n    }\n\n    .dataframe thead th {\n        text-align: right;\n    }\n</style>\n<table border=\"1\" class=\"dataframe\">\n  <thead>\n    <tr style=\"text-align: right;\">\n      <th></th>\n      <th>sample size</th>\n      <th>1d - MKT</th>\n      <th>10d - MKT</th>\n      <th>30d - MKT</th>\n      <th>60d - MKT</th>\n      <th>90d - MKT</th>\n      <th>120d - MKT</th>\n      <th>1d - IDT</th>\n      <th>10d - IDT</th>\n      <th>30d - IDT</th>\n      <th>60d - IDT</th>\n      <th>90d - IDT</th>\n      <th>120d - IDT</th>\n    </tr>\n  </thead>\n  <tbody>\n    <tr>\n      <th>1</th>\n      <td>6.0</td>\n      <td>-0.0262 (6.94%)</td>\n      <td>0.0745 (21.16%)</td>\n      <td>0.1174 (11.51%)</td>\n      <td>0.1951 (26.65%)</td>\n      <td>0.2745 (30.66%)</td>\n      <td>0.3815 (29.60%)</td>\n      <td>-0.0193 (17.54%)</td>\n      <td>0.0319 (30.13%)</td>\n      <td>0.0541 (16.30%)</td>\n      <td>0.1472 (26.01%)</td>\n      <td>0.2298 (20.94%)</td>\n      <td>0.3559 (16.14%)</td>\n    </tr>\n    <tr>\n      <th>2</th>\n      <td>11.0</td>\n      <td>0.0051 (67.82%)</td>\n      <td>-0.0111 (41.48%)</td>\n      <td>0.0197 (65.53%)</td>\n      <td>0.0448 (49.97%)</td>\n      <td>0.0554 (57.99%)</td>\n      <td>0.0248 (82.61%)</td>\n      <td>0.0006 (96.11%)</td>\n      <td>-0.0273 (18.79%)</td>\n      <td>0.0294 (47.32%)</td>\n      <td>0.0474 (49.74%)</td>\n      <td>0.0621 (53.71%)</td>\n      <td>0.0589 (59.62%)</td>\n    </tr>\n    <tr>\n      <th>3</th>\n      <td>1.0</td>\n      <td>0.0608 (nan%)</td>\n      <td>0.0170 (nan%)</td>\n      <td>-0.0145 (nan%)</td>\n      <td>0.0046 (nan%)</td>\n      <td>0.0871 (nan%)</td>\n      <td>0.1096 (nan%)</td>\n      <td>0.0535 (nan%)</td>\n      <td>0.0962 (nan%)</td>\n      <td>0.0905 (nan%)</td>\n      <td>0.0455 (nan%)</td>\n      <td>0.1470 (nan%)</td>\n      <td>0.1970 (nan%)</td>\n    </tr>\n    <tr>\n      <th>4</th>\n      <td>61.0</td>\n      <td>-0.0034 (49.54%)</td>\n      <td>0.0031 (76.40%)</td>\n      <td>0.0102 (50.09%)</td>\n      <td>-0.0005 (97.81%)</td>\n      <td>0.0008 (97.69%)</td>\n      <td>-0.0175 (58.44%)</td>\n      <td>-0.0019 (61.40%)</td>\n      <td>0.0042 (64.91%)</td>\n      <td>0.0087 (54.29%)</td>\n      <td>-0.0116 (46.75%)</td>\n      <td>-0.0111 (62.14%)</td>\n      <td>-0.0239 (36.39%)</td>\n    </tr>\n    <tr>\n      <th>6</th>\n      <td>3.0</td>\n      <td>-0.0297 (23.91%)</td>\n      <td>-0.0837 (14.83%)</td>\n      <td>-0.1617 (9.39%)</td>\n      <td>-0.0952 (38.86%)</td>\n      <td>-0.1571 (2.65%)</td>\n      <td>-0.1066 (26.15%)</td>\n      <td>-0.0277 (24.95%)</td>\n      <td>-0.0758 (12.82%)</td>\n      <td>-0.1694 (8.24%)</td>\n      <td>-0.1102 (20.88%)</td>\n      <td>-0.1662 (0.57%)</td>\n      <td>-0.1697 (2.48%)</td>\n    </tr>\n    <tr>\n      <th>7</th>\n      <td>2.0</td>\n      <td>0.0004 (91.02%)</td>\n      <td>0.1205 (39.79%)</td>\n      <td>0.0857 (55.88%)</td>\n      <td>0.0846 (61.96%)</td>\n      <td>0.0348 (80.06%)</td>\n      <td>0.0616 (60.55%)</td>\n      <td>-0.0041 (46.52%)</td>\n      <td>0.1272 (42.28%)</td>\n      <td>0.0533 (67.70%)</td>\n      <td>0.0723 (68.26%)</td>\n      <td>0.0262 (90.15%)</td>\n      <td>0.0420 (84.57%)</td>\n    </tr>\n    <tr>\n      <th>8</th>\n      <td>17.0</td>\n      <td>0.0051 (59.49%)</td>\n      <td>-0.0024 (90.35%)</td>\n      <td>0.0060 (79.06%)</td>\n      <td>0.0163 (58.20%)</td>\n      <td>-0.0025 (92.97%)</td>\n      <td>0.0345 (43.28%)</td>\n      <td>0.0047 (61.01%)</td>\n      <td>0.0015 (93.67%)</td>\n      <td>-0.0040 (82.93%)</td>\n      <td>-0.0040 (86.61%)</td>\n      <td>-0.0365 (24.38%)</td>\n      <td>0.0127 (76.73%)</td>\n    </tr>\n    <tr>\n      <th>9</th>\n      <td>14.0</td>\n      <td>0.0008 (93.75%)</td>\n      <td>-0.0031 (92.79%)</td>\n      <td>0.0064 (91.96%)</td>\n      <td>-0.0405 (70.02%)</td>\n      <td>-0.0627 (49.92%)</td>\n      <td>-0.1142 (22.38%)</td>\n      <td>0.0132 (19.20%)</td>\n      <td>0.0115 (62.24%)</td>\n      <td>0.0560 (29.51%)</td>\n      <td>0.0277 (75.02%)</td>\n      <td>-0.0065 (93.40%)</td>\n      <td>-0.0627 (42.09%)</td>\n    </tr>\n    <tr>\n      <th>10</th>\n      <td>7.0</td>\n      <td>0.0228 (11.12%)</td>\n      <td>-0.0304 (32.98%)</td>\n      <td>0.0441 (55.46%)</td>\n      <td>0.0776 (72.17%)</td>\n      <td>0.0954 (72.03%)</td>\n      <td>0.1147 (75.08%)</td>\n      <td>0.0148 (11.35%)</td>\n      <td>-0.0036 (83.01%)</td>\n      <td>0.0634 (24.83%)</td>\n      <td>0.0683 (60.51%)</td>\n      <td>0.0766 (65.83%)</td>\n      <td>0.1009 (65.34%)</td>\n    </tr>\n    <tr>\n      <th>11</th>\n      <td>10.0</td>\n      <td>0.0108 (85.72%)</td>\n      <td>0.0232 (73.67%)</td>\n      <td>0.0789 (22.08%)</td>\n      <td>0.0875 (13.49%)</td>\n      <td>0.1196 (11.72%)</td>\n      <td>0.1061 (7.96%)</td>\n      <td>0.0093 (87.50%)</td>\n      <td>0.0161 (81.29%)</td>\n      <td>0.0765 (23.78%)</td>\n      <td>0.0699 (24.10%)</td>\n      <td>0.0827 (27.41%)</td>\n      <td>0.0541 (38.21%)</td>\n    </tr>\n    <tr>\n      <th>13</th>\n      <td>1.0</td>\n      <td>-0.0374 (nan%)</td>\n      <td>-0.0343 (nan%)</td>\n      <td>-0.0822 (nan%)</td>\n      <td>-0.2017 (nan%)</td>\n      <td>-0.1347 (nan%)</td>\n      <td>0.0209 (nan%)</td>\n      <td>-0.0464 (nan%)</td>\n      <td>-0.0295 (nan%)</td>\n      <td>-0.0726 (nan%)</td>\n      <td>-0.1943 (nan%)</td>\n      <td>-0.1470 (nan%)</td>\n      <td>-0.0389 (nan%)</td>\n    </tr>\n    <tr>\n      <th>17</th>\n      <td>4.0</td>\n      <td>0.0123 (68.22%)</td>\n      <td>0.0060 (87.27%)</td>\n      <td>0.0335 (48.18%)</td>\n      <td>-0.0514 (26.25%)</td>\n      <td>-0.0126 (83.95%)</td>\n      <td>0.0722 (40.86%)</td>\n      <td>0.0194 (46.86%)</td>\n      <td>0.0043 (91.32%)</td>\n      <td>0.0079 (87.71%)</td>\n      <td>-0.0941 (21.53%)</td>\n      <td>-0.0847 (34.58%)</td>\n      <td>-0.0214 (78.69%)</td>\n    </tr>\n    <tr>\n      <th>Total</th>\n      <td>137.0</td>\n      <td>0.0003 (95.54%)</td>\n      <td>0.0033 (70.54%)</td>\n      <td>0.0187 (13.02%)</td>\n      <td>0.0164 (40.57%)</td>\n      <td>0.0201 (41.14%)</td>\n      <td>0.0187 (53.52%)</td>\n      <td>0.0017 (72.79%)</td>\n      <td>0.0042 (57.88%)</td>\n      <td>0.0201 (6.78%)</td>\n      <td>0.0108 (49.62%)</td>\n      <td>0.0091 (64.62%)</td>\n      <td>0.0114 (62.76%)</td>\n    </tr>\n  </tbody>\n</table>\n</div>"
     },
     "metadata": {}
    },
    {
     "output_type": "stream",
     "name": "stdout",
     "text": [
      "2010-01-01 - 2011-12-31\n"
     ]
    },
    {
     "output_type": "display_data",
     "data": {
      "text/plain": "       sample size          1d - MKT         10d - MKT         30d - MKT  \\\n0              2.0  -0.0262 (23.23%)   0.0141 (50.17%)  -0.0717 (58.36%)   \n1             10.0  -0.0024 (81.94%)  -0.0019 (91.83%)  -0.0240 (45.07%)   \n2             23.0  -0.0003 (88.69%)   0.0076 (24.29%)   0.0079 (26.23%)   \n3              3.0   0.0194 (18.88%)   0.0341 (21.94%)   0.0064 (93.32%)   \n4            113.0   0.0012 (63.31%)  -0.0032 (55.43%)   0.0040 (64.46%)   \n5              1.0     0.0260 (nan%)     0.0208 (nan%)    -0.0779 (nan%)   \n6              8.0  -0.0177 (29.28%)  -0.0251 (19.15%)  -0.0347 (20.63%)   \n7              7.0   0.0123 (49.35%)  -0.0005 (98.21%)   0.0097 (76.93%)   \n8             33.0  -0.0023 (56.25%)   0.0084 (29.99%)  -0.0010 (92.85%)   \n9             37.0   0.0010 (77.91%)  -0.0045 (54.34%)  -0.0167 (11.23%)   \n10            11.0   0.0085 (34.90%)   0.0160 (30.13%)   0.0215 (41.85%)   \n11            14.0   0.0089 (18.98%)  -0.0046 (73.60%)  -0.0006 (97.13%)   \n13             6.0   0.0088 (32.71%)   0.0097 (58.65%)   0.0033 (82.53%)   \n15             2.0   0.0249 (69.10%)   0.0842 (37.34%)   0.0228 (85.96%)   \n16             2.0   0.0368 (17.25%)   0.0408 (18.49%)   0.1192 (35.22%)   \n17             9.0   0.0079 (41.28%)   0.0112 (47.89%)  -0.0010 (96.91%)   \nTotal        281.0   0.0018 (25.26%)    0.0013 (65.5%)  -0.0005 (91.16%)   \n\n              60d - MKT         90d - MKT        120d - MKT          1d - IDT  \\\n0      -0.1296 (46.48%)  -0.1208 (16.78%)   -0.1596 (9.60%)  -0.0352 (39.07%)   \n1      -0.0293 (53.45%)  -0.0613 (24.78%)  -0.1185 (10.89%)  -0.0009 (91.59%)   \n2       0.0074 (56.55%)  -0.0011 (95.03%)  -0.0105 (68.76%)   0.0022 (43.22%)   \n3      -0.0742 (41.56%)  -0.1279 (18.78%)  -0.0149 (93.07%)    0.0220 (4.14%)   \n4      -0.0063 (64.77%)  -0.0041 (78.33%)   0.0077 (67.75%)   0.0025 (26.31%)   \n5        -0.1267 (nan%)    -0.1064 (nan%)     0.0089 (nan%)     0.0314 (nan%)   \n6      -0.0245 (49.42%)  -0.0160 (76.49%)  -0.0049 (94.22%)  -0.0200 (23.27%)   \n7      -0.0053 (89.73%)  -0.0119 (76.88%)   0.0866 (37.70%)   0.0106 (56.16%)   \n8       0.0083 (69.67%)  -0.0014 (95.86%)  -0.0331 (31.81%)  -0.0027 (49.38%)   \n9       0.0118 (77.34%)   -0.0476 (3.87%)   -0.0635 (1.62%)   0.0025 (52.76%)   \n10      0.0230 (61.73%)   0.0138 (85.03%)  -0.0161 (82.32%)   0.0018 (75.22%)   \n11      0.0003 (99.16%)  -0.0295 (31.11%)  -0.0250 (55.97%)   0.0093 (20.76%)   \n13      -0.0723 (5.65%)   -0.0978 (4.17%)  -0.0263 (83.62%)   0.0073 (43.85%)   \n15     -0.0734 (65.68%)  -0.0450 (28.39%)  -0.1043 (21.67%)   0.0377 (61.73%)   \n16      0.1451 (31.72%)   0.1455 (23.58%)   0.2809 (10.30%)    0.0295 (7.17%)   \n17     -0.0029 (93.89%)   0.0288 (49.58%)   0.0226 (49.32%)  -0.0005 (96.39%)   \nTotal   -0.0037 (68.0%)   -0.0151 (8.46%)  -0.0139 (21.28%)    0.0021 (16.4%)   \n\n              10d - IDT         30d - IDT         60d - IDT         90d - IDT  \\\n0       0.0001 (99.62%)  -0.0955 (18.72%)  -0.1987 (18.32%)  -0.1304 (13.10%)   \n1      -0.0035 (79.05%)  -0.0275 (23.43%)  -0.0495 (10.69%)   -0.0730 (3.48%)   \n2       0.0053 (46.34%)   0.0025 (79.19%)   0.0089 (54.93%)  -0.0083 (66.09%)   \n3       0.0422 (13.18%)   0.0435 (48.30%)   0.0203 (72.05%)  -0.0224 (72.69%)   \n4      -0.0040 (41.40%)  -0.0021 (79.90%)  -0.0171 (17.94%)  -0.0176 (18.32%)   \n5         0.0154 (nan%)    -0.0873 (nan%)    -0.1446 (nan%)    -0.0875 (nan%)   \n6      -0.0268 (15.95%)  -0.0324 (22.85%)  -0.0206 (49.54%)  -0.0284 (59.21%)   \n7      -0.0009 (95.55%)   0.0054 (86.11%)  -0.0062 (86.45%)  -0.0141 (70.33%)   \n8       0.0053 (47.69%)  -0.0130 (27.52%)  -0.0078 (71.21%)  -0.0247 (34.79%)   \n9       0.0054 (42.90%)   0.0058 (56.46%)   0.0530 (18.70%)   0.0115 (61.35%)   \n10      0.0101 (29.18%)   0.0131 (43.43%)   0.0094 (70.44%)   0.0098 (79.46%)   \n11     -0.0093 (49.23%)  -0.0041 (80.63%)  -0.0009 (97.40%)  -0.0368 (28.05%)   \n13      0.0113 (48.99%)   0.0050 (71.88%)  -0.0469 (21.86%)  -0.0557 (18.14%)   \n15      0.0884 (42.59%)   0.0607 (68.82%)   0.0226 (79.75%)   0.0908 (28.63%)   \n16      0.0225 (33.26%)   0.0272 (83.43%)  -0.0272 (78.41%)   0.0188 (74.92%)   \n17     -0.0074 (59.09%)  -0.0432 (12.81%)   -0.0825 (5.73%)  -0.0567 (26.11%)   \nTotal   0.0005 (86.63%)   -0.004 (36.38%)  -0.0076 (36.29%)   -0.0181 (2.08%)   \n\n             120d - IDT  \n0      -0.1803 (30.77%)  \n1       -0.1236 (0.97%)  \n2      -0.0185 (46.32%)  \n3       0.0431 (76.73%)  \n4      -0.0061 (70.69%)  \n5         0.0172 (nan%)  \n6      -0.0261 (70.61%)  \n7       0.0758 (40.37%)  \n8       -0.0532 (9.89%)  \n9       0.0019 (94.00%)  \n10     -0.0187 (66.06%)  \n11     -0.0351 (44.02%)  \n13      0.0071 (95.34%)  \n15     -0.0104 (92.05%)  \n16       0.2273 (4.07%)  \n17     -0.0629 (22.29%)  \nTotal   -0.0168 (9.58%)  ",
      "text/html": "<div>\n<style scoped>\n    .dataframe tbody tr th:only-of-type {\n        vertical-align: middle;\n    }\n\n    .dataframe tbody tr th {\n        vertical-align: top;\n    }\n\n    .dataframe thead th {\n        text-align: right;\n    }\n</style>\n<table border=\"1\" class=\"dataframe\">\n  <thead>\n    <tr style=\"text-align: right;\">\n      <th></th>\n      <th>sample size</th>\n      <th>1d - MKT</th>\n      <th>10d - MKT</th>\n      <th>30d - MKT</th>\n      <th>60d - MKT</th>\n      <th>90d - MKT</th>\n      <th>120d - MKT</th>\n      <th>1d - IDT</th>\n      <th>10d - IDT</th>\n      <th>30d - IDT</th>\n      <th>60d - IDT</th>\n      <th>90d - IDT</th>\n      <th>120d - IDT</th>\n    </tr>\n  </thead>\n  <tbody>\n    <tr>\n      <th>0</th>\n      <td>2.0</td>\n      <td>-0.0262 (23.23%)</td>\n      <td>0.0141 (50.17%)</td>\n      <td>-0.0717 (58.36%)</td>\n      <td>-0.1296 (46.48%)</td>\n      <td>-0.1208 (16.78%)</td>\n      <td>-0.1596 (9.60%)</td>\n      <td>-0.0352 (39.07%)</td>\n      <td>0.0001 (99.62%)</td>\n      <td>-0.0955 (18.72%)</td>\n      <td>-0.1987 (18.32%)</td>\n      <td>-0.1304 (13.10%)</td>\n      <td>-0.1803 (30.77%)</td>\n    </tr>\n    <tr>\n      <th>1</th>\n      <td>10.0</td>\n      <td>-0.0024 (81.94%)</td>\n      <td>-0.0019 (91.83%)</td>\n      <td>-0.0240 (45.07%)</td>\n      <td>-0.0293 (53.45%)</td>\n      <td>-0.0613 (24.78%)</td>\n      <td>-0.1185 (10.89%)</td>\n      <td>-0.0009 (91.59%)</td>\n      <td>-0.0035 (79.05%)</td>\n      <td>-0.0275 (23.43%)</td>\n      <td>-0.0495 (10.69%)</td>\n      <td>-0.0730 (3.48%)</td>\n      <td>-0.1236 (0.97%)</td>\n    </tr>\n    <tr>\n      <th>2</th>\n      <td>23.0</td>\n      <td>-0.0003 (88.69%)</td>\n      <td>0.0076 (24.29%)</td>\n      <td>0.0079 (26.23%)</td>\n      <td>0.0074 (56.55%)</td>\n      <td>-0.0011 (95.03%)</td>\n      <td>-0.0105 (68.76%)</td>\n      <td>0.0022 (43.22%)</td>\n      <td>0.0053 (46.34%)</td>\n      <td>0.0025 (79.19%)</td>\n      <td>0.0089 (54.93%)</td>\n      <td>-0.0083 (66.09%)</td>\n      <td>-0.0185 (46.32%)</td>\n    </tr>\n    <tr>\n      <th>3</th>\n      <td>3.0</td>\n      <td>0.0194 (18.88%)</td>\n      <td>0.0341 (21.94%)</td>\n      <td>0.0064 (93.32%)</td>\n      <td>-0.0742 (41.56%)</td>\n      <td>-0.1279 (18.78%)</td>\n      <td>-0.0149 (93.07%)</td>\n      <td>0.0220 (4.14%)</td>\n      <td>0.0422 (13.18%)</td>\n      <td>0.0435 (48.30%)</td>\n      <td>0.0203 (72.05%)</td>\n      <td>-0.0224 (72.69%)</td>\n      <td>0.0431 (76.73%)</td>\n    </tr>\n    <tr>\n      <th>4</th>\n      <td>113.0</td>\n      <td>0.0012 (63.31%)</td>\n      <td>-0.0032 (55.43%)</td>\n      <td>0.0040 (64.46%)</td>\n      <td>-0.0063 (64.77%)</td>\n      <td>-0.0041 (78.33%)</td>\n      <td>0.0077 (67.75%)</td>\n      <td>0.0025 (26.31%)</td>\n      <td>-0.0040 (41.40%)</td>\n      <td>-0.0021 (79.90%)</td>\n      <td>-0.0171 (17.94%)</td>\n      <td>-0.0176 (18.32%)</td>\n      <td>-0.0061 (70.69%)</td>\n    </tr>\n    <tr>\n      <th>5</th>\n      <td>1.0</td>\n      <td>0.0260 (nan%)</td>\n      <td>0.0208 (nan%)</td>\n      <td>-0.0779 (nan%)</td>\n      <td>-0.1267 (nan%)</td>\n      <td>-0.1064 (nan%)</td>\n      <td>0.0089 (nan%)</td>\n      <td>0.0314 (nan%)</td>\n      <td>0.0154 (nan%)</td>\n      <td>-0.0873 (nan%)</td>\n      <td>-0.1446 (nan%)</td>\n      <td>-0.0875 (nan%)</td>\n      <td>0.0172 (nan%)</td>\n    </tr>\n    <tr>\n      <th>6</th>\n      <td>8.0</td>\n      <td>-0.0177 (29.28%)</td>\n      <td>-0.0251 (19.15%)</td>\n      <td>-0.0347 (20.63%)</td>\n      <td>-0.0245 (49.42%)</td>\n      <td>-0.0160 (76.49%)</td>\n      <td>-0.0049 (94.22%)</td>\n      <td>-0.0200 (23.27%)</td>\n      <td>-0.0268 (15.95%)</td>\n      <td>-0.0324 (22.85%)</td>\n      <td>-0.0206 (49.54%)</td>\n      <td>-0.0284 (59.21%)</td>\n      <td>-0.0261 (70.61%)</td>\n    </tr>\n    <tr>\n      <th>7</th>\n      <td>7.0</td>\n      <td>0.0123 (49.35%)</td>\n      <td>-0.0005 (98.21%)</td>\n      <td>0.0097 (76.93%)</td>\n      <td>-0.0053 (89.73%)</td>\n      <td>-0.0119 (76.88%)</td>\n      <td>0.0866 (37.70%)</td>\n      <td>0.0106 (56.16%)</td>\n      <td>-0.0009 (95.55%)</td>\n      <td>0.0054 (86.11%)</td>\n      <td>-0.0062 (86.45%)</td>\n      <td>-0.0141 (70.33%)</td>\n      <td>0.0758 (40.37%)</td>\n    </tr>\n    <tr>\n      <th>8</th>\n      <td>33.0</td>\n      <td>-0.0023 (56.25%)</td>\n      <td>0.0084 (29.99%)</td>\n      <td>-0.0010 (92.85%)</td>\n      <td>0.0083 (69.67%)</td>\n      <td>-0.0014 (95.86%)</td>\n      <td>-0.0331 (31.81%)</td>\n      <td>-0.0027 (49.38%)</td>\n      <td>0.0053 (47.69%)</td>\n      <td>-0.0130 (27.52%)</td>\n      <td>-0.0078 (71.21%)</td>\n      <td>-0.0247 (34.79%)</td>\n      <td>-0.0532 (9.89%)</td>\n    </tr>\n    <tr>\n      <th>9</th>\n      <td>37.0</td>\n      <td>0.0010 (77.91%)</td>\n      <td>-0.0045 (54.34%)</td>\n      <td>-0.0167 (11.23%)</td>\n      <td>0.0118 (77.34%)</td>\n      <td>-0.0476 (3.87%)</td>\n      <td>-0.0635 (1.62%)</td>\n      <td>0.0025 (52.76%)</td>\n      <td>0.0054 (42.90%)</td>\n      <td>0.0058 (56.46%)</td>\n      <td>0.0530 (18.70%)</td>\n      <td>0.0115 (61.35%)</td>\n      <td>0.0019 (94.00%)</td>\n    </tr>\n    <tr>\n      <th>10</th>\n      <td>11.0</td>\n      <td>0.0085 (34.90%)</td>\n      <td>0.0160 (30.13%)</td>\n      <td>0.0215 (41.85%)</td>\n      <td>0.0230 (61.73%)</td>\n      <td>0.0138 (85.03%)</td>\n      <td>-0.0161 (82.32%)</td>\n      <td>0.0018 (75.22%)</td>\n      <td>0.0101 (29.18%)</td>\n      <td>0.0131 (43.43%)</td>\n      <td>0.0094 (70.44%)</td>\n      <td>0.0098 (79.46%)</td>\n      <td>-0.0187 (66.06%)</td>\n    </tr>\n    <tr>\n      <th>11</th>\n      <td>14.0</td>\n      <td>0.0089 (18.98%)</td>\n      <td>-0.0046 (73.60%)</td>\n      <td>-0.0006 (97.13%)</td>\n      <td>0.0003 (99.16%)</td>\n      <td>-0.0295 (31.11%)</td>\n      <td>-0.0250 (55.97%)</td>\n      <td>0.0093 (20.76%)</td>\n      <td>-0.0093 (49.23%)</td>\n      <td>-0.0041 (80.63%)</td>\n      <td>-0.0009 (97.40%)</td>\n      <td>-0.0368 (28.05%)</td>\n      <td>-0.0351 (44.02%)</td>\n    </tr>\n    <tr>\n      <th>13</th>\n      <td>6.0</td>\n      <td>0.0088 (32.71%)</td>\n      <td>0.0097 (58.65%)</td>\n      <td>0.0033 (82.53%)</td>\n      <td>-0.0723 (5.65%)</td>\n      <td>-0.0978 (4.17%)</td>\n      <td>-0.0263 (83.62%)</td>\n      <td>0.0073 (43.85%)</td>\n      <td>0.0113 (48.99%)</td>\n      <td>0.0050 (71.88%)</td>\n      <td>-0.0469 (21.86%)</td>\n      <td>-0.0557 (18.14%)</td>\n      <td>0.0071 (95.34%)</td>\n    </tr>\n    <tr>\n      <th>15</th>\n      <td>2.0</td>\n      <td>0.0249 (69.10%)</td>\n      <td>0.0842 (37.34%)</td>\n      <td>0.0228 (85.96%)</td>\n      <td>-0.0734 (65.68%)</td>\n      <td>-0.0450 (28.39%)</td>\n      <td>-0.1043 (21.67%)</td>\n      <td>0.0377 (61.73%)</td>\n      <td>0.0884 (42.59%)</td>\n      <td>0.0607 (68.82%)</td>\n      <td>0.0226 (79.75%)</td>\n      <td>0.0908 (28.63%)</td>\n      <td>-0.0104 (92.05%)</td>\n    </tr>\n    <tr>\n      <th>16</th>\n      <td>2.0</td>\n      <td>0.0368 (17.25%)</td>\n      <td>0.0408 (18.49%)</td>\n      <td>0.1192 (35.22%)</td>\n      <td>0.1451 (31.72%)</td>\n      <td>0.1455 (23.58%)</td>\n      <td>0.2809 (10.30%)</td>\n      <td>0.0295 (7.17%)</td>\n      <td>0.0225 (33.26%)</td>\n      <td>0.0272 (83.43%)</td>\n      <td>-0.0272 (78.41%)</td>\n      <td>0.0188 (74.92%)</td>\n      <td>0.2273 (4.07%)</td>\n    </tr>\n    <tr>\n      <th>17</th>\n      <td>9.0</td>\n      <td>0.0079 (41.28%)</td>\n      <td>0.0112 (47.89%)</td>\n      <td>-0.0010 (96.91%)</td>\n      <td>-0.0029 (93.89%)</td>\n      <td>0.0288 (49.58%)</td>\n      <td>0.0226 (49.32%)</td>\n      <td>-0.0005 (96.39%)</td>\n      <td>-0.0074 (59.09%)</td>\n      <td>-0.0432 (12.81%)</td>\n      <td>-0.0825 (5.73%)</td>\n      <td>-0.0567 (26.11%)</td>\n      <td>-0.0629 (22.29%)</td>\n    </tr>\n    <tr>\n      <th>Total</th>\n      <td>281.0</td>\n      <td>0.0018 (25.26%)</td>\n      <td>0.0013 (65.5%)</td>\n      <td>-0.0005 (91.16%)</td>\n      <td>-0.0037 (68.0%)</td>\n      <td>-0.0151 (8.46%)</td>\n      <td>-0.0139 (21.28%)</td>\n      <td>0.0021 (16.4%)</td>\n      <td>0.0005 (86.63%)</td>\n      <td>-0.004 (36.38%)</td>\n      <td>-0.0076 (36.29%)</td>\n      <td>-0.0181 (2.08%)</td>\n      <td>-0.0168 (9.58%)</td>\n    </tr>\n  </tbody>\n</table>\n</div>"
     },
     "metadata": {}
    },
    {
     "output_type": "stream",
     "name": "stdout",
     "text": [
      "2012-01-01 - 2013-12-31\n"
     ]
    },
    {
     "output_type": "display_data",
     "data": {
      "text/plain": "       sample size          1d - MKT         10d - MKT         30d - MKT  \\\n0              1.0    -0.0136 (nan%)    -0.0240 (nan%)    -0.0315 (nan%)   \n1             23.0  -0.0056 (42.03%)  -0.0241 (12.78%)   0.0029 (91.60%)   \n2             33.0  -0.0042 (24.10%)  -0.0049 (46.59%)  -0.0122 (34.26%)   \n3              4.0  -0.0074 (31.09%)  -0.0064 (73.81%)    0.0536 (1.12%)   \n4            122.0   0.0012 (70.99%)   0.0075 (28.68%)   0.0032 (69.99%)   \n5              6.0   0.0009 (82.42%)   0.0002 (98.91%)  -0.0393 (23.29%)   \n6              3.0  -0.0234 (52.40%)  -0.0051 (93.68%)  -0.0628 (55.78%)   \n7              1.0     0.0064 (nan%)     0.0353 (nan%)     0.0257 (nan%)   \n8             46.0   0.0028 (46.35%)   0.0125 (11.38%)   0.0176 (37.41%)   \n9             30.0   0.0040 (14.34%)    0.0174 (4.21%)    0.0267 (5.60%)   \n10             6.0  -0.0115 (27.00%)    0.0370 (7.31%)   0.0183 (53.40%)   \n11             9.0    0.0135 (5.96%)   0.0072 (55.85%)  -0.0187 (44.32%)   \n13             2.0   -0.0056 (6.78%)   0.0073 (78.99%)  -0.0375 (30.56%)   \n15             2.0  -0.0012 (95.76%)   0.0013 (88.42%)  -0.0567 (41.94%)   \n16             1.0    -0.0060 (nan%)     0.0074 (nan%)    -0.0567 (nan%)   \n17            25.0  -0.0056 (37.99%)   0.0020 (84.38%)  -0.0293 (27.08%)   \nTotal        314.0  -0.0003 (86.91%)   0.0052 (14.29%)   0.0013 (81.59%)   \n\n              60d - MKT         90d - MKT        120d - MKT          1d - IDT  \\\n0        -0.0291 (nan%)    -0.0789 (nan%)    -0.1533 (nan%)    -0.0006 (nan%)   \n1      -0.0206 (41.86%)  -0.0238 (35.78%)  -0.0324 (46.32%)  -0.0046 (47.08%)   \n2       0.0088 (54.83%)  -0.0164 (34.65%)   0.0004 (98.44%)  -0.0014 (67.19%)   \n3       0.0117 (57.17%)  -0.0227 (76.22%)  -0.0167 (87.84%)  -0.0038 (67.95%)   \n4        0.0212 (8.52%)    0.0302 (5.28%)    0.0520 (0.59%)   0.0022 (44.07%)   \n5      -0.0775 (23.99%)  -0.0851 (15.62%)  -0.0705 (27.99%)   0.0009 (79.62%)   \n6      -0.0112 (92.55%)  -0.0227 (84.76%)   0.0226 (69.94%)  -0.0243 (52.78%)   \n7         0.0354 (nan%)    -0.1260 (nan%)    -0.1419 (nan%)     0.0022 (nan%)   \n8        0.0651 (6.06%)   0.0584 (12.86%)    0.0767 (7.99%)   0.0021 (57.62%)   \n9       0.0104 (69.81%)   0.0266 (49.47%)   0.0255 (48.57%)   0.0033 (12.42%)   \n10      0.0690 (25.24%)   0.0632 (33.16%)   0.0447 (55.46%)  -0.0065 (26.97%)   \n11     -0.0422 (30.44%)  -0.0506 (18.62%)   -0.0556 (6.89%)    0.0140 (5.49%)   \n13     -0.0336 (78.16%)  -0.0549 (40.88%)  -0.0635 (55.37%)  -0.0022 (47.32%)   \n15     -0.0844 (40.87%)  -0.0374 (61.31%)  -0.0943 (43.91%)   0.0012 (95.43%)   \n16       -0.1196 (nan%)    -0.2558 (nan%)    -0.2663 (nan%)     0.0090 (nan%)   \n17      -0.0979 (0.77%)  -0.0751 (10.21%)  -0.0359 (54.67%)  -0.0061 (33.51%)   \nTotal   0.0079 (36.04%)     0.009 (38.8%)    0.0238 (5.26%)   0.0006 (70.65%)   \n\n              10d - IDT         30d - IDT         60d - IDT         90d - IDT  \\\n0        -0.0012 (nan%)    -0.0006 (nan%)    -0.0040 (nan%)    -0.0147 (nan%)   \n1      -0.0105 (43.58%)   0.0171 (50.16%)  -0.0010 (96.21%)  -0.0146 (51.22%)   \n2       0.0031 (62.49%)   0.0069 (58.16%)    0.0343 (4.36%)   0.0199 (28.13%)   \n3       0.0015 (83.11%)    0.0717 (1.45%)    0.0472 (1.39%)  -0.0171 (82.38%)   \n4       0.0089 (18.21%)   0.0068 (41.03%)    0.0251 (3.57%)    0.0363 (1.58%)   \n5      -0.0002 (99.12%)  -0.0470 (20.02%)  -0.0894 (23.34%)  -0.1024 (15.87%)   \n6      -0.0026 (97.01%)  -0.0445 (64.25%)  -0.0052 (95.12%)  -0.0159 (81.61%)   \n7         0.0135 (nan%)     0.0178 (nan%)    -0.0317 (nan%)    -0.2201 (nan%)   \n8       0.0088 (24.75%)   0.0134 (47.83%)    0.0578 (8.04%)   0.0482 (18.00%)   \n9       0.0108 (17.58%)   0.0127 (29.02%)  -0.0039 (87.81%)   0.0144 (68.40%)   \n10       0.0274 (4.81%)   0.0076 (70.20%)   0.0489 (21.04%)   0.0363 (39.91%)   \n11      0.0102 (33.67%)  -0.0102 (67.45%)  -0.0346 (42.70%)  -0.0426 (23.92%)   \n13     -0.0019 (90.28%)  -0.0489 (11.74%)  -0.0684 (56.91%)  -0.0666 (29.31%)   \n15     -0.0092 (59.54%)  -0.0707 (25.85%)  -0.1216 (29.37%)  -0.0248 (64.32%)   \n16        0.0290 (nan%)    -0.0022 (nan%)    -0.1060 (nan%)    -0.3481 (nan%)   \n17      0.0002 (98.52%)  -0.0317 (18.68%)   -0.0768 (1.91%)   -0.0671 (6.79%)   \nTotal    0.0062 (6.12%)    0.004 (46.22%)   0.0124 (13.29%)   0.0129 (18.21%)   \n\n             120d - IDT  \n0        -0.0269 (nan%)  \n1      -0.0249 (56.28%)  \n2       0.0348 (12.71%)  \n3      -0.0146 (89.79%)  \n4        0.0587 (0.16%)  \n5      -0.0916 (21.66%)  \n6       0.0308 (25.22%)  \n7        -0.2076 (nan%)  \n8       0.0642 (12.67%)  \n9       0.0086 (79.59%)  \n10      0.0343 (39.11%)  \n11     -0.0452 (20.33%)  \n13     -0.0726 (42.97%)  \n15     -0.0697 (47.46%)  \n16       -0.3490 (nan%)  \n17     -0.0523 (26.07%)  \nTotal    0.0256 (2.76%)  ",
      "text/html": "<div>\n<style scoped>\n    .dataframe tbody tr th:only-of-type {\n        vertical-align: middle;\n    }\n\n    .dataframe tbody tr th {\n        vertical-align: top;\n    }\n\n    .dataframe thead th {\n        text-align: right;\n    }\n</style>\n<table border=\"1\" class=\"dataframe\">\n  <thead>\n    <tr style=\"text-align: right;\">\n      <th></th>\n      <th>sample size</th>\n      <th>1d - MKT</th>\n      <th>10d - MKT</th>\n      <th>30d - MKT</th>\n      <th>60d - MKT</th>\n      <th>90d - MKT</th>\n      <th>120d - MKT</th>\n      <th>1d - IDT</th>\n      <th>10d - IDT</th>\n      <th>30d - IDT</th>\n      <th>60d - IDT</th>\n      <th>90d - IDT</th>\n      <th>120d - IDT</th>\n    </tr>\n  </thead>\n  <tbody>\n    <tr>\n      <th>0</th>\n      <td>1.0</td>\n      <td>-0.0136 (nan%)</td>\n      <td>-0.0240 (nan%)</td>\n      <td>-0.0315 (nan%)</td>\n      <td>-0.0291 (nan%)</td>\n      <td>-0.0789 (nan%)</td>\n      <td>-0.1533 (nan%)</td>\n      <td>-0.0006 (nan%)</td>\n      <td>-0.0012 (nan%)</td>\n      <td>-0.0006 (nan%)</td>\n      <td>-0.0040 (nan%)</td>\n      <td>-0.0147 (nan%)</td>\n      <td>-0.0269 (nan%)</td>\n    </tr>\n    <tr>\n      <th>1</th>\n      <td>23.0</td>\n      <td>-0.0056 (42.03%)</td>\n      <td>-0.0241 (12.78%)</td>\n      <td>0.0029 (91.60%)</td>\n      <td>-0.0206 (41.86%)</td>\n      <td>-0.0238 (35.78%)</td>\n      <td>-0.0324 (46.32%)</td>\n      <td>-0.0046 (47.08%)</td>\n      <td>-0.0105 (43.58%)</td>\n      <td>0.0171 (50.16%)</td>\n      <td>-0.0010 (96.21%)</td>\n      <td>-0.0146 (51.22%)</td>\n      <td>-0.0249 (56.28%)</td>\n    </tr>\n    <tr>\n      <th>2</th>\n      <td>33.0</td>\n      <td>-0.0042 (24.10%)</td>\n      <td>-0.0049 (46.59%)</td>\n      <td>-0.0122 (34.26%)</td>\n      <td>0.0088 (54.83%)</td>\n      <td>-0.0164 (34.65%)</td>\n      <td>0.0004 (98.44%)</td>\n      <td>-0.0014 (67.19%)</td>\n      <td>0.0031 (62.49%)</td>\n      <td>0.0069 (58.16%)</td>\n      <td>0.0343 (4.36%)</td>\n      <td>0.0199 (28.13%)</td>\n      <td>0.0348 (12.71%)</td>\n    </tr>\n    <tr>\n      <th>3</th>\n      <td>4.0</td>\n      <td>-0.0074 (31.09%)</td>\n      <td>-0.0064 (73.81%)</td>\n      <td>0.0536 (1.12%)</td>\n      <td>0.0117 (57.17%)</td>\n      <td>-0.0227 (76.22%)</td>\n      <td>-0.0167 (87.84%)</td>\n      <td>-0.0038 (67.95%)</td>\n      <td>0.0015 (83.11%)</td>\n      <td>0.0717 (1.45%)</td>\n      <td>0.0472 (1.39%)</td>\n      <td>-0.0171 (82.38%)</td>\n      <td>-0.0146 (89.79%)</td>\n    </tr>\n    <tr>\n      <th>4</th>\n      <td>122.0</td>\n      <td>0.0012 (70.99%)</td>\n      <td>0.0075 (28.68%)</td>\n      <td>0.0032 (69.99%)</td>\n      <td>0.0212 (8.52%)</td>\n      <td>0.0302 (5.28%)</td>\n      <td>0.0520 (0.59%)</td>\n      <td>0.0022 (44.07%)</td>\n      <td>0.0089 (18.21%)</td>\n      <td>0.0068 (41.03%)</td>\n      <td>0.0251 (3.57%)</td>\n      <td>0.0363 (1.58%)</td>\n      <td>0.0587 (0.16%)</td>\n    </tr>\n    <tr>\n      <th>5</th>\n      <td>6.0</td>\n      <td>0.0009 (82.42%)</td>\n      <td>0.0002 (98.91%)</td>\n      <td>-0.0393 (23.29%)</td>\n      <td>-0.0775 (23.99%)</td>\n      <td>-0.0851 (15.62%)</td>\n      <td>-0.0705 (27.99%)</td>\n      <td>0.0009 (79.62%)</td>\n      <td>-0.0002 (99.12%)</td>\n      <td>-0.0470 (20.02%)</td>\n      <td>-0.0894 (23.34%)</td>\n      <td>-0.1024 (15.87%)</td>\n      <td>-0.0916 (21.66%)</td>\n    </tr>\n    <tr>\n      <th>6</th>\n      <td>3.0</td>\n      <td>-0.0234 (52.40%)</td>\n      <td>-0.0051 (93.68%)</td>\n      <td>-0.0628 (55.78%)</td>\n      <td>-0.0112 (92.55%)</td>\n      <td>-0.0227 (84.76%)</td>\n      <td>0.0226 (69.94%)</td>\n      <td>-0.0243 (52.78%)</td>\n      <td>-0.0026 (97.01%)</td>\n      <td>-0.0445 (64.25%)</td>\n      <td>-0.0052 (95.12%)</td>\n      <td>-0.0159 (81.61%)</td>\n      <td>0.0308 (25.22%)</td>\n    </tr>\n    <tr>\n      <th>7</th>\n      <td>1.0</td>\n      <td>0.0064 (nan%)</td>\n      <td>0.0353 (nan%)</td>\n      <td>0.0257 (nan%)</td>\n      <td>0.0354 (nan%)</td>\n      <td>-0.1260 (nan%)</td>\n      <td>-0.1419 (nan%)</td>\n      <td>0.0022 (nan%)</td>\n      <td>0.0135 (nan%)</td>\n      <td>0.0178 (nan%)</td>\n      <td>-0.0317 (nan%)</td>\n      <td>-0.2201 (nan%)</td>\n      <td>-0.2076 (nan%)</td>\n    </tr>\n    <tr>\n      <th>8</th>\n      <td>46.0</td>\n      <td>0.0028 (46.35%)</td>\n      <td>0.0125 (11.38%)</td>\n      <td>0.0176 (37.41%)</td>\n      <td>0.0651 (6.06%)</td>\n      <td>0.0584 (12.86%)</td>\n      <td>0.0767 (7.99%)</td>\n      <td>0.0021 (57.62%)</td>\n      <td>0.0088 (24.75%)</td>\n      <td>0.0134 (47.83%)</td>\n      <td>0.0578 (8.04%)</td>\n      <td>0.0482 (18.00%)</td>\n      <td>0.0642 (12.67%)</td>\n    </tr>\n    <tr>\n      <th>9</th>\n      <td>30.0</td>\n      <td>0.0040 (14.34%)</td>\n      <td>0.0174 (4.21%)</td>\n      <td>0.0267 (5.60%)</td>\n      <td>0.0104 (69.81%)</td>\n      <td>0.0266 (49.47%)</td>\n      <td>0.0255 (48.57%)</td>\n      <td>0.0033 (12.42%)</td>\n      <td>0.0108 (17.58%)</td>\n      <td>0.0127 (29.02%)</td>\n      <td>-0.0039 (87.81%)</td>\n      <td>0.0144 (68.40%)</td>\n      <td>0.0086 (79.59%)</td>\n    </tr>\n    <tr>\n      <th>10</th>\n      <td>6.0</td>\n      <td>-0.0115 (27.00%)</td>\n      <td>0.0370 (7.31%)</td>\n      <td>0.0183 (53.40%)</td>\n      <td>0.0690 (25.24%)</td>\n      <td>0.0632 (33.16%)</td>\n      <td>0.0447 (55.46%)</td>\n      <td>-0.0065 (26.97%)</td>\n      <td>0.0274 (4.81%)</td>\n      <td>0.0076 (70.20%)</td>\n      <td>0.0489 (21.04%)</td>\n      <td>0.0363 (39.91%)</td>\n      <td>0.0343 (39.11%)</td>\n    </tr>\n    <tr>\n      <th>11</th>\n      <td>9.0</td>\n      <td>0.0135 (5.96%)</td>\n      <td>0.0072 (55.85%)</td>\n      <td>-0.0187 (44.32%)</td>\n      <td>-0.0422 (30.44%)</td>\n      <td>-0.0506 (18.62%)</td>\n      <td>-0.0556 (6.89%)</td>\n      <td>0.0140 (5.49%)</td>\n      <td>0.0102 (33.67%)</td>\n      <td>-0.0102 (67.45%)</td>\n      <td>-0.0346 (42.70%)</td>\n      <td>-0.0426 (23.92%)</td>\n      <td>-0.0452 (20.33%)</td>\n    </tr>\n    <tr>\n      <th>13</th>\n      <td>2.0</td>\n      <td>-0.0056 (6.78%)</td>\n      <td>0.0073 (78.99%)</td>\n      <td>-0.0375 (30.56%)</td>\n      <td>-0.0336 (78.16%)</td>\n      <td>-0.0549 (40.88%)</td>\n      <td>-0.0635 (55.37%)</td>\n      <td>-0.0022 (47.32%)</td>\n      <td>-0.0019 (90.28%)</td>\n      <td>-0.0489 (11.74%)</td>\n      <td>-0.0684 (56.91%)</td>\n      <td>-0.0666 (29.31%)</td>\n      <td>-0.0726 (42.97%)</td>\n    </tr>\n    <tr>\n      <th>15</th>\n      <td>2.0</td>\n      <td>-0.0012 (95.76%)</td>\n      <td>0.0013 (88.42%)</td>\n      <td>-0.0567 (41.94%)</td>\n      <td>-0.0844 (40.87%)</td>\n      <td>-0.0374 (61.31%)</td>\n      <td>-0.0943 (43.91%)</td>\n      <td>0.0012 (95.43%)</td>\n      <td>-0.0092 (59.54%)</td>\n      <td>-0.0707 (25.85%)</td>\n      <td>-0.1216 (29.37%)</td>\n      <td>-0.0248 (64.32%)</td>\n      <td>-0.0697 (47.46%)</td>\n    </tr>\n    <tr>\n      <th>16</th>\n      <td>1.0</td>\n      <td>-0.0060 (nan%)</td>\n      <td>0.0074 (nan%)</td>\n      <td>-0.0567 (nan%)</td>\n      <td>-0.1196 (nan%)</td>\n      <td>-0.2558 (nan%)</td>\n      <td>-0.2663 (nan%)</td>\n      <td>0.0090 (nan%)</td>\n      <td>0.0290 (nan%)</td>\n      <td>-0.0022 (nan%)</td>\n      <td>-0.1060 (nan%)</td>\n      <td>-0.3481 (nan%)</td>\n      <td>-0.3490 (nan%)</td>\n    </tr>\n    <tr>\n      <th>17</th>\n      <td>25.0</td>\n      <td>-0.0056 (37.99%)</td>\n      <td>0.0020 (84.38%)</td>\n      <td>-0.0293 (27.08%)</td>\n      <td>-0.0979 (0.77%)</td>\n      <td>-0.0751 (10.21%)</td>\n      <td>-0.0359 (54.67%)</td>\n      <td>-0.0061 (33.51%)</td>\n      <td>0.0002 (98.52%)</td>\n      <td>-0.0317 (18.68%)</td>\n      <td>-0.0768 (1.91%)</td>\n      <td>-0.0671 (6.79%)</td>\n      <td>-0.0523 (26.07%)</td>\n    </tr>\n    <tr>\n      <th>Total</th>\n      <td>314.0</td>\n      <td>-0.0003 (86.91%)</td>\n      <td>0.0052 (14.29%)</td>\n      <td>0.0013 (81.59%)</td>\n      <td>0.0079 (36.04%)</td>\n      <td>0.009 (38.8%)</td>\n      <td>0.0238 (5.26%)</td>\n      <td>0.0006 (70.65%)</td>\n      <td>0.0062 (6.12%)</td>\n      <td>0.004 (46.22%)</td>\n      <td>0.0124 (13.29%)</td>\n      <td>0.0129 (18.21%)</td>\n      <td>0.0256 (2.76%)</td>\n    </tr>\n  </tbody>\n</table>\n</div>"
     },
     "metadata": {}
    },
    {
     "output_type": "stream",
     "name": "stdout",
     "text": [
      "2014-01-01 - 2015-12-31\n"
     ]
    },
    {
     "output_type": "display_data",
     "data": {
      "text/plain": "       sample size          1d - MKT         10d - MKT         30d - MKT  \\\n1             33.0  -0.0100 (30.85%)   -0.0316 (3.30%)   -0.1002 (0.15%)   \n2             19.0  -0.0026 (59.54%)   -0.0234 (2.63%)  -0.0327 (10.54%)   \n3              2.0    0.0209 (1.82%)  -0.0135 (28.04%)  -0.0142 (74.84%)   \n4            149.0   0.0024 (30.91%)   0.0046 (43.52%)  -0.0040 (63.56%)   \n5             13.0   0.0101 (12.69%)   0.0006 (95.48%)  -0.0065 (77.33%)   \n6             18.0   0.0141 (19.09%)   0.0254 (12.36%)    0.0475 (8.07%)   \n7              3.0  -0.0068 (63.44%)  -0.0292 (16.28%)  -0.0141 (75.85%)   \n8             54.0  -0.0056 (31.44%)  -0.0048 (55.47%)  -0.0173 (20.90%)   \n9             49.0   0.0031 (18.74%)   0.0096 (11.65%)   0.0015 (88.20%)   \n10             2.0  -0.0028 (73.52%)  -0.0019 (92.60%)  -0.0366 (73.24%)   \n11             6.0  -0.0078 (40.73%)   0.0241 (24.50%)   0.0378 (40.91%)   \n13             8.0   0.0097 (38.59%)  -0.0094 (52.21%)   -0.0513 (6.32%)   \n15             2.0  -0.0023 (32.02%)    0.0369 (7.35%)   -0.0452 (5.40%)   \n16             1.0    -0.0270 (nan%)    -0.0998 (nan%)    -0.0967 (nan%)   \n17            30.0   0.0042 (83.93%)  -0.0241 (33.43%)   -0.0570 (8.47%)   \nTotal        389.0   0.0009 (68.69%)  -0.0024 (52.12%)   -0.0176 (0.26%)   \n\n              60d - MKT         90d - MKT        120d - MKT          1d - IDT  \\\n1       -0.1916 (0.01%)   -0.1860 (0.03%)   -0.3067 (0.00%)  -0.0103 (24.46%)   \n2      -0.0464 (13.96%)  -0.0452 (22.75%)  -0.0433 (24.71%)  -0.0007 (87.58%)   \n3      -0.0059 (93.21%)  -0.0536 (25.02%)  -0.0935 (23.53%)    0.0190 (9.58%)   \n4      -0.0142 (18.46%)   -0.0259 (2.33%)  -0.0215 (13.68%)   0.0014 (53.68%)   \n5      -0.0271 (35.43%)  -0.0352 (32.89%)  -0.0738 (19.20%)   0.0099 (13.80%)   \n6       0.0484 (21.35%)   0.0427 (44.99%)   0.0555 (39.99%)   0.0137 (20.60%)   \n7      -0.0159 (77.28%)   0.0376 (43.86%)   0.0312 (64.29%)  -0.0071 (57.91%)   \n8      -0.0223 (28.36%)  -0.0219 (41.46%)  -0.0336 (17.56%)  -0.0052 (33.26%)   \n9       0.0068 (73.65%)  -0.0107 (63.86%)  -0.0323 (23.76%)   0.0020 (40.03%)   \n10     -0.1008 (58.25%)  -0.1016 (40.51%)  -0.1007 (52.93%)   0.0006 (89.59%)   \n11      0.0308 (59.02%)   0.0670 (11.40%)   0.0781 (25.20%)  -0.0097 (19.95%)   \n13     -0.0183 (70.62%)  -0.0272 (59.53%)  -0.0122 (83.86%)   0.0127 (28.30%)   \n15     -0.0204 (53.48%)   -0.0358 (5.93%)   -0.0752 (0.46%)  -0.0041 (82.58%)   \n16       -0.3623 (nan%)    -0.4135 (nan%)    -0.5442 (nan%)    -0.0320 (nan%)   \n17      -0.1130 (0.14%)   -0.1642 (0.05%)   -0.2525 (0.00%)   0.0042 (83.72%)   \nTotal    -0.0352 (0.0%)    -0.0454 (0.0%)    -0.0661 (0.0%)   0.0005 (81.88%)   \n\n              10d - IDT         30d - IDT         60d - IDT         90d - IDT  \\\n1       -0.0250 (6.31%)   -0.0723 (0.27%)   -0.1179 (0.07%)   -0.0906 (1.73%)   \n2       -0.0184 (8.70%)  -0.0191 (19.53%)  -0.0317 (28.31%)  -0.0245 (49.98%)   \n3      -0.0373 (16.85%)  -0.0104 (33.66%)    0.0039 (5.53%)  -0.0278 (31.97%)   \n4       0.0033 (57.01%)  -0.0089 (28.95%)  -0.0168 (12.65%)   -0.0268 (2.02%)   \n5      -0.0009 (93.00%)  -0.0058 (78.57%)  -0.0134 (63.63%)  -0.0232 (51.48%)   \n6       0.0209 (18.80%)   0.0335 (19.91%)   0.0213 (58.68%)   0.0032 (95.55%)   \n7      -0.0251 (27.47%)  -0.0132 (72.33%)  -0.0416 (56.71%)   0.0129 (85.10%)   \n8      -0.0049 (55.88%)  -0.0207 (15.11%)  -0.0300 (17.18%)  -0.0328 (24.57%)   \n9       0.0035 (55.40%)  -0.0097 (29.47%)  -0.0079 (68.00%)  -0.0281 (21.10%)   \n10      0.0001 (98.96%)  -0.0064 (85.42%)  -0.0483 (39.02%)  -0.0472 (12.06%)   \n11      0.0242 (19.13%)   0.0329 (49.13%)   0.0228 (71.56%)   0.0598 (15.65%)   \n13     -0.0017 (90.14%)  -0.0271 (32.36%)   0.0038 (93.69%)  -0.0107 (83.23%)   \n15      0.0339 (22.63%)  -0.0494 (14.72%)   -0.0954 (1.48%)   -0.1289 (0.05%)   \n16       -0.1278 (nan%)    -0.0955 (nan%)    -0.2891 (nan%)    -0.3273 (nan%)   \n17     -0.0252 (35.15%)  -0.0471 (16.24%)   -0.1002 (0.19%)   -0.1453 (0.06%)   \nTotal  -0.0032 (38.22%)   -0.0176 (0.13%)    -0.0317 (0.0%)    -0.0401 (0.0%)   \n\n             120d - IDT  \n1       -0.1739 (0.01%)  \n2      -0.0259 (49.84%)  \n3      -0.0319 (57.41%)  \n4      -0.0182 (20.40%)  \n5      -0.0563 (33.88%)  \n6       0.0104 (87.05%)  \n7      -0.0142 (72.17%)  \n8      -0.0384 (15.80%)  \n9       -0.0560 (4.59%)  \n10     -0.0154 (36.95%)  \n11      0.0672 (32.94%)  \n13     -0.0029 (95.99%)  \n15      -0.1127 (0.20%)  \n16       -0.3828 (nan%)  \n17      -0.2157 (0.00%)  \nTotal    -0.0544 (0.0%)  ",
      "text/html": "<div>\n<style scoped>\n    .dataframe tbody tr th:only-of-type {\n        vertical-align: middle;\n    }\n\n    .dataframe tbody tr th {\n        vertical-align: top;\n    }\n\n    .dataframe thead th {\n        text-align: right;\n    }\n</style>\n<table border=\"1\" class=\"dataframe\">\n  <thead>\n    <tr style=\"text-align: right;\">\n      <th></th>\n      <th>sample size</th>\n      <th>1d - MKT</th>\n      <th>10d - MKT</th>\n      <th>30d - MKT</th>\n      <th>60d - MKT</th>\n      <th>90d - MKT</th>\n      <th>120d - MKT</th>\n      <th>1d - IDT</th>\n      <th>10d - IDT</th>\n      <th>30d - IDT</th>\n      <th>60d - IDT</th>\n      <th>90d - IDT</th>\n      <th>120d - IDT</th>\n    </tr>\n  </thead>\n  <tbody>\n    <tr>\n      <th>1</th>\n      <td>33.0</td>\n      <td>-0.0100 (30.85%)</td>\n      <td>-0.0316 (3.30%)</td>\n      <td>-0.1002 (0.15%)</td>\n      <td>-0.1916 (0.01%)</td>\n      <td>-0.1860 (0.03%)</td>\n      <td>-0.3067 (0.00%)</td>\n      <td>-0.0103 (24.46%)</td>\n      <td>-0.0250 (6.31%)</td>\n      <td>-0.0723 (0.27%)</td>\n      <td>-0.1179 (0.07%)</td>\n      <td>-0.0906 (1.73%)</td>\n      <td>-0.1739 (0.01%)</td>\n    </tr>\n    <tr>\n      <th>2</th>\n      <td>19.0</td>\n      <td>-0.0026 (59.54%)</td>\n      <td>-0.0234 (2.63%)</td>\n      <td>-0.0327 (10.54%)</td>\n      <td>-0.0464 (13.96%)</td>\n      <td>-0.0452 (22.75%)</td>\n      <td>-0.0433 (24.71%)</td>\n      <td>-0.0007 (87.58%)</td>\n      <td>-0.0184 (8.70%)</td>\n      <td>-0.0191 (19.53%)</td>\n      <td>-0.0317 (28.31%)</td>\n      <td>-0.0245 (49.98%)</td>\n      <td>-0.0259 (49.84%)</td>\n    </tr>\n    <tr>\n      <th>3</th>\n      <td>2.0</td>\n      <td>0.0209 (1.82%)</td>\n      <td>-0.0135 (28.04%)</td>\n      <td>-0.0142 (74.84%)</td>\n      <td>-0.0059 (93.21%)</td>\n      <td>-0.0536 (25.02%)</td>\n      <td>-0.0935 (23.53%)</td>\n      <td>0.0190 (9.58%)</td>\n      <td>-0.0373 (16.85%)</td>\n      <td>-0.0104 (33.66%)</td>\n      <td>0.0039 (5.53%)</td>\n      <td>-0.0278 (31.97%)</td>\n      <td>-0.0319 (57.41%)</td>\n    </tr>\n    <tr>\n      <th>4</th>\n      <td>149.0</td>\n      <td>0.0024 (30.91%)</td>\n      <td>0.0046 (43.52%)</td>\n      <td>-0.0040 (63.56%)</td>\n      <td>-0.0142 (18.46%)</td>\n      <td>-0.0259 (2.33%)</td>\n      <td>-0.0215 (13.68%)</td>\n      <td>0.0014 (53.68%)</td>\n      <td>0.0033 (57.01%)</td>\n      <td>-0.0089 (28.95%)</td>\n      <td>-0.0168 (12.65%)</td>\n      <td>-0.0268 (2.02%)</td>\n      <td>-0.0182 (20.40%)</td>\n    </tr>\n    <tr>\n      <th>5</th>\n      <td>13.0</td>\n      <td>0.0101 (12.69%)</td>\n      <td>0.0006 (95.48%)</td>\n      <td>-0.0065 (77.33%)</td>\n      <td>-0.0271 (35.43%)</td>\n      <td>-0.0352 (32.89%)</td>\n      <td>-0.0738 (19.20%)</td>\n      <td>0.0099 (13.80%)</td>\n      <td>-0.0009 (93.00%)</td>\n      <td>-0.0058 (78.57%)</td>\n      <td>-0.0134 (63.63%)</td>\n      <td>-0.0232 (51.48%)</td>\n      <td>-0.0563 (33.88%)</td>\n    </tr>\n    <tr>\n      <th>6</th>\n      <td>18.0</td>\n      <td>0.0141 (19.09%)</td>\n      <td>0.0254 (12.36%)</td>\n      <td>0.0475 (8.07%)</td>\n      <td>0.0484 (21.35%)</td>\n      <td>0.0427 (44.99%)</td>\n      <td>0.0555 (39.99%)</td>\n      <td>0.0137 (20.60%)</td>\n      <td>0.0209 (18.80%)</td>\n      <td>0.0335 (19.91%)</td>\n      <td>0.0213 (58.68%)</td>\n      <td>0.0032 (95.55%)</td>\n      <td>0.0104 (87.05%)</td>\n    </tr>\n    <tr>\n      <th>7</th>\n      <td>3.0</td>\n      <td>-0.0068 (63.44%)</td>\n      <td>-0.0292 (16.28%)</td>\n      <td>-0.0141 (75.85%)</td>\n      <td>-0.0159 (77.28%)</td>\n      <td>0.0376 (43.86%)</td>\n      <td>0.0312 (64.29%)</td>\n      <td>-0.0071 (57.91%)</td>\n      <td>-0.0251 (27.47%)</td>\n      <td>-0.0132 (72.33%)</td>\n      <td>-0.0416 (56.71%)</td>\n      <td>0.0129 (85.10%)</td>\n      <td>-0.0142 (72.17%)</td>\n    </tr>\n    <tr>\n      <th>8</th>\n      <td>54.0</td>\n      <td>-0.0056 (31.44%)</td>\n      <td>-0.0048 (55.47%)</td>\n      <td>-0.0173 (20.90%)</td>\n      <td>-0.0223 (28.36%)</td>\n      <td>-0.0219 (41.46%)</td>\n      <td>-0.0336 (17.56%)</td>\n      <td>-0.0052 (33.26%)</td>\n      <td>-0.0049 (55.88%)</td>\n      <td>-0.0207 (15.11%)</td>\n      <td>-0.0300 (17.18%)</td>\n      <td>-0.0328 (24.57%)</td>\n      <td>-0.0384 (15.80%)</td>\n    </tr>\n    <tr>\n      <th>9</th>\n      <td>49.0</td>\n      <td>0.0031 (18.74%)</td>\n      <td>0.0096 (11.65%)</td>\n      <td>0.0015 (88.20%)</td>\n      <td>0.0068 (73.65%)</td>\n      <td>-0.0107 (63.86%)</td>\n      <td>-0.0323 (23.76%)</td>\n      <td>0.0020 (40.03%)</td>\n      <td>0.0035 (55.40%)</td>\n      <td>-0.0097 (29.47%)</td>\n      <td>-0.0079 (68.00%)</td>\n      <td>-0.0281 (21.10%)</td>\n      <td>-0.0560 (4.59%)</td>\n    </tr>\n    <tr>\n      <th>10</th>\n      <td>2.0</td>\n      <td>-0.0028 (73.52%)</td>\n      <td>-0.0019 (92.60%)</td>\n      <td>-0.0366 (73.24%)</td>\n      <td>-0.1008 (58.25%)</td>\n      <td>-0.1016 (40.51%)</td>\n      <td>-0.1007 (52.93%)</td>\n      <td>0.0006 (89.59%)</td>\n      <td>0.0001 (98.96%)</td>\n      <td>-0.0064 (85.42%)</td>\n      <td>-0.0483 (39.02%)</td>\n      <td>-0.0472 (12.06%)</td>\n      <td>-0.0154 (36.95%)</td>\n    </tr>\n    <tr>\n      <th>11</th>\n      <td>6.0</td>\n      <td>-0.0078 (40.73%)</td>\n      <td>0.0241 (24.50%)</td>\n      <td>0.0378 (40.91%)</td>\n      <td>0.0308 (59.02%)</td>\n      <td>0.0670 (11.40%)</td>\n      <td>0.0781 (25.20%)</td>\n      <td>-0.0097 (19.95%)</td>\n      <td>0.0242 (19.13%)</td>\n      <td>0.0329 (49.13%)</td>\n      <td>0.0228 (71.56%)</td>\n      <td>0.0598 (15.65%)</td>\n      <td>0.0672 (32.94%)</td>\n    </tr>\n    <tr>\n      <th>13</th>\n      <td>8.0</td>\n      <td>0.0097 (38.59%)</td>\n      <td>-0.0094 (52.21%)</td>\n      <td>-0.0513 (6.32%)</td>\n      <td>-0.0183 (70.62%)</td>\n      <td>-0.0272 (59.53%)</td>\n      <td>-0.0122 (83.86%)</td>\n      <td>0.0127 (28.30%)</td>\n      <td>-0.0017 (90.14%)</td>\n      <td>-0.0271 (32.36%)</td>\n      <td>0.0038 (93.69%)</td>\n      <td>-0.0107 (83.23%)</td>\n      <td>-0.0029 (95.99%)</td>\n    </tr>\n    <tr>\n      <th>15</th>\n      <td>2.0</td>\n      <td>-0.0023 (32.02%)</td>\n      <td>0.0369 (7.35%)</td>\n      <td>-0.0452 (5.40%)</td>\n      <td>-0.0204 (53.48%)</td>\n      <td>-0.0358 (5.93%)</td>\n      <td>-0.0752 (0.46%)</td>\n      <td>-0.0041 (82.58%)</td>\n      <td>0.0339 (22.63%)</td>\n      <td>-0.0494 (14.72%)</td>\n      <td>-0.0954 (1.48%)</td>\n      <td>-0.1289 (0.05%)</td>\n      <td>-0.1127 (0.20%)</td>\n    </tr>\n    <tr>\n      <th>16</th>\n      <td>1.0</td>\n      <td>-0.0270 (nan%)</td>\n      <td>-0.0998 (nan%)</td>\n      <td>-0.0967 (nan%)</td>\n      <td>-0.3623 (nan%)</td>\n      <td>-0.4135 (nan%)</td>\n      <td>-0.5442 (nan%)</td>\n      <td>-0.0320 (nan%)</td>\n      <td>-0.1278 (nan%)</td>\n      <td>-0.0955 (nan%)</td>\n      <td>-0.2891 (nan%)</td>\n      <td>-0.3273 (nan%)</td>\n      <td>-0.3828 (nan%)</td>\n    </tr>\n    <tr>\n      <th>17</th>\n      <td>30.0</td>\n      <td>0.0042 (83.93%)</td>\n      <td>-0.0241 (33.43%)</td>\n      <td>-0.0570 (8.47%)</td>\n      <td>-0.1130 (0.14%)</td>\n      <td>-0.1642 (0.05%)</td>\n      <td>-0.2525 (0.00%)</td>\n      <td>0.0042 (83.72%)</td>\n      <td>-0.0252 (35.15%)</td>\n      <td>-0.0471 (16.24%)</td>\n      <td>-0.1002 (0.19%)</td>\n      <td>-0.1453 (0.06%)</td>\n      <td>-0.2157 (0.00%)</td>\n    </tr>\n    <tr>\n      <th>Total</th>\n      <td>389.0</td>\n      <td>0.0009 (68.69%)</td>\n      <td>-0.0024 (52.12%)</td>\n      <td>-0.0176 (0.26%)</td>\n      <td>-0.0352 (0.0%)</td>\n      <td>-0.0454 (0.0%)</td>\n      <td>-0.0661 (0.0%)</td>\n      <td>0.0005 (81.88%)</td>\n      <td>-0.0032 (38.22%)</td>\n      <td>-0.0176 (0.13%)</td>\n      <td>-0.0317 (0.0%)</td>\n      <td>-0.0401 (0.0%)</td>\n      <td>-0.0544 (0.0%)</td>\n    </tr>\n  </tbody>\n</table>\n</div>"
     },
     "metadata": {}
    },
    {
     "output_type": "stream",
     "name": "stdout",
     "text": [
      "2016-01-01 - 2017-12-31\n"
     ]
    },
    {
     "output_type": "display_data",
     "data": {
      "text/plain": "       sample size          1d - MKT         10d - MKT         30d - MKT  \\\n0              1.0    -0.0032 (nan%)    -0.0295 (nan%)     0.0076 (nan%)   \n1             40.0  -0.0072 (55.53%)  -0.0073 (75.72%)  -0.0169 (59.22%)   \n2             22.0  -0.0047 (57.32%)  -0.0082 (60.50%)   0.0375 (22.35%)   \n3              2.0   0.0061 (49.69%)  -0.0322 (13.92%)  -0.0113 (81.91%)   \n4            112.0   0.0013 (60.66%)   0.0035 (51.77%)  -0.0027 (74.19%)   \n5             20.0   0.0040 (27.00%)   0.0125 (10.65%)   0.0245 (33.78%)   \n6             13.0  -0.0135 (46.37%)   0.0088 (64.74%)   0.0062 (83.18%)   \n7             11.0  -0.0108 (15.06%)  -0.0121 (58.24%)  -0.0249 (29.13%)   \n8             54.0   0.0020 (67.22%)   0.0026 (73.91%)   0.0108 (23.95%)   \n9             36.0  -0.0018 (46.37%)  -0.0113 (11.73%)   -0.0223 (7.43%)   \n10             6.0   0.0045 (53.18%)  -0.0412 (15.15%)   -0.1028 (3.41%)   \n11            11.0   0.0025 (62.42%)  -0.0071 (51.19%)  -0.0297 (11.32%)   \n13             7.0   0.0002 (97.48%)  -0.0077 (63.52%)   0.0104 (71.81%)   \n14             1.0     0.0104 (nan%)    -0.0136 (nan%)    -0.1211 (nan%)   \n15             2.0  -0.0174 (63.55%)  -0.0305 (78.55%)  -0.0739 (39.11%)   \n16             4.0  -0.0018 (88.06%)  -0.0421 (25.20%)  -0.0126 (69.86%)   \n17            28.0    0.0111 (9.76%)  -0.0076 (40.39%)  -0.0014 (93.54%)   \nTotal        370.0  -0.0002 (91.33%)  -0.0028 (44.48%)  -0.0036 (51.72%)   \n\n              60d - MKT         90d - MKT        120d - MKT          1d - IDT  \\\n0         0.0225 (nan%)     0.0105 (nan%)    -0.0166 (nan%)    -0.0009 (nan%)   \n1      -0.0358 (41.86%)  -0.0256 (59.77%)  -0.0117 (82.12%)  -0.0099 (38.57%)   \n2       0.0309 (41.68%)   0.0187 (71.21%)   0.0294 (60.80%)  -0.0039 (62.28%)   \n3      -0.0269 (44.93%)   0.0619 (60.35%)   0.1154 (68.07%)   0.0210 (15.23%)   \n4      -0.0018 (88.20%)   0.0111 (50.46%)   0.0058 (80.37%)   0.0020 (37.99%)   \n5      -0.0121 (66.46%)  -0.0190 (58.59%)  -0.0028 (94.10%)   0.0054 (16.16%)   \n6      -0.0200 (57.55%)  -0.0608 (17.08%)  -0.0403 (37.61%)  -0.0146 (46.44%)   \n7      -0.0477 (11.46%)  -0.0302 (51.29%)  -0.0493 (30.92%)  -0.0099 (11.21%)   \n8       0.0117 (42.87%)  -0.0103 (59.09%)   0.0024 (91.58%)   0.0031 (48.69%)   \n9      -0.0181 (21.83%)  -0.0081 (67.98%)   0.0056 (81.60%)  -0.0030 (25.42%)   \n10     -0.1600 (11.63%)   -0.1210 (7.54%)  -0.0742 (23.88%)  -0.0000 (99.96%)   \n11     -0.0225 (43.97%)  -0.0318 (49.55%)  -0.0548 (31.26%)   0.0058 (31.19%)   \n13      0.0139 (26.87%)   0.0109 (55.91%)  -0.0033 (94.61%)   0.0010 (85.62%)   \n14       -0.0123 (nan%)     0.0476 (nan%)     0.0584 (nan%)     0.0017 (nan%)   \n15      -0.0344 (1.69%)  -0.0129 (93.01%)   0.0069 (97.61%)  -0.0121 (69.54%)   \n16     -0.0829 (34.19%)  -0.0774 (52.50%)  -0.0085 (95.80%)   0.0046 (60.52%)   \n17      0.0241 (30.52%)   0.0297 (22.45%)   0.0449 (13.44%)   0.0094 (14.26%)   \nTotal  -0.0078 (31.05%)  -0.0055 (55.43%)   0.0013 (90.93%)     -0.0 (98.62%)   \n\n              10d - IDT         30d - IDT         60d - IDT         90d - IDT  \\\n0        -0.0008 (nan%)     0.0101 (nan%)     0.0080 (nan%)     0.0100 (nan%)   \n1      -0.0026 (90.12%)  -0.0041 (87.94%)  -0.0083 (82.65%)   0.0006 (98.87%)   \n2       0.0007 (96.06%)   0.0457 (12.11%)   0.0633 (10.06%)   0.0683 (18.22%)   \n3       -0.0134 (1.85%)  -0.0207 (65.70%)  -0.0320 (46.79%)   0.0397 (66.06%)   \n4       0.0062 (25.41%)   0.0005 (94.90%)   0.0063 (59.78%)   0.0186 (24.55%)   \n5        0.0180 (0.77%)   0.0366 (11.53%)   0.0030 (91.56%)   0.0066 (85.33%)   \n6       0.0085 (67.03%)  -0.0016 (94.85%)  -0.0205 (55.46%)  -0.0632 (20.02%)   \n7      -0.0104 (61.59%)  -0.0315 (17.34%)  -0.0338 (31.71%)  -0.0230 (62.90%)   \n8       0.0044 (51.88%)   0.0069 (42.80%)   0.0023 (86.48%)  -0.0114 (54.10%)   \n9       -0.0131 (7.52%)   -0.0243 (6.24%)   -0.0290 (8.43%)  -0.0332 (12.33%)   \n10      -0.0421 (9.07%)   -0.1124 (3.10%)  -0.1559 (12.20%)   -0.1219 (7.53%)   \n11     -0.0032 (78.95%)  -0.0265 (14.29%)  -0.0238 (40.15%)  -0.0453 (34.63%)   \n13     -0.0100 (48.88%)   0.0078 (82.38%)   0.0097 (48.81%)   0.0021 (91.00%)   \n14       -0.0391 (nan%)    -0.1556 (nan%)    -0.0724 (nan%)    -0.0029 (nan%)   \n15     -0.0121 (89.88%)  -0.0172 (38.76%)   0.0346 (39.47%)   0.0369 (75.04%)   \n16     -0.0340 (24.24%)  -0.0496 (33.01%)  -0.1668 (16.87%)  -0.2064 (14.40%)   \n17     -0.0066 (39.49%)  -0.0099 (47.73%)   0.0043 (83.83%)  -0.0022 (93.16%)   \nTotal   -0.0001 (97.4%)  -0.0023 (64.99%)   -0.004 (58.41%)  -0.0029 (74.47%)   \n\n             120d - IDT  \n0         0.0051 (nan%)  \n1       0.0167 (72.04%)  \n2       0.0778 (18.86%)  \n3       0.0461 (79.98%)  \n4       0.0187 (41.06%)  \n5       0.0272 (46.35%)  \n6      -0.0601 (22.13%)  \n7      -0.0228 (62.18%)  \n8       0.0027 (89.40%)  \n9      -0.0332 (18.14%)  \n10     -0.0681 (29.07%)  \n11     -0.0672 (22.61%)  \n13     -0.0058 (91.00%)  \n14        0.0116 (nan%)  \n15      0.0989 (69.67%)  \n16     -0.1801 (35.63%)  \n17     -0.0005 (98.88%)  \nTotal    0.0036 (74.5%)  ",
      "text/html": "<div>\n<style scoped>\n    .dataframe tbody tr th:only-of-type {\n        vertical-align: middle;\n    }\n\n    .dataframe tbody tr th {\n        vertical-align: top;\n    }\n\n    .dataframe thead th {\n        text-align: right;\n    }\n</style>\n<table border=\"1\" class=\"dataframe\">\n  <thead>\n    <tr style=\"text-align: right;\">\n      <th></th>\n      <th>sample size</th>\n      <th>1d - MKT</th>\n      <th>10d - MKT</th>\n      <th>30d - MKT</th>\n      <th>60d - MKT</th>\n      <th>90d - MKT</th>\n      <th>120d - MKT</th>\n      <th>1d - IDT</th>\n      <th>10d - IDT</th>\n      <th>30d - IDT</th>\n      <th>60d - IDT</th>\n      <th>90d - IDT</th>\n      <th>120d - IDT</th>\n    </tr>\n  </thead>\n  <tbody>\n    <tr>\n      <th>0</th>\n      <td>1.0</td>\n      <td>-0.0032 (nan%)</td>\n      <td>-0.0295 (nan%)</td>\n      <td>0.0076 (nan%)</td>\n      <td>0.0225 (nan%)</td>\n      <td>0.0105 (nan%)</td>\n      <td>-0.0166 (nan%)</td>\n      <td>-0.0009 (nan%)</td>\n      <td>-0.0008 (nan%)</td>\n      <td>0.0101 (nan%)</td>\n      <td>0.0080 (nan%)</td>\n      <td>0.0100 (nan%)</td>\n      <td>0.0051 (nan%)</td>\n    </tr>\n    <tr>\n      <th>1</th>\n      <td>40.0</td>\n      <td>-0.0072 (55.53%)</td>\n      <td>-0.0073 (75.72%)</td>\n      <td>-0.0169 (59.22%)</td>\n      <td>-0.0358 (41.86%)</td>\n      <td>-0.0256 (59.77%)</td>\n      <td>-0.0117 (82.12%)</td>\n      <td>-0.0099 (38.57%)</td>\n      <td>-0.0026 (90.12%)</td>\n      <td>-0.0041 (87.94%)</td>\n      <td>-0.0083 (82.65%)</td>\n      <td>0.0006 (98.87%)</td>\n      <td>0.0167 (72.04%)</td>\n    </tr>\n    <tr>\n      <th>2</th>\n      <td>22.0</td>\n      <td>-0.0047 (57.32%)</td>\n      <td>-0.0082 (60.50%)</td>\n      <td>0.0375 (22.35%)</td>\n      <td>0.0309 (41.68%)</td>\n      <td>0.0187 (71.21%)</td>\n      <td>0.0294 (60.80%)</td>\n      <td>-0.0039 (62.28%)</td>\n      <td>0.0007 (96.06%)</td>\n      <td>0.0457 (12.11%)</td>\n      <td>0.0633 (10.06%)</td>\n      <td>0.0683 (18.22%)</td>\n      <td>0.0778 (18.86%)</td>\n    </tr>\n    <tr>\n      <th>3</th>\n      <td>2.0</td>\n      <td>0.0061 (49.69%)</td>\n      <td>-0.0322 (13.92%)</td>\n      <td>-0.0113 (81.91%)</td>\n      <td>-0.0269 (44.93%)</td>\n      <td>0.0619 (60.35%)</td>\n      <td>0.1154 (68.07%)</td>\n      <td>0.0210 (15.23%)</td>\n      <td>-0.0134 (1.85%)</td>\n      <td>-0.0207 (65.70%)</td>\n      <td>-0.0320 (46.79%)</td>\n      <td>0.0397 (66.06%)</td>\n      <td>0.0461 (79.98%)</td>\n    </tr>\n    <tr>\n      <th>4</th>\n      <td>112.0</td>\n      <td>0.0013 (60.66%)</td>\n      <td>0.0035 (51.77%)</td>\n      <td>-0.0027 (74.19%)</td>\n      <td>-0.0018 (88.20%)</td>\n      <td>0.0111 (50.46%)</td>\n      <td>0.0058 (80.37%)</td>\n      <td>0.0020 (37.99%)</td>\n      <td>0.0062 (25.41%)</td>\n      <td>0.0005 (94.90%)</td>\n      <td>0.0063 (59.78%)</td>\n      <td>0.0186 (24.55%)</td>\n      <td>0.0187 (41.06%)</td>\n    </tr>\n    <tr>\n      <th>5</th>\n      <td>20.0</td>\n      <td>0.0040 (27.00%)</td>\n      <td>0.0125 (10.65%)</td>\n      <td>0.0245 (33.78%)</td>\n      <td>-0.0121 (66.46%)</td>\n      <td>-0.0190 (58.59%)</td>\n      <td>-0.0028 (94.10%)</td>\n      <td>0.0054 (16.16%)</td>\n      <td>0.0180 (0.77%)</td>\n      <td>0.0366 (11.53%)</td>\n      <td>0.0030 (91.56%)</td>\n      <td>0.0066 (85.33%)</td>\n      <td>0.0272 (46.35%)</td>\n    </tr>\n    <tr>\n      <th>6</th>\n      <td>13.0</td>\n      <td>-0.0135 (46.37%)</td>\n      <td>0.0088 (64.74%)</td>\n      <td>0.0062 (83.18%)</td>\n      <td>-0.0200 (57.55%)</td>\n      <td>-0.0608 (17.08%)</td>\n      <td>-0.0403 (37.61%)</td>\n      <td>-0.0146 (46.44%)</td>\n      <td>0.0085 (67.03%)</td>\n      <td>-0.0016 (94.85%)</td>\n      <td>-0.0205 (55.46%)</td>\n      <td>-0.0632 (20.02%)</td>\n      <td>-0.0601 (22.13%)</td>\n    </tr>\n    <tr>\n      <th>7</th>\n      <td>11.0</td>\n      <td>-0.0108 (15.06%)</td>\n      <td>-0.0121 (58.24%)</td>\n      <td>-0.0249 (29.13%)</td>\n      <td>-0.0477 (11.46%)</td>\n      <td>-0.0302 (51.29%)</td>\n      <td>-0.0493 (30.92%)</td>\n      <td>-0.0099 (11.21%)</td>\n      <td>-0.0104 (61.59%)</td>\n      <td>-0.0315 (17.34%)</td>\n      <td>-0.0338 (31.71%)</td>\n      <td>-0.0230 (62.90%)</td>\n      <td>-0.0228 (62.18%)</td>\n    </tr>\n    <tr>\n      <th>8</th>\n      <td>54.0</td>\n      <td>0.0020 (67.22%)</td>\n      <td>0.0026 (73.91%)</td>\n      <td>0.0108 (23.95%)</td>\n      <td>0.0117 (42.87%)</td>\n      <td>-0.0103 (59.09%)</td>\n      <td>0.0024 (91.58%)</td>\n      <td>0.0031 (48.69%)</td>\n      <td>0.0044 (51.88%)</td>\n      <td>0.0069 (42.80%)</td>\n      <td>0.0023 (86.48%)</td>\n      <td>-0.0114 (54.10%)</td>\n      <td>0.0027 (89.40%)</td>\n    </tr>\n    <tr>\n      <th>9</th>\n      <td>36.0</td>\n      <td>-0.0018 (46.37%)</td>\n      <td>-0.0113 (11.73%)</td>\n      <td>-0.0223 (7.43%)</td>\n      <td>-0.0181 (21.83%)</td>\n      <td>-0.0081 (67.98%)</td>\n      <td>0.0056 (81.60%)</td>\n      <td>-0.0030 (25.42%)</td>\n      <td>-0.0131 (7.52%)</td>\n      <td>-0.0243 (6.24%)</td>\n      <td>-0.0290 (8.43%)</td>\n      <td>-0.0332 (12.33%)</td>\n      <td>-0.0332 (18.14%)</td>\n    </tr>\n    <tr>\n      <th>10</th>\n      <td>6.0</td>\n      <td>0.0045 (53.18%)</td>\n      <td>-0.0412 (15.15%)</td>\n      <td>-0.1028 (3.41%)</td>\n      <td>-0.1600 (11.63%)</td>\n      <td>-0.1210 (7.54%)</td>\n      <td>-0.0742 (23.88%)</td>\n      <td>-0.0000 (99.96%)</td>\n      <td>-0.0421 (9.07%)</td>\n      <td>-0.1124 (3.10%)</td>\n      <td>-0.1559 (12.20%)</td>\n      <td>-0.1219 (7.53%)</td>\n      <td>-0.0681 (29.07%)</td>\n    </tr>\n    <tr>\n      <th>11</th>\n      <td>11.0</td>\n      <td>0.0025 (62.42%)</td>\n      <td>-0.0071 (51.19%)</td>\n      <td>-0.0297 (11.32%)</td>\n      <td>-0.0225 (43.97%)</td>\n      <td>-0.0318 (49.55%)</td>\n      <td>-0.0548 (31.26%)</td>\n      <td>0.0058 (31.19%)</td>\n      <td>-0.0032 (78.95%)</td>\n      <td>-0.0265 (14.29%)</td>\n      <td>-0.0238 (40.15%)</td>\n      <td>-0.0453 (34.63%)</td>\n      <td>-0.0672 (22.61%)</td>\n    </tr>\n    <tr>\n      <th>13</th>\n      <td>7.0</td>\n      <td>0.0002 (97.48%)</td>\n      <td>-0.0077 (63.52%)</td>\n      <td>0.0104 (71.81%)</td>\n      <td>0.0139 (26.87%)</td>\n      <td>0.0109 (55.91%)</td>\n      <td>-0.0033 (94.61%)</td>\n      <td>0.0010 (85.62%)</td>\n      <td>-0.0100 (48.88%)</td>\n      <td>0.0078 (82.38%)</td>\n      <td>0.0097 (48.81%)</td>\n      <td>0.0021 (91.00%)</td>\n      <td>-0.0058 (91.00%)</td>\n    </tr>\n    <tr>\n      <th>14</th>\n      <td>1.0</td>\n      <td>0.0104 (nan%)</td>\n      <td>-0.0136 (nan%)</td>\n      <td>-0.1211 (nan%)</td>\n      <td>-0.0123 (nan%)</td>\n      <td>0.0476 (nan%)</td>\n      <td>0.0584 (nan%)</td>\n      <td>0.0017 (nan%)</td>\n      <td>-0.0391 (nan%)</td>\n      <td>-0.1556 (nan%)</td>\n      <td>-0.0724 (nan%)</td>\n      <td>-0.0029 (nan%)</td>\n      <td>0.0116 (nan%)</td>\n    </tr>\n    <tr>\n      <th>15</th>\n      <td>2.0</td>\n      <td>-0.0174 (63.55%)</td>\n      <td>-0.0305 (78.55%)</td>\n      <td>-0.0739 (39.11%)</td>\n      <td>-0.0344 (1.69%)</td>\n      <td>-0.0129 (93.01%)</td>\n      <td>0.0069 (97.61%)</td>\n      <td>-0.0121 (69.54%)</td>\n      <td>-0.0121 (89.88%)</td>\n      <td>-0.0172 (38.76%)</td>\n      <td>0.0346 (39.47%)</td>\n      <td>0.0369 (75.04%)</td>\n      <td>0.0989 (69.67%)</td>\n    </tr>\n    <tr>\n      <th>16</th>\n      <td>4.0</td>\n      <td>-0.0018 (88.06%)</td>\n      <td>-0.0421 (25.20%)</td>\n      <td>-0.0126 (69.86%)</td>\n      <td>-0.0829 (34.19%)</td>\n      <td>-0.0774 (52.50%)</td>\n      <td>-0.0085 (95.80%)</td>\n      <td>0.0046 (60.52%)</td>\n      <td>-0.0340 (24.24%)</td>\n      <td>-0.0496 (33.01%)</td>\n      <td>-0.1668 (16.87%)</td>\n      <td>-0.2064 (14.40%)</td>\n      <td>-0.1801 (35.63%)</td>\n    </tr>\n    <tr>\n      <th>17</th>\n      <td>28.0</td>\n      <td>0.0111 (9.76%)</td>\n      <td>-0.0076 (40.39%)</td>\n      <td>-0.0014 (93.54%)</td>\n      <td>0.0241 (30.52%)</td>\n      <td>0.0297 (22.45%)</td>\n      <td>0.0449 (13.44%)</td>\n      <td>0.0094 (14.26%)</td>\n      <td>-0.0066 (39.49%)</td>\n      <td>-0.0099 (47.73%)</td>\n      <td>0.0043 (83.83%)</td>\n      <td>-0.0022 (93.16%)</td>\n      <td>-0.0005 (98.88%)</td>\n    </tr>\n    <tr>\n      <th>Total</th>\n      <td>370.0</td>\n      <td>-0.0002 (91.33%)</td>\n      <td>-0.0028 (44.48%)</td>\n      <td>-0.0036 (51.72%)</td>\n      <td>-0.0078 (31.05%)</td>\n      <td>-0.0055 (55.43%)</td>\n      <td>0.0013 (90.93%)</td>\n      <td>-0.0 (98.62%)</td>\n      <td>-0.0001 (97.4%)</td>\n      <td>-0.0023 (64.99%)</td>\n      <td>-0.004 (58.41%)</td>\n      <td>-0.0029 (74.47%)</td>\n      <td>0.0036 (74.5%)</td>\n    </tr>\n  </tbody>\n</table>\n</div>"
     },
     "metadata": {}
    },
    {
     "output_type": "stream",
     "name": "stdout",
     "text": [
      "2018-01-01 - 2019-12-31\n"
     ]
    },
    {
     "output_type": "display_data",
     "data": {
      "text/plain": "       sample size          1d - MKT         10d - MKT         30d - MKT  \\\n1             19.0   -0.0227 (5.41%)   -0.0632 (0.19%)   -0.0781 (0.82%)   \n2             22.0   0.0005 (92.45%)  -0.0151 (38.64%)  -0.0307 (29.52%)   \n3              3.0  -0.0019 (89.64%)   0.0371 (45.31%)   0.0684 (20.52%)   \n4             81.0  -0.0068 (26.22%)  -0.0036 (69.58%)  -0.0102 (52.77%)   \n5             17.0    0.0140 (4.73%)   0.0228 (22.70%)    0.0587 (5.19%)   \n6              4.0  -0.0100 (52.05%)   0.0095 (78.73%)   0.0143 (88.38%)   \n7              3.0  -0.0262 (34.30%)  -0.0207 (38.51%)  -0.0502 (50.55%)   \n8             34.0   0.0032 (50.90%)  -0.0100 (33.00%)  -0.0211 (14.73%)   \n9             23.0   -0.0061 (3.18%)  -0.0017 (84.93%)  -0.0057 (59.64%)   \n10             4.0   0.0134 (26.01%)   0.0324 (46.62%)   0.0675 (30.68%)   \n11             9.0   0.0078 (18.38%)   0.0177 (42.39%)    0.0668 (3.01%)   \n13             6.0  -0.0066 (65.30%)   0.0402 (23.43%)   0.0387 (25.04%)   \n15             3.0  -0.0214 (16.90%)  -0.0104 (68.83%)  -0.0024 (93.35%)   \n16             2.0   0.0069 (46.47%)   0.0282 (60.41%)   0.0111 (68.35%)   \n17            20.0   0.0015 (65.98%)  -0.0058 (50.21%)   -0.0469 (9.19%)   \nTotal        250.0  -0.0033 (17.89%)  -0.0052 (25.51%)  -0.0102 (18.33%)   \n\n              60d - MKT         90d - MKT        120d - MKT          1d - IDT  \\\n1       -0.1723 (0.42%)   -0.2224 (0.06%)   -0.2948 (0.04%)  -0.0183 (10.40%)   \n2      -0.0144 (65.36%)  -0.0522 (19.26%)  -0.0597 (21.98%)   0.0004 (93.84%)   \n3      -0.0218 (93.32%)  -0.0647 (79.46%)  -0.1006 (78.35%)   0.0081 (54.09%)   \n4       -0.0402 (2.94%)   -0.0653 (0.28%)   -0.0767 (0.45%)  -0.0064 (27.54%)   \n5       0.0224 (69.01%)  -0.0145 (82.15%)  -0.0081 (92.65%)    0.0115 (8.83%)   \n6       0.1313 (34.53%)   0.1421 (42.31%)   0.1279 (51.96%)  -0.0082 (67.49%)   \n7       0.0025 (90.00%)   0.0107 (84.20%)  -0.0077 (93.20%)  -0.0226 (40.53%)   \n8      -0.0066 (84.27%)  -0.0386 (38.76%)  -0.0245 (57.99%)   0.0021 (64.31%)   \n9      -0.0288 (12.00%)   -0.0501 (6.43%)   -0.0718 (0.79%)   -0.0062 (1.55%)   \n10      0.0687 (32.82%)  -0.0881 (46.49%)  -0.1469 (29.05%)   0.0128 (11.83%)   \n11       0.0760 (8.06%)    0.0865 (8.57%)   0.0616 (17.76%)   0.0040 (52.54%)   \n13       0.0655 (1.87%)    0.0680 (3.64%)    0.1402 (4.94%)  -0.0063 (68.46%)   \n15     -0.0413 (55.14%)  -0.0009 (99.16%)   0.0073 (94.03%)  -0.0162 (37.37%)   \n16     -0.0063 (92.06%)   0.0468 (78.53%)  -0.0460 (47.17%)   0.0101 (53.87%)   \n17      -0.1037 (0.58%)   -0.1250 (0.21%)   -0.1625 (0.16%)   0.0025 (47.66%)   \nTotal    -0.031 (0.58%)    -0.0582 (0.0%)    -0.0723 (0.0%)    -0.003 (20.9%)   \n\n              10d - IDT         30d - IDT         60d - IDT         90d - IDT  \\\n1       -0.0451 (1.41%)   -0.0432 (7.98%)   -0.1006 (4.40%)   -0.1353 (1.12%)   \n2      -0.0164 (29.61%)  -0.0437 (10.10%)  -0.0389 (16.35%)   -0.0878 (4.15%)   \n3       0.0563 (21.42%)    0.0965 (1.42%)  -0.0081 (97.47%)  -0.0492 (84.65%)   \n4       0.0012 (88.94%)   0.0022 (88.19%)  -0.0183 (28.90%)  -0.0318 (11.88%)   \n5       0.0222 (25.96%)    0.0631 (3.29%)   0.0306 (56.90%)   0.0114 (84.88%)   \n6       0.0120 (77.09%)  -0.0019 (98.27%)   0.0971 (47.95%)   0.1246 (48.90%)   \n7      -0.0119 (34.04%)  -0.0203 (70.57%)   0.0229 (30.73%)   0.0429 (47.00%)   \n8      -0.0152 (13.04%)   -0.0387 (0.52%)  -0.0238 (48.91%)  -0.0420 (33.00%)   \n9      -0.0091 (28.01%)  -0.0045 (65.29%)   -0.0341 (4.53%)   -0.0400 (9.45%)   \n10      0.0287 (47.16%)   0.0550 (43.26%)   0.0469 (54.61%)  -0.1106 (29.69%)   \n11      0.0144 (53.06%)    0.0575 (3.87%)   0.0517 (13.94%)   0.0589 (21.68%)   \n13      0.0418 (17.90%)   0.0284 (36.52%)    0.0361 (2.01%)   0.0253 (19.62%)   \n15     -0.0157 (66.62%)  -0.0050 (46.98%)  -0.0386 (35.32%)  -0.0340 (27.59%)   \n16      0.0041 (93.95%)   0.0312 (39.55%)   0.0468 (20.49%)   0.1577 (42.98%)   \n17     -0.0010 (93.65%)  -0.0380 (15.67%)   -0.0635 (6.82%)  -0.0560 (10.85%)   \nTotal  -0.0034 (44.09%)  -0.0061 (38.42%)   -0.0213 (3.95%)   -0.0377 (0.23%)   \n\n             120d - IDT  \n1       -0.1688 (0.84%)  \n2      -0.0799 (11.47%)  \n3      -0.0738 (82.45%)  \n4      -0.0398 (11.71%)  \n5       0.0107 (89.37%)  \n6       0.1292 (55.40%)  \n7       0.0088 (92.90%)  \n8      -0.0371 (37.70%)  \n9       -0.0564 (1.03%)  \n10     -0.1610 (23.42%)  \n11      0.0205 (67.08%)  \n13       0.1020 (6.34%)  \n15     -0.0532 (48.24%)  \n16      0.0713 (51.01%)  \n17      -0.0832 (3.40%)  \nTotal   -0.0471 (0.12%)  ",
      "text/html": "<div>\n<style scoped>\n    .dataframe tbody tr th:only-of-type {\n        vertical-align: middle;\n    }\n\n    .dataframe tbody tr th {\n        vertical-align: top;\n    }\n\n    .dataframe thead th {\n        text-align: right;\n    }\n</style>\n<table border=\"1\" class=\"dataframe\">\n  <thead>\n    <tr style=\"text-align: right;\">\n      <th></th>\n      <th>sample size</th>\n      <th>1d - MKT</th>\n      <th>10d - MKT</th>\n      <th>30d - MKT</th>\n      <th>60d - MKT</th>\n      <th>90d - MKT</th>\n      <th>120d - MKT</th>\n      <th>1d - IDT</th>\n      <th>10d - IDT</th>\n      <th>30d - IDT</th>\n      <th>60d - IDT</th>\n      <th>90d - IDT</th>\n      <th>120d - IDT</th>\n    </tr>\n  </thead>\n  <tbody>\n    <tr>\n      <th>1</th>\n      <td>19.0</td>\n      <td>-0.0227 (5.41%)</td>\n      <td>-0.0632 (0.19%)</td>\n      <td>-0.0781 (0.82%)</td>\n      <td>-0.1723 (0.42%)</td>\n      <td>-0.2224 (0.06%)</td>\n      <td>-0.2948 (0.04%)</td>\n      <td>-0.0183 (10.40%)</td>\n      <td>-0.0451 (1.41%)</td>\n      <td>-0.0432 (7.98%)</td>\n      <td>-0.1006 (4.40%)</td>\n      <td>-0.1353 (1.12%)</td>\n      <td>-0.1688 (0.84%)</td>\n    </tr>\n    <tr>\n      <th>2</th>\n      <td>22.0</td>\n      <td>0.0005 (92.45%)</td>\n      <td>-0.0151 (38.64%)</td>\n      <td>-0.0307 (29.52%)</td>\n      <td>-0.0144 (65.36%)</td>\n      <td>-0.0522 (19.26%)</td>\n      <td>-0.0597 (21.98%)</td>\n      <td>0.0004 (93.84%)</td>\n      <td>-0.0164 (29.61%)</td>\n      <td>-0.0437 (10.10%)</td>\n      <td>-0.0389 (16.35%)</td>\n      <td>-0.0878 (4.15%)</td>\n      <td>-0.0799 (11.47%)</td>\n    </tr>\n    <tr>\n      <th>3</th>\n      <td>3.0</td>\n      <td>-0.0019 (89.64%)</td>\n      <td>0.0371 (45.31%)</td>\n      <td>0.0684 (20.52%)</td>\n      <td>-0.0218 (93.32%)</td>\n      <td>-0.0647 (79.46%)</td>\n      <td>-0.1006 (78.35%)</td>\n      <td>0.0081 (54.09%)</td>\n      <td>0.0563 (21.42%)</td>\n      <td>0.0965 (1.42%)</td>\n      <td>-0.0081 (97.47%)</td>\n      <td>-0.0492 (84.65%)</td>\n      <td>-0.0738 (82.45%)</td>\n    </tr>\n    <tr>\n      <th>4</th>\n      <td>81.0</td>\n      <td>-0.0068 (26.22%)</td>\n      <td>-0.0036 (69.58%)</td>\n      <td>-0.0102 (52.77%)</td>\n      <td>-0.0402 (2.94%)</td>\n      <td>-0.0653 (0.28%)</td>\n      <td>-0.0767 (0.45%)</td>\n      <td>-0.0064 (27.54%)</td>\n      <td>0.0012 (88.94%)</td>\n      <td>0.0022 (88.19%)</td>\n      <td>-0.0183 (28.90%)</td>\n      <td>-0.0318 (11.88%)</td>\n      <td>-0.0398 (11.71%)</td>\n    </tr>\n    <tr>\n      <th>5</th>\n      <td>17.0</td>\n      <td>0.0140 (4.73%)</td>\n      <td>0.0228 (22.70%)</td>\n      <td>0.0587 (5.19%)</td>\n      <td>0.0224 (69.01%)</td>\n      <td>-0.0145 (82.15%)</td>\n      <td>-0.0081 (92.65%)</td>\n      <td>0.0115 (8.83%)</td>\n      <td>0.0222 (25.96%)</td>\n      <td>0.0631 (3.29%)</td>\n      <td>0.0306 (56.90%)</td>\n      <td>0.0114 (84.88%)</td>\n      <td>0.0107 (89.37%)</td>\n    </tr>\n    <tr>\n      <th>6</th>\n      <td>4.0</td>\n      <td>-0.0100 (52.05%)</td>\n      <td>0.0095 (78.73%)</td>\n      <td>0.0143 (88.38%)</td>\n      <td>0.1313 (34.53%)</td>\n      <td>0.1421 (42.31%)</td>\n      <td>0.1279 (51.96%)</td>\n      <td>-0.0082 (67.49%)</td>\n      <td>0.0120 (77.09%)</td>\n      <td>-0.0019 (98.27%)</td>\n      <td>0.0971 (47.95%)</td>\n      <td>0.1246 (48.90%)</td>\n      <td>0.1292 (55.40%)</td>\n    </tr>\n    <tr>\n      <th>7</th>\n      <td>3.0</td>\n      <td>-0.0262 (34.30%)</td>\n      <td>-0.0207 (38.51%)</td>\n      <td>-0.0502 (50.55%)</td>\n      <td>0.0025 (90.00%)</td>\n      <td>0.0107 (84.20%)</td>\n      <td>-0.0077 (93.20%)</td>\n      <td>-0.0226 (40.53%)</td>\n      <td>-0.0119 (34.04%)</td>\n      <td>-0.0203 (70.57%)</td>\n      <td>0.0229 (30.73%)</td>\n      <td>0.0429 (47.00%)</td>\n      <td>0.0088 (92.90%)</td>\n    </tr>\n    <tr>\n      <th>8</th>\n      <td>34.0</td>\n      <td>0.0032 (50.90%)</td>\n      <td>-0.0100 (33.00%)</td>\n      <td>-0.0211 (14.73%)</td>\n      <td>-0.0066 (84.27%)</td>\n      <td>-0.0386 (38.76%)</td>\n      <td>-0.0245 (57.99%)</td>\n      <td>0.0021 (64.31%)</td>\n      <td>-0.0152 (13.04%)</td>\n      <td>-0.0387 (0.52%)</td>\n      <td>-0.0238 (48.91%)</td>\n      <td>-0.0420 (33.00%)</td>\n      <td>-0.0371 (37.70%)</td>\n    </tr>\n    <tr>\n      <th>9</th>\n      <td>23.0</td>\n      <td>-0.0061 (3.18%)</td>\n      <td>-0.0017 (84.93%)</td>\n      <td>-0.0057 (59.64%)</td>\n      <td>-0.0288 (12.00%)</td>\n      <td>-0.0501 (6.43%)</td>\n      <td>-0.0718 (0.79%)</td>\n      <td>-0.0062 (1.55%)</td>\n      <td>-0.0091 (28.01%)</td>\n      <td>-0.0045 (65.29%)</td>\n      <td>-0.0341 (4.53%)</td>\n      <td>-0.0400 (9.45%)</td>\n      <td>-0.0564 (1.03%)</td>\n    </tr>\n    <tr>\n      <th>10</th>\n      <td>4.0</td>\n      <td>0.0134 (26.01%)</td>\n      <td>0.0324 (46.62%)</td>\n      <td>0.0675 (30.68%)</td>\n      <td>0.0687 (32.82%)</td>\n      <td>-0.0881 (46.49%)</td>\n      <td>-0.1469 (29.05%)</td>\n      <td>0.0128 (11.83%)</td>\n      <td>0.0287 (47.16%)</td>\n      <td>0.0550 (43.26%)</td>\n      <td>0.0469 (54.61%)</td>\n      <td>-0.1106 (29.69%)</td>\n      <td>-0.1610 (23.42%)</td>\n    </tr>\n    <tr>\n      <th>11</th>\n      <td>9.0</td>\n      <td>0.0078 (18.38%)</td>\n      <td>0.0177 (42.39%)</td>\n      <td>0.0668 (3.01%)</td>\n      <td>0.0760 (8.06%)</td>\n      <td>0.0865 (8.57%)</td>\n      <td>0.0616 (17.76%)</td>\n      <td>0.0040 (52.54%)</td>\n      <td>0.0144 (53.06%)</td>\n      <td>0.0575 (3.87%)</td>\n      <td>0.0517 (13.94%)</td>\n      <td>0.0589 (21.68%)</td>\n      <td>0.0205 (67.08%)</td>\n    </tr>\n    <tr>\n      <th>13</th>\n      <td>6.0</td>\n      <td>-0.0066 (65.30%)</td>\n      <td>0.0402 (23.43%)</td>\n      <td>0.0387 (25.04%)</td>\n      <td>0.0655 (1.87%)</td>\n      <td>0.0680 (3.64%)</td>\n      <td>0.1402 (4.94%)</td>\n      <td>-0.0063 (68.46%)</td>\n      <td>0.0418 (17.90%)</td>\n      <td>0.0284 (36.52%)</td>\n      <td>0.0361 (2.01%)</td>\n      <td>0.0253 (19.62%)</td>\n      <td>0.1020 (6.34%)</td>\n    </tr>\n    <tr>\n      <th>15</th>\n      <td>3.0</td>\n      <td>-0.0214 (16.90%)</td>\n      <td>-0.0104 (68.83%)</td>\n      <td>-0.0024 (93.35%)</td>\n      <td>-0.0413 (55.14%)</td>\n      <td>-0.0009 (99.16%)</td>\n      <td>0.0073 (94.03%)</td>\n      <td>-0.0162 (37.37%)</td>\n      <td>-0.0157 (66.62%)</td>\n      <td>-0.0050 (46.98%)</td>\n      <td>-0.0386 (35.32%)</td>\n      <td>-0.0340 (27.59%)</td>\n      <td>-0.0532 (48.24%)</td>\n    </tr>\n    <tr>\n      <th>16</th>\n      <td>2.0</td>\n      <td>0.0069 (46.47%)</td>\n      <td>0.0282 (60.41%)</td>\n      <td>0.0111 (68.35%)</td>\n      <td>-0.0063 (92.06%)</td>\n      <td>0.0468 (78.53%)</td>\n      <td>-0.0460 (47.17%)</td>\n      <td>0.0101 (53.87%)</td>\n      <td>0.0041 (93.95%)</td>\n      <td>0.0312 (39.55%)</td>\n      <td>0.0468 (20.49%)</td>\n      <td>0.1577 (42.98%)</td>\n      <td>0.0713 (51.01%)</td>\n    </tr>\n    <tr>\n      <th>17</th>\n      <td>20.0</td>\n      <td>0.0015 (65.98%)</td>\n      <td>-0.0058 (50.21%)</td>\n      <td>-0.0469 (9.19%)</td>\n      <td>-0.1037 (0.58%)</td>\n      <td>-0.1250 (0.21%)</td>\n      <td>-0.1625 (0.16%)</td>\n      <td>0.0025 (47.66%)</td>\n      <td>-0.0010 (93.65%)</td>\n      <td>-0.0380 (15.67%)</td>\n      <td>-0.0635 (6.82%)</td>\n      <td>-0.0560 (10.85%)</td>\n      <td>-0.0832 (3.40%)</td>\n    </tr>\n    <tr>\n      <th>Total</th>\n      <td>250.0</td>\n      <td>-0.0033 (17.89%)</td>\n      <td>-0.0052 (25.51%)</td>\n      <td>-0.0102 (18.33%)</td>\n      <td>-0.031 (0.58%)</td>\n      <td>-0.0582 (0.0%)</td>\n      <td>-0.0723 (0.0%)</td>\n      <td>-0.003 (20.9%)</td>\n      <td>-0.0034 (44.09%)</td>\n      <td>-0.0061 (38.42%)</td>\n      <td>-0.0213 (3.95%)</td>\n      <td>-0.0377 (0.23%)</td>\n      <td>-0.0471 (0.12%)</td>\n    </tr>\n  </tbody>\n</table>\n</div>"
     },
     "metadata": {}
    }
   ],
   "source": [
    "# by time periods and remove earnings call\n",
    "\n",
    "from scipy.stats import ttest_1samp\n",
    "import pandas as pd \n",
    "import numpy as np\n",
    "from pathlib import Path\n",
    "\n",
    "from utils.backtest_performance import price_history_to_cumu, add_to_return_stats, get_price_history_yahoo_finance, get_price_history, get_return_stats, get_NAICS_code_sector_name\n",
    "# generate pair of NAICS sector code and name\n",
    "\n",
    "NAICS_sector_code, NAICS_sector_name = get_NAICS_code_sector_name()\n",
    "\n",
    "\n",
    "vol_threshold = 1.25\n",
    "COLUMNS = ['1d - MKT', '10d - MKT', '30d - MKT', '60d - MKT', '90d - MKT', '120d - MKT','1d - IDT', '10d - IDT', '30d - IDT', '60d - IDT', '90d - IDT', '120d - IDT']\n",
    "# TIME_PARTITION = [['1995-01-01', '1999-12-31'], ['2000-01-01', '2004-12-31'], \n",
    "#                 ['2005-01-01', '2009-12-31'], ['2010-01-01', '2014-12-31'], \n",
    "#                 ['2015-01-01', '2019-12-31']]\n",
    "\n",
    "TIME_PARTITION = [['1995-01-01', '1999-12-31'], ['2000-01-01', '2005-12-31'], \n",
    "                ['2006-01-01', '2007-12-31'], ['2008-01-01', '2009-12-31'],\n",
    "                ['2010-01-01', '2011-12-31'], ['2012-01-01', '2013-12-31'], \n",
    "                ['2014-01-01', '2015-12-31'], ['2016-01-01', '2017-12-31'],\n",
    "                ['2018-01-01', '2019-12-31']]\n",
    "\n",
    "repository_path = f\"backtests/LDA/ESG_baseline\"\n",
    "master_df = list()\n",
    "for (t0_str, t1_str) in TIME_PARTITION[1:]:\n",
    "    t0, t1 = pd.to_datetime(t0_str), pd.to_datetime(t1_str)\n",
    "    print(f\"{t0_str} - {t1_str}\")\n",
    "    master_t_stats = list()\n",
    "\n",
    "    for i, sector_name in enumerate(NAICS_sector_name):\n",
    "\n",
    "        file_path = f\"{repository_path}/{sector_name}/performance.csv\"\n",
    "        if not Path(file_path).is_file():\n",
    "            continue\n",
    "\n",
    "        # get performance df for this sector\n",
    "        df = pd.read_csv(file_path, parse_dates=[2])\n",
    "        # select those in t0 to t1 periods\n",
    "        df = df[(t0 < df['day 0']) & (df['day 0'] <= t1)]\n",
    "        # select a subset, that tries to remove earnings call, merger etc. events\n",
    "        df = df[(df['EA'].isnull()) & (df['vol'] <= vol_threshold)]\n",
    "\n",
    "        if len(df) == 0:\n",
    "            continue\n",
    "\n",
    "        # compute t-stats\n",
    "        t_stats = df[COLUMNS].apply(lambda col: f\"{col.mean():.4f} ({ttest_1samp(list(col), popmean=0)[1]*100:.2f}%)\", axis=0).to_frame().T\n",
    "        t_stats.insert(0, 'sample size', len(df))\n",
    "        t_stats.index = [f\"{i}\"]\n",
    "        master_t_stats.append(t_stats)\n",
    "\n",
    "    # if there's signal events in this time period\n",
    "    if len(master_t_stats) != 0:\n",
    "        # compute performance for all signal events in this basket\n",
    "        df = pd.read_csv(f\"{repository_path}/performance.csv\", parse_dates=[2])\n",
    "        df = df[(t0 < df['day 0']) & (df['day 0'] <= t1)]\n",
    "        df = df[(df['EA'].isnull()) & (df['vol'] <= vol_threshold)][COLUMNS]\n",
    "        df = df.apply(lambda col: f\"{np.round(col.mean(), 4)} ({np.round(ttest_1samp(list(col), popmean=0)[1]*100, 2)}%)\", axis=0).to_frame().T\n",
    "        df.index = [f\"Total\"]\n",
    "        # add to master variable\n",
    "        master_t_stats.append(df)\n",
    "        all_sector_returns = pd.concat(master_t_stats)\n",
    "        all_sector_returns.at['Total', 'sample size'] = all_sector_returns.iloc[:-1]['sample size'].sum()\n",
    "        all_sector_returns.to_csv(f\"{repository_path}/performance_evaluation_{t0_str}_{t1_str}.csv\")\n",
    "        # display to console\n",
    "        display(all_sector_returns)\n",
    "    else:\n",
    "        print(f\"{len(master_t_stats)} events from {t0_str} - {t1_str}\")\n",
    "    \n",
    "    # break\n"
   ]
  },
  {
   "cell_type": "code",
   "execution_count": 12,
   "metadata": {
    "pycharm": {
     "name": "#%%\n"
    }
   },
   "outputs": [
    {
     "output_type": "display_data",
     "data": {
      "text/plain": "                      sample size          1d - MKT         10d - MKT  \\\nt0         t1                                                           \n2000-01-01 2005-12-31          68    0.005 (27.32%)    0.0078 (19.3%)   \n2006-01-01 2007-12-31         112   0.0054 (18.39%)   0.0063 (40.95%)   \n2008-01-01 2009-12-31         137   0.0003 (95.54%)   0.0033 (70.54%)   \n2010-01-01 2011-12-31         281   0.0018 (25.26%)    0.0013 (65.5%)   \n2012-01-01 2013-12-31         314  -0.0003 (86.91%)   0.0052 (14.29%)   \n2014-01-01 2015-12-31         389   0.0009 (68.69%)  -0.0024 (52.12%)   \n2016-01-01 2017-12-31         370  -0.0002 (91.33%)  -0.0028 (44.48%)   \n2018-01-01 2019-12-31         250  -0.0033 (17.89%)  -0.0052 (25.51%)   \n\n                              30d - MKT         60d - MKT         90d - MKT  \\\nt0         t1                                                                 \n2000-01-01 2005-12-31   0.0187 (11.52%)      0.04 (2.25%)     0.089 (0.05%)   \n2006-01-01 2007-12-31    0.016 (12.26%)    0.0305 (2.69%)    0.0413 (2.88%)   \n2008-01-01 2009-12-31   0.0187 (13.02%)   0.0164 (40.57%)   0.0201 (41.14%)   \n2010-01-01 2011-12-31  -0.0005 (91.16%)   -0.0037 (68.0%)   -0.0151 (8.46%)   \n2012-01-01 2013-12-31   0.0013 (81.59%)   0.0079 (36.04%)     0.009 (38.8%)   \n2014-01-01 2015-12-31   -0.0176 (0.26%)    -0.0352 (0.0%)    -0.0454 (0.0%)   \n2016-01-01 2017-12-31  -0.0036 (51.72%)  -0.0078 (31.05%)  -0.0055 (55.43%)   \n2018-01-01 2019-12-31  -0.0102 (18.33%)    -0.031 (0.58%)    -0.0582 (0.0%)   \n\n                             120d - MKT         1d - IDT         10d - IDT  \\\nt0         t1                                                                \n2000-01-01 2005-12-31     0.113 (0.01%)  0.0027 (55.54%)   0.0053 (41.86%)   \n2006-01-01 2007-12-31    0.0634 (0.54%)  0.0028 (47.27%)   0.0031 (66.32%)   \n2008-01-01 2009-12-31   0.0187 (53.52%)  0.0017 (72.79%)   0.0042 (57.88%)   \n2010-01-01 2011-12-31  -0.0139 (21.28%)   0.0021 (16.4%)   0.0005 (86.63%)   \n2012-01-01 2013-12-31    0.0238 (5.26%)  0.0006 (70.65%)    0.0062 (6.12%)   \n2014-01-01 2015-12-31    -0.0661 (0.0%)  0.0005 (81.88%)  -0.0032 (38.22%)   \n2016-01-01 2017-12-31   0.0013 (90.93%)    -0.0 (98.62%)   -0.0001 (97.4%)   \n2018-01-01 2019-12-31    -0.0723 (0.0%)   -0.003 (20.9%)  -0.0034 (44.09%)   \n\n                              30d - IDT         60d - IDT         90d - IDT  \\\nt0         t1                                                                 \n2000-01-01 2005-12-31   0.0155 (21.51%)    0.025 (13.89%)    0.0687 (0.43%)   \n2006-01-01 2007-12-31   0.0049 (60.96%)   0.0072 (55.97%)   0.0096 (57.69%)   \n2008-01-01 2009-12-31    0.0201 (6.78%)   0.0108 (49.62%)   0.0091 (64.62%)   \n2010-01-01 2011-12-31   -0.004 (36.38%)  -0.0076 (36.29%)   -0.0181 (2.08%)   \n2012-01-01 2013-12-31    0.004 (46.22%)   0.0124 (13.29%)   0.0129 (18.21%)   \n2014-01-01 2015-12-31   -0.0176 (0.13%)    -0.0317 (0.0%)    -0.0401 (0.0%)   \n2016-01-01 2017-12-31  -0.0023 (64.99%)   -0.004 (58.41%)  -0.0029 (74.47%)   \n2018-01-01 2019-12-31  -0.0061 (38.42%)   -0.0213 (3.95%)   -0.0377 (0.23%)   \n\n                            120d - IDT  \nt0         t1                           \n2000-01-01 2005-12-31   0.0836 (0.31%)  \n2006-01-01 2007-12-31  0.0183 (35.63%)  \n2008-01-01 2009-12-31  0.0114 (62.76%)  \n2010-01-01 2011-12-31  -0.0168 (9.58%)  \n2012-01-01 2013-12-31   0.0256 (2.76%)  \n2014-01-01 2015-12-31   -0.0544 (0.0%)  \n2016-01-01 2017-12-31   0.0036 (74.5%)  \n2018-01-01 2019-12-31  -0.0471 (0.12%)  ",
      "text/html": "<div>\n<style scoped>\n    .dataframe tbody tr th:only-of-type {\n        vertical-align: middle;\n    }\n\n    .dataframe tbody tr th {\n        vertical-align: top;\n    }\n\n    .dataframe thead th {\n        text-align: right;\n    }\n</style>\n<table border=\"1\" class=\"dataframe\">\n  <thead>\n    <tr style=\"text-align: right;\">\n      <th></th>\n      <th></th>\n      <th>sample size</th>\n      <th>1d - MKT</th>\n      <th>10d - MKT</th>\n      <th>30d - MKT</th>\n      <th>60d - MKT</th>\n      <th>90d - MKT</th>\n      <th>120d - MKT</th>\n      <th>1d - IDT</th>\n      <th>10d - IDT</th>\n      <th>30d - IDT</th>\n      <th>60d - IDT</th>\n      <th>90d - IDT</th>\n      <th>120d - IDT</th>\n    </tr>\n    <tr>\n      <th>t0</th>\n      <th>t1</th>\n      <th></th>\n      <th></th>\n      <th></th>\n      <th></th>\n      <th></th>\n      <th></th>\n      <th></th>\n      <th></th>\n      <th></th>\n      <th></th>\n      <th></th>\n      <th></th>\n      <th></th>\n    </tr>\n  </thead>\n  <tbody>\n    <tr>\n      <th>2000-01-01</th>\n      <th>2005-12-31</th>\n      <td>68</td>\n      <td>0.005 (27.32%)</td>\n      <td>0.0078 (19.3%)</td>\n      <td>0.0187 (11.52%)</td>\n      <td>0.04 (2.25%)</td>\n      <td>0.089 (0.05%)</td>\n      <td>0.113 (0.01%)</td>\n      <td>0.0027 (55.54%)</td>\n      <td>0.0053 (41.86%)</td>\n      <td>0.0155 (21.51%)</td>\n      <td>0.025 (13.89%)</td>\n      <td>0.0687 (0.43%)</td>\n      <td>0.0836 (0.31%)</td>\n    </tr>\n    <tr>\n      <th>2006-01-01</th>\n      <th>2007-12-31</th>\n      <td>112</td>\n      <td>0.0054 (18.39%)</td>\n      <td>0.0063 (40.95%)</td>\n      <td>0.016 (12.26%)</td>\n      <td>0.0305 (2.69%)</td>\n      <td>0.0413 (2.88%)</td>\n      <td>0.0634 (0.54%)</td>\n      <td>0.0028 (47.27%)</td>\n      <td>0.0031 (66.32%)</td>\n      <td>0.0049 (60.96%)</td>\n      <td>0.0072 (55.97%)</td>\n      <td>0.0096 (57.69%)</td>\n      <td>0.0183 (35.63%)</td>\n    </tr>\n    <tr>\n      <th>2008-01-01</th>\n      <th>2009-12-31</th>\n      <td>137</td>\n      <td>0.0003 (95.54%)</td>\n      <td>0.0033 (70.54%)</td>\n      <td>0.0187 (13.02%)</td>\n      <td>0.0164 (40.57%)</td>\n      <td>0.0201 (41.14%)</td>\n      <td>0.0187 (53.52%)</td>\n      <td>0.0017 (72.79%)</td>\n      <td>0.0042 (57.88%)</td>\n      <td>0.0201 (6.78%)</td>\n      <td>0.0108 (49.62%)</td>\n      <td>0.0091 (64.62%)</td>\n      <td>0.0114 (62.76%)</td>\n    </tr>\n    <tr>\n      <th>2010-01-01</th>\n      <th>2011-12-31</th>\n      <td>281</td>\n      <td>0.0018 (25.26%)</td>\n      <td>0.0013 (65.5%)</td>\n      <td>-0.0005 (91.16%)</td>\n      <td>-0.0037 (68.0%)</td>\n      <td>-0.0151 (8.46%)</td>\n      <td>-0.0139 (21.28%)</td>\n      <td>0.0021 (16.4%)</td>\n      <td>0.0005 (86.63%)</td>\n      <td>-0.004 (36.38%)</td>\n      <td>-0.0076 (36.29%)</td>\n      <td>-0.0181 (2.08%)</td>\n      <td>-0.0168 (9.58%)</td>\n    </tr>\n    <tr>\n      <th>2012-01-01</th>\n      <th>2013-12-31</th>\n      <td>314</td>\n      <td>-0.0003 (86.91%)</td>\n      <td>0.0052 (14.29%)</td>\n      <td>0.0013 (81.59%)</td>\n      <td>0.0079 (36.04%)</td>\n      <td>0.009 (38.8%)</td>\n      <td>0.0238 (5.26%)</td>\n      <td>0.0006 (70.65%)</td>\n      <td>0.0062 (6.12%)</td>\n      <td>0.004 (46.22%)</td>\n      <td>0.0124 (13.29%)</td>\n      <td>0.0129 (18.21%)</td>\n      <td>0.0256 (2.76%)</td>\n    </tr>\n    <tr>\n      <th>2014-01-01</th>\n      <th>2015-12-31</th>\n      <td>389</td>\n      <td>0.0009 (68.69%)</td>\n      <td>-0.0024 (52.12%)</td>\n      <td>-0.0176 (0.26%)</td>\n      <td>-0.0352 (0.0%)</td>\n      <td>-0.0454 (0.0%)</td>\n      <td>-0.0661 (0.0%)</td>\n      <td>0.0005 (81.88%)</td>\n      <td>-0.0032 (38.22%)</td>\n      <td>-0.0176 (0.13%)</td>\n      <td>-0.0317 (0.0%)</td>\n      <td>-0.0401 (0.0%)</td>\n      <td>-0.0544 (0.0%)</td>\n    </tr>\n    <tr>\n      <th>2016-01-01</th>\n      <th>2017-12-31</th>\n      <td>370</td>\n      <td>-0.0002 (91.33%)</td>\n      <td>-0.0028 (44.48%)</td>\n      <td>-0.0036 (51.72%)</td>\n      <td>-0.0078 (31.05%)</td>\n      <td>-0.0055 (55.43%)</td>\n      <td>0.0013 (90.93%)</td>\n      <td>-0.0 (98.62%)</td>\n      <td>-0.0001 (97.4%)</td>\n      <td>-0.0023 (64.99%)</td>\n      <td>-0.004 (58.41%)</td>\n      <td>-0.0029 (74.47%)</td>\n      <td>0.0036 (74.5%)</td>\n    </tr>\n    <tr>\n      <th>2018-01-01</th>\n      <th>2019-12-31</th>\n      <td>250</td>\n      <td>-0.0033 (17.89%)</td>\n      <td>-0.0052 (25.51%)</td>\n      <td>-0.0102 (18.33%)</td>\n      <td>-0.031 (0.58%)</td>\n      <td>-0.0582 (0.0%)</td>\n      <td>-0.0723 (0.0%)</td>\n      <td>-0.003 (20.9%)</td>\n      <td>-0.0034 (44.09%)</td>\n      <td>-0.0061 (38.42%)</td>\n      <td>-0.0213 (3.95%)</td>\n      <td>-0.0377 (0.23%)</td>\n      <td>-0.0471 (0.12%)</td>\n    </tr>\n  </tbody>\n</table>\n</div>"
     },
     "metadata": {}
    },
    {
     "output_type": "stream",
     "name": "stdout",
     "text": [
      "\n\n"
     ]
    }
   ],
   "source": [
    "import glob\n",
    "\n",
    "repository_path = f\"backtests/LDA/ESG_baseline\"\n",
    "file_path = f\"{repository_path}/performance_evaluation_*_*.csv\"\n",
    "\n",
    "master_df = list()\n",
    "for filename in glob.glob(file_path):\n",
    "    t0, t1 = filename.split(\"/\")[-1].split(\".\")[0].split(\"_\")[2:]\n",
    "\n",
    "    df = pd.read_csv(filename, index_col=0).iloc[-1].to_frame().T\n",
    "    cols = df.columns.tolist()\n",
    "    df['t0'], df['t1'] = t0, t1\n",
    "    df = df[['t0', 't1'] + cols]\n",
    "    master_df.append(df)\n",
    "df = pd.concat(master_df).set_index(['t0', 't1']).sort_index()\n",
    "display(df)  \n",
    "df.to_csv(f\"backtests/LDA/ESG_baseline/9_time_partitions/performance_evaluation_total.csv\")\n",
    "print('\\n')"
   ]
  }
 ],
 "metadata": {
  "language_info": {
   "codemirror_mode": {
    "name": "ipython",
    "version": 3
   },
   "file_extension": ".py",
   "mimetype": "text/x-python",
   "name": "python",
   "nbconvert_exporter": "python",
   "pygments_lexer": "ipython3",
   "version": "3.7.6-final"
  },
  "orig_nbformat": 2,
  "kernelspec": {
   "name": "python37664bitbaseconda19daccaab569477d9dec399eeb89c3e8",
   "display_name": "Python 3.7.6 64-bit ('base': conda)",
   "language": "python"
  }
 },
 "nbformat": 4,
 "nbformat_minor": 2
}