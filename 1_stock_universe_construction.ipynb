{
 "cells": [
  {
   "cell_type": "code",
   "execution_count": null,
   "metadata": {},
   "outputs": [],
   "source": []
  },
  {
   "cell_type": "code",
   "execution_count": 11,
   "metadata": {},
   "outputs": [],
   "source": [
    "\"\"\" stock universe construction \"\"\"\n",
    "import pandas as pd \n",
    "import numpy as np \n",
    "# read stock_header.csv; contains permno, shrcd (share code)\n",
    "sh = pd.read_csv('/Users/codywan/Data/WRDS Data/stock_header.csv', header=0, keep_default_na=False, index_col=0)\n",
    "# read crspa_msf.csv; contains monthly stock price, shares outstanding, cumulative factors for adjusting price and volume etc. \n",
    "msf = pd.read_csv('/Users/codywan/Data/WRDS Data/crspa_msf.csv', header=0, keep_default_na=False, index_col=0)\n",
    "\n",
    "# remove rows with no end-of-month price or shares outstanding\n",
    "msf['prc'] = msf['prc'].replace('', np.nan).astype('float64').abs()\n",
    "msf['shrout'] = msf['shrout'].replace('', np.nan).astype('float64').abs()\n",
    "msf['cfacpr'] = msf['cfacpr'].replace('', np.nan).astype('float64').abs()\n",
    "msf['cfacshr'] = msf['cfacshr'].replace('', np.nan).astype('float64').abs()\n",
    "msf = msf.dropna(subset=['prc', 'shrout', 'cfacpr', 'cfacshr'])"
   ]
  },
  {
   "cell_type": "code",
   "execution_count": 12,
   "metadata": {},
   "outputs": [
    {
     "output_type": "stream",
     "name": "stdout",
     "text": "number of unique permno:\n32985\nremoving non U.S. common stock:\n24781\n"
    }
   ],
   "source": [
    "# print how many unique permno there are\n",
    "permno_list = msf['permno'].unique()\n",
    "print(f\"number of unique permno:\\n{len(permno_list)}\")\n",
    "# only keep permno/stocks with a share code of 10 or 11 (i.e. only keep U.S. common stocks)\n",
    "permno_shrcd_mapping = sh[['permno', 'hshrcd']].set_index('permno')['hshrcd'].to_dict()\n",
    "permno_list = [permno for permno in permno_list if (permno_shrcd_mapping[permno] == 10.0) or (permno_shrcd_mapping[permno] == 11.0)]\n",
    "# print how many permno there're after removing non-10/11 share code stock\n",
    "print(f\"removing non U.S. common stock:\\n{len(permno_list)}\")"
   ]
  },
  {
   "cell_type": "code",
   "execution_count": 13,
   "metadata": {},
   "outputs": [
    {
     "output_type": "stream",
     "name": "stdout",
     "text": "removing permno without at least 24 months of return history from 1996-01-05 00:00:00 to 2020-01-01 00:00:00 \n11623\n"
    }
   ],
   "source": [
    "# remove stocks listed outside of time interval of interest and ones without at least 24 months of price history\n",
    "# reason for starting at 1996 (configurable):\n",
    "# \"... since May of 1996, all reporting companies have been required to file electronically....\" \n",
    "# https://help.edgar-online.com/edgar/history.asp?site=pro \n",
    "MIN_PRICE_HISTORY = 24 # months\n",
    "T0 = pd.to_datetime('01/05/1996')\n",
    "T1 = pd.to_datetime('01/01/2020')\n",
    "# filtering\n",
    "temp = list()\n",
    "for permno in permno_list:\n",
    "    dates = pd.to_datetime(msf[msf['permno'] == permno]['date'].values)\n",
    "    if dates[0] >= T1 or dates[-1] < T0: # filtering by time interval\n",
    "        continue\n",
    "    if ((dates>=T0) & (dates<=T1)).sum() < MIN_PRICE_HISTORY: # filtering by # of price history\n",
    "        continue\n",
    "    temp.append(permno)\n",
    "permno_list = temp\n",
    "print(f\"removing permno without at least {MIN_PRICE_HISTORY} months of return history from {T0} to {T1} \\n{len(permno_list)}\")"
   ]
  },
  {
   "cell_type": "code",
   "execution_count": 14,
   "metadata": {},
   "outputs": [
    {
     "output_type": "stream",
     "name": "stdout",
     "text": "removing permno that falls under 500,000 thousand market cap \n775\n"
    }
   ],
   "source": [
    "# remove stocks that fall below a certain threshold of market cap\n",
    "\n",
    "MIN_MARKET_CAP = 500000 # thousand\n",
    "if_all = True # True: has to be above market cap threshold at every price point; False: has to beabove threshold at at least one price point\n",
    "\n",
    "temp = list()\n",
    "for permno in permno_list:\n",
    "    permno_series = msf[msf['permno'] == permno]\n",
    "    # computes market cap\n",
    "    market_cap_series = permno_series['prc'] * permno_series['shrout'] / permno_series['cfacpr'] * permno_series['cfacshr']\n",
    "    # filtering\n",
    "    if if_all and all(market_cap_series >= MIN_MARKET_CAP):\n",
    "        temp.append(permno)\n",
    "    elif (not if_all) and any(market_cap_series >= MIN_MARKET_CAP):\n",
    "        temp.append(permno)\n",
    "permno_list = temp\n",
    "print(f\"removing permno that falls under {MIN_MARKET_CAP:,} thousand market cap \\n{len(permno_list)}\")"
   ]
  },
  {
   "cell_type": "code",
   "execution_count": 15,
   "metadata": {},
   "outputs": [],
   "source": [
    "# more filtering can be done as needed"
   ]
  },
  {
   "cell_type": "code",
   "execution_count": 16,
   "metadata": {},
   "outputs": [],
   "source": [
    "# save permno to a csv file\n",
    "import csv\n",
    "with open(f\"data/filtered_permno_list_{T0.strftime('%Y%m%d')}_{T1.strftime('%Y%m%d')}.csv\", 'wt') as f:\n",
    "    wr = csv.writer(f)\n",
    "    wr.writerow(permno_list)"
   ]
  },
  {
   "cell_type": "code",
   "execution_count": 17,
   "metadata": {},
   "outputs": [
    {
     "output_type": "stream",
     "name": "stdout",
     "text": "total number of filtered permno:\n775\n"
    }
   ],
   "source": [
    "\"\"\" link permno to SEC edgar identifier \"\"\"\n",
    "import csv\n",
    "import pandas as pd\n",
    "import numpy as np \n",
    "\n",
    "with open(f\"data/filtered_permno_list_{T0.strftime('%Y%m%d')}_{T1.strftime('%Y%m%d')}.csv\") as f:\n",
    "    reader = csv.reader(f)\n",
    "    permno_list = list(reader)[0]\n",
    "permno_list = [int(float(p)) for p in permno_list]\n",
    "print(f\"total number of filtered permno:\\n{len(permno_list)}\")"
   ]
  },
  {
   "cell_type": "code",
   "execution_count": 18,
   "metadata": {},
   "outputs": [
    {
     "output_type": "stream",
     "name": "stdout",
     "text": "757/775 permno mapped to non-nan permco, 741 unique permco values\n757/775 permno mapped to non-nan gvkey, 729 unique gvkey values\n757/775 permno mapped to non-nan cusip, 729 unique cusip values\n757/775 permno mapped to non-nan cik, 729 unique cik values\n"
    }
   ],
   "source": [
    "# mapping of gvkey, permno, permco, ticker, cik etc.\n",
    "link = pd.read_csv('/Users/codywan/Data/WRDS Data/crspa_ccmlinktable.csv', header=0, keep_default_na=False).replace(\"\", np.NaN).dropna(subset=['LPERMNO', 'cik'])\n",
    "link[['LPERMNO', 'LPERMCO', 'GVKEY', 'cik']] = link[['LPERMNO', 'LPERMCO', 'GVKEY', 'cik']].astype('int')\n",
    "\n",
    "# permno to permco (int)\n",
    "permno_permco_mapping = link[['LPERMNO', 'LPERMCO']].set_index('LPERMNO')['LPERMCO'].to_dict() # all permno to permco mapping\n",
    "permno_permco_mapping = {permno: permno_permco_mapping.get(permno, np.NaN) for permno in permno_list} # filter out permno not in permno_list\n",
    "print(f\"{sum([1 for permno in permno_permco_mapping if not np.isnan(permno_permco_mapping[permno])])}/{len(permno_permco_mapping)} permno mapped to non-nan permco, {len(set(list(permno_permco_mapping.values())))} unique permco values\")\n",
    "# permno to gvkey (int)\n",
    "permno_gvkey_mapping = link[['LPERMNO', 'GVKEY']].set_index('LPERMNO')['GVKEY'].to_dict() # all permno to gvkey mapping\n",
    "permno_gvkey_mapping = {permno: permno_gvkey_mapping.get(permno, np.NaN) for permno in permno_list} # filter out permno not in permno_list\n",
    "print(f\"{sum([1 for permno in permno_gvkey_mapping if not np.isnan(permno_gvkey_mapping[permno])])}/{len(permno_gvkey_mapping)} permno mapped to non-nan gvkey, {len(set(list(permno_gvkey_mapping.values())))} unique gvkey values\")\n",
    "# permno to cusip (char)\n",
    "permno_cusip_mapping = link[['LPERMNO', 'cusip']].set_index('LPERMNO')['cusip'].to_dict() # all permno to cusip mapping\n",
    "permno_cusip_mapping = {permno: permno_cusip_mapping.get(permno, \"\") for permno in permno_list} # filter out permno not in permno_list\n",
    "print(f\"{sum([1 for permno in permno_cusip_mapping if permno_cusip_mapping[permno] != ''])}/{len(permno_cusip_mapping)} permno mapped to non-nan cusip, {len(set(list(permno_cusip_mapping.values())))} unique cusip values\")\n",
    "# permno to cik (int)\n",
    "permno_cik_mapping = link[['LPERMNO', 'cik']].set_index('LPERMNO')['cik'].to_dict() # all permno to cik mapping\n",
    "permno_cik_mapping = {permno: permno_cik_mapping.get(permno, np.NaN) for permno in permno_list} # filter out permno not in permno_list\n",
    "print(f\"{sum([1 for permno in permno_cik_mapping if not np.isnan(permno_cik_mapping[permno])])}/{len(permno_cik_mapping)} permno mapped to non-nan cik, {len(set(list(permno_cik_mapping.values())))} unique cik values\")"
   ]
  },
  {
   "cell_type": "code",
   "execution_count": 19,
   "metadata": {},
   "outputs": [
    {
     "output_type": "execute_result",
     "data": {
      "text/plain": "' end of identifier_preprocessing '"
     },
     "metadata": {},
     "execution_count": 19
    }
   ],
   "source": [
    "# save permno to cik mapping to csv\n",
    "df = pd.DataFrame.from_dict(permno_cik_mapping, orient='index', columns=['cik'])\n",
    "# time format is YYYYMMDD, to be consistent with the one used for making web request in following steps\n",
    "df.to_csv(f\"data/permno_cik_mapping_{T0.strftime('%Y%m%d')}_{T1.strftime('%Y%m%d')}_MinMK_{MIN_MARKET_CAP}.csv\")\n",
    "\n",
    "\"\"\" end of identifier_preprocessing \"\"\""
   ]
  },
  {
   "cell_type": "code",
   "execution_count": null,
   "metadata": {},
   "outputs": [],
   "source": [
    "\"\"\" a few note-worthy cases in stock identifier mapping \"\"\"\n",
    "# htsymbols are not unique\n",
    "# EGAS were used by GAS Natural Inc and Energy Search Inc for some overlapping period?\n",
    "# one is NYSE: EGAS, the other one is NASDAQ: EGAS\n",
    "with pd.option_context('display.max_rows', None, 'display.max_columns', None): \n",
    "    display(sh[sh['htsymbol']=='EGAS'])"
   ]
  },
  {
   "cell_type": "code",
   "execution_count": null,
   "metadata": {},
   "outputs": [],
   "source": [
    "# no record for some permno in linking file\n",
    "# e.g. permno: 16267, Dell Technologies Inc\n",
    "with pd.option_context('display.max_rows', None, 'display.max_columns', None): \n",
    "    display(link[link['LPERMNO']==16267])"
   ]
  },
  {
   "cell_type": "code",
   "execution_count": null,
   "metadata": {},
   "outputs": [],
   "source": [
    "# negative cik for permno 13757, 13758, etc\n",
    "# verify if cik is negative link\n",
    "link = pd.read_csv('/Users/codywan/Data/WRDS Data/crspa_ccmlinktable.csv', header=0, keep_default_na=False).replace(\"\", np.NaN)\n",
    "link[link['LPERMNO']==75298]\n",
    "# turned out it was np.nan being being converted to int and parsed as some negative number by pandas"
   ]
  }
 ],
 "metadata": {
  "language_info": {
   "codemirror_mode": {
    "name": "ipython",
    "version": 3
   },
   "file_extension": ".py",
   "mimetype": "text/x-python",
   "name": "python",
   "nbconvert_exporter": "python",
   "pygments_lexer": "ipython3",
   "version": "3.7.6-final"
  },
  "orig_nbformat": 2,
  "kernelspec": {
   "name": "python37664bitbaseconda19daccaab569477d9dec399eeb89c3e8",
   "display_name": "Python 3.7.6 64-bit ('base': conda)"
  }
 },
 "nbformat": 4,
 "nbformat_minor": 2
}