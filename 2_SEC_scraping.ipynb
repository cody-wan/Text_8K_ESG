{
 "cells": [
  {
   "cell_type": "code",
   "execution_count": null,
   "metadata": {},
   "outputs": [],
   "source": [
    "\"\"\" trying a few SEC parser from Github \"\"\"\n",
    "# 1. secedgar https://github.com/sec-edgar/sec-edgar; relies on ticker symbol to obtain cik and then filing\n",
    "from secedgar.filings.cik_lookup import CIKLookup\n",
    "# not reliable, as the following code would cause EDGARQueryError; no matching for de-listed companies i.e. no backtesting\n",
    "# CIKLookup(['EGAS']).lookup_dict()\n",
    "\n",
    "# 2. SEC-EDGAR-test https://github.com/alions7000/SEC-EDGAR-text\n",
    "# command line based e.g. python SEC-EDGAR-text --storage=/parsed_filing/ --start=20150101 --end=99991231 --filings=8-K --company=709519 --write_sql=False\n",
    "# unable to get it to work atm; sqlite3.OperationError, from EdgarCrawler package that it uses, even though write_sql flag is set to false\n",
    "\n",
    "# 3. edgar https://github.com/datasets/edgar\n",
    "# poor README, not clear how it works atm"
   ]
  },
  {
   "cell_type": "code",
   "execution_count": 3,
   "metadata": {},
   "outputs": [
    {
     "output_type": "execute_result",
     "data": {
      "text/plain": "<module 'utils' from '/Users/codywan/Dropbox/MS MathFin/Project_Presentation/MathFin_Project_20Fall/utils.py'>"
     },
     "metadata": {},
     "execution_count": 3
    }
   ],
   "source": [
    "\"\"\" using my own parser \"\"\"\n",
    "import utils\n",
    "import importlib\n",
    "from glob import glob\n",
    "import pandas as pd \n",
    "importlib.reload(utils)"
   ]
  },
  {
   "cell_type": "code",
   "execution_count": 7,
   "metadata": {},
   "outputs": [
    {
     "output_type": "stream",
     "name": "stdout",
     "text": "number of CIK to scrape: 728\n"
    },
    {
     "output_type": "execute_result",
     "data": {
      "text/plain": "' end of scraping '"
     },
     "metadata": {},
     "execution_count": 7
    }
   ],
   "source": [
    "# read permno and its corresponding cik number of stocks we want to scrape filings for\n",
    "file_name = glob('data/permno_cik_mapping_*_*_MinMK_500000.csv')[0]\n",
    "# read start and end date of stocks filing to be considered; end date will be used as dateb/\"date before\" parameter when making edgar search request\n",
    "dates = (file_name.split(\".\")[0]).split(\"_\")[-4:-2]\n",
    "T0, T1 = dates[0], dates[1]\n",
    "\n",
    "permno_cik_mapping = pd.read_csv(file_name, index_col=0, header=0).dropna().astype('int')['cik'].to_dict()\n",
    "CIK_list = list(set([permno_cik_mapping[p] for p in permno_cik_mapping]))\n",
    "print(f\"number of CIK to scrape: {len(CIK_list)}\")\n",
    "\n",
    "# uncomment line below to download filings\n",
    "# utils.download_filings(T1=T1, FILING_TYPE='8-K', CIK_list=CIK_list, OUTPUT_FILE_PATH=\"/Users/codywan/Data/SEC Edgar Scraping/8-K/\", LOGGING_FILE_PATH=\"data/web_scraping_log.txt\")\n",
    "\n",
    "\"\"\" end of scraping \"\"\""
   ]
  },
  {
   "cell_type": "code",
   "execution_count": 5,
   "metadata": {},
   "outputs": [],
   "source": [
    "\"\"\" re-download CIKs from Error_CIK.csv after modifying code\"\"\"\n",
    "\n",
    "# CIK_list = pd.read_csv(\"data/Error_CIK.csv\", header=None)[0].values\n",
    "CIK_list = [894253]\n",
    "utils.download_filings(T1='20200101', FILING_TYPE='8-K', CIK_list=CIK_list, OUTPUT_FILE_PATH=\"/Users/codywan/Data/SEC Edgar Scraping/test/\", LOGGING_FILE_PATH=\"logs/\")"
   ]
  },
  {
   "cell_type": "code",
   "execution_count": null,
   "metadata": {},
   "outputs": [],
   "source": []
  }
 ],
 "metadata": {
  "language_info": {
   "codemirror_mode": {
    "name": "ipython",
    "version": 3
   },
   "file_extension": ".py",
   "mimetype": "text/x-python",
   "name": "python",
   "nbconvert_exporter": "python",
   "pygments_lexer": "ipython3",
   "version": "3.7.6-final"
  },
  "orig_nbformat": 2,
  "kernelspec": {
   "name": "python37664bitbaseconda19daccaab569477d9dec399eeb89c3e8",
   "display_name": "Python 3.7.6 64-bit ('base': conda)"
  }
 },
 "nbformat": 4,
 "nbformat_minor": 2
}