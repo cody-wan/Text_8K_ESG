{
 "cells": [
  {
   "cell_type": "code",
   "execution_count": 76,
   "metadata": {},
   "outputs": [],
   "source": [
    "import pandas as pd \n",
    "import numpy as np \n",
    "import wrds \n",
    "import logging\n",
    "import pyfolio as pf # to use pyfolio, price data have to be indexed by time\n",
    "import statsmodels.api as sm\n",
    "import importlib\n",
    "import utils_backtest\n",
    "importlib.reload(utils_backtest)\n",
    "from pandas.tseries.offsets import BDay\n"
   ]
  },
  {
   "cell_type": "code",
   "execution_count": 77,
   "metadata": {},
   "outputs": [
    {
     "output_type": "execute_result",
     "data": {
      "text/plain": "' select events '"
     },
     "metadata": {},
     "execution_count": 77
    }
   ],
   "source": [
    "\"\"\" select events \"\"\""
   ]
  },
  {
   "cell_type": "code",
   "execution_count": 80,
   "metadata": {
    "pycharm": {
     "name": "#%%\n"
    }
   },
   "outputs": [],
   "source": [
    "# define variables for running backtests\n",
    "# NOTE: a single command line variable should not contain space\n",
    "REPO_NAME = \"key_word_search\"\n",
    "MODEL_NAME = \"contains_key_words_plus\"\n",
    "MODEL_PARAM = {\"A\": ['weather'],\n",
    "               \"B\": ['artificial intelligence', 'cloud based'], \n",
    "               \"C\": ['eyeball', 'view'], \n",
    "               \"D\": ['total addressable market', 'go-to market'], \n",
    "               \"E\": ['ecosystems'],\n",
    "               \"F\": ['disruptors']}\n",
    "\n",
    "utils_backtest.run_command(f\"python utils_backtest.py {REPO_NAME} {MODEL_NAME} {','.join(MODEL_PARAM)} -T\")\n",
    "\n",
    "\n",
    "\n"
   ]
  }
 ],
 "metadata": {
  "language_info": {
   "codemirror_mode": {
    "name": "ipython",
    "version": 3
   },
   "file_extension": ".py",
   "mimetype": "text/x-python",
   "name": "python",
   "nbconvert_exporter": "python",
   "pygments_lexer": "ipython3",
   "version": "3.7.6-final"
  },
  "orig_nbformat": 2,
  "kernelspec": {
   "name": "python37664bitbaseconda19daccaab569477d9dec399eeb89c3e8",
   "display_name": "Python 3.7.6 64-bit ('base': conda)"
  }
 },
 "nbformat": 4,
 "nbformat_minor": 2
}