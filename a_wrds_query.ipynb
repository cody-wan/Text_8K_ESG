{
 "cells": [
  {
   "cell_type": "code",
   "execution_count": 1,
   "metadata": {},
   "outputs": [
    {
     "output_type": "stream",
     "name": "stdout",
     "text": [
      "WRDS recommends setting up a .pgpass file.\n",
      "You can find more info here:\n",
      "https://www.postgresql.org/docs/9.5/static/libpq-pgpass.html.\n",
      "Loading library list...\n",
      "Done\n"
     ]
    }
   ],
   "source": [
    "# WRDS initial setup - obtain the pgpass file\n",
    "# run once\n",
    "import wrds\n",
    "db = wrds.Connection(wrds_username='codywan')\n",
    "# db.create_pgpass_file()"
   ]
  },
  {
   "cell_type": "markdown",
   "metadata": {},
   "source": [
    "db = wrds.Connection()\n",
    "\n",
    "Common Methods:\n",
    "- db.close()\n",
    "- db.connection()\n",
    "- db.describe_table()\n",
    "- db.get_table()\n",
    "- db.list_tables()\n",
    "- db.raw_sql()\n",
    "- db.get_row_count()\n",
    "- db.list_libraries()\n",
    "\n",
    "To limit the number of records in a query:\n",
    "\n",
    "1. db.get_table('djones', 'djdaily', columns=['date', 'dji'], obs=10)\n",
    "2. db.raw_sql('select date,dji from djones.djdaily LIMIT 10;', date_cols=['date'])\n",
    "\n",
    "To query the dataset structure (Metadata):\n",
    "\n",
    "1. List all available libraries at WRDS using list_libraries()\n",
    "2. Select a library to work with, and list all available datasets within that library using list_tables()\n",
    "3. Select a dataset, and list all available variables (column headers) within that dataset using describe_table()\n",
    "\n",
    "**Note**: library and dataset names must be in lowercases. A comprensive list of wrds libraries is avavilable [here](https://wrds-www.wharton.upenn.edu/pages/about/data-vendors/)"
   ]
  },
  {
   "cell_type": "code",
   "execution_count": 1,
   "metadata": {},
   "outputs": [
    {
     "output_type": "stream",
     "name": "stdout",
     "text": "Loading library list...\nDone\n"
    }
   ],
   "source": [
    "# regular use of wrds starts here\n",
    "import wrds\n",
    "db = wrds.Connection()"
   ]
  },
  {
   "cell_type": "code",
   "execution_count": 7,
   "metadata": {},
   "outputs": [
    {
     "output_type": "execute_result",
     "data": {
      "text/plain": "     gvkey linkprim liid linktype  lpermno  lpermco  usedflag      linkdt  \\\n0   001000        C  00X       NU      NaN      NaN      -1.0  1961-01-01   \n1   001000        P   01       NU      NaN      NaN      -1.0  1970-09-30   \n2   001000        P   01       LU  25881.0  23369.0       1.0  1970-11-13   \n3   001001        C  00X       NU      NaN      NaN      -1.0  1978-01-01   \n4   001001        P   01       LU  10015.0   6398.0       1.0  1983-09-20   \n..     ...      ...  ...      ...      ...      ...       ...         ...   \n95  001038        C  00X       NU      NaN      NaN      -1.0  1982-04-01   \n96  001038        P   01       LU  66413.0   6301.0       1.0  1983-08-18   \n97  001038        C  99X       NU      NaN      NaN      -1.0  2005-01-01   \n98  001039        C  00X       NR      NaN      NaN      -1.0  1965-01-01   \n99  001039        P   01       NR      NaN      NaN      -1.0  1965-06-30   \n\n     linkenddt  \n0   1970-09-29  \n1   1970-11-12  \n2   1978-06-30  \n3   1983-09-19  \n4   1986-07-31  \n..         ...  \n95  1983-08-17  \n96  2004-12-31  \n97  2005-01-31  \n98  1965-06-29  \n99  1970-04-28  \n\n[100 rows x 9 columns]",
      "text/html": "<div>\n<style scoped>\n    .dataframe tbody tr th:only-of-type {\n        vertical-align: middle;\n    }\n\n    .dataframe tbody tr th {\n        vertical-align: top;\n    }\n\n    .dataframe thead th {\n        text-align: right;\n    }\n</style>\n<table border=\"1\" class=\"dataframe\">\n  <thead>\n    <tr style=\"text-align: right;\">\n      <th></th>\n      <th>gvkey</th>\n      <th>linkprim</th>\n      <th>liid</th>\n      <th>linktype</th>\n      <th>lpermno</th>\n      <th>lpermco</th>\n      <th>usedflag</th>\n      <th>linkdt</th>\n      <th>linkenddt</th>\n    </tr>\n  </thead>\n  <tbody>\n    <tr>\n      <th>0</th>\n      <td>001000</td>\n      <td>C</td>\n      <td>00X</td>\n      <td>NU</td>\n      <td>NaN</td>\n      <td>NaN</td>\n      <td>-1.0</td>\n      <td>1961-01-01</td>\n      <td>1970-09-29</td>\n    </tr>\n    <tr>\n      <th>1</th>\n      <td>001000</td>\n      <td>P</td>\n      <td>01</td>\n      <td>NU</td>\n      <td>NaN</td>\n      <td>NaN</td>\n      <td>-1.0</td>\n      <td>1970-09-30</td>\n      <td>1970-11-12</td>\n    </tr>\n    <tr>\n      <th>2</th>\n      <td>001000</td>\n      <td>P</td>\n      <td>01</td>\n      <td>LU</td>\n      <td>25881.0</td>\n      <td>23369.0</td>\n      <td>1.0</td>\n      <td>1970-11-13</td>\n      <td>1978-06-30</td>\n    </tr>\n    <tr>\n      <th>3</th>\n      <td>001001</td>\n      <td>C</td>\n      <td>00X</td>\n      <td>NU</td>\n      <td>NaN</td>\n      <td>NaN</td>\n      <td>-1.0</td>\n      <td>1978-01-01</td>\n      <td>1983-09-19</td>\n    </tr>\n    <tr>\n      <th>4</th>\n      <td>001001</td>\n      <td>P</td>\n      <td>01</td>\n      <td>LU</td>\n      <td>10015.0</td>\n      <td>6398.0</td>\n      <td>1.0</td>\n      <td>1983-09-20</td>\n      <td>1986-07-31</td>\n    </tr>\n    <tr>\n      <th>...</th>\n      <td>...</td>\n      <td>...</td>\n      <td>...</td>\n      <td>...</td>\n      <td>...</td>\n      <td>...</td>\n      <td>...</td>\n      <td>...</td>\n      <td>...</td>\n    </tr>\n    <tr>\n      <th>95</th>\n      <td>001038</td>\n      <td>C</td>\n      <td>00X</td>\n      <td>NU</td>\n      <td>NaN</td>\n      <td>NaN</td>\n      <td>-1.0</td>\n      <td>1982-04-01</td>\n      <td>1983-08-17</td>\n    </tr>\n    <tr>\n      <th>96</th>\n      <td>001038</td>\n      <td>P</td>\n      <td>01</td>\n      <td>LU</td>\n      <td>66413.0</td>\n      <td>6301.0</td>\n      <td>1.0</td>\n      <td>1983-08-18</td>\n      <td>2004-12-31</td>\n    </tr>\n    <tr>\n      <th>97</th>\n      <td>001038</td>\n      <td>C</td>\n      <td>99X</td>\n      <td>NU</td>\n      <td>NaN</td>\n      <td>NaN</td>\n      <td>-1.0</td>\n      <td>2005-01-01</td>\n      <td>2005-01-31</td>\n    </tr>\n    <tr>\n      <th>98</th>\n      <td>001039</td>\n      <td>C</td>\n      <td>00X</td>\n      <td>NR</td>\n      <td>NaN</td>\n      <td>NaN</td>\n      <td>-1.0</td>\n      <td>1965-01-01</td>\n      <td>1965-06-29</td>\n    </tr>\n    <tr>\n      <th>99</th>\n      <td>001039</td>\n      <td>P</td>\n      <td>01</td>\n      <td>NR</td>\n      <td>NaN</td>\n      <td>NaN</td>\n      <td>-1.0</td>\n      <td>1965-06-30</td>\n      <td>1970-04-28</td>\n    </tr>\n  </tbody>\n</table>\n<p>100 rows × 9 columns</p>\n</div>"
     },
     "metadata": {},
     "execution_count": 7
    }
   ],
   "source": [
    "db.raw_sql('SELECT * FROM crsp.ccmxpf_linktable LIMIT 100')\n",
    "# db.raw_sql('SELECT * FROM crsp.dsf LIMIT 100')"
   ]
  },
  {
   "cell_type": "code",
   "execution_count": null,
   "metadata": {},
   "outputs": [],
   "source": [
    "\"\"\" data query for Project 20Fall \"\"\"\n",
    "# 1. monthly historical price data: crspa.msf (https://wrds-web.wharton.upenn.edu/wrds/ds/crsp/stock_a/msf.cfm?navId=128)\n",
    "# 2. mapping of permno and shrcd (share code): crspa.dsfhdr (https://wrds-web.wharton.upenn.edu/wrds/ds/crsp/stock_a/stkhdr.cfm?navId=128)\n",
    "# 3. mapping of permno, permco, gvkey, cusip, ticker, cik etc.: crspa.ccmlinktable (https://wrds-web.wharton.upenn.edu/wrds/ds/crsp/ccm_a/linktable/index.cfm?navId=120)\n",
    "\n",
    "db.raw_sql(\"SELECT * FROM crspa.msf LIMIT 100\") # it used to work but now I ran into \"ProgrammingError: (psycopg2.errors.InsufficientPrivilege) permission denied for relation msf\"; alternative is to download all files in csv locally, which in total would not take more than 1GB\n",
    "\n",
    "# pd.to_csv('/Users/codywan/Data/WRDS Data/crspa_msf.csv')"
   ]
  },
  {
   "cell_type": "code",
   "execution_count": null,
   "metadata": {},
   "outputs": [],
   "source": [
    "db.close()"
   ]
  },
  {
   "cell_type": "code",
   "execution_count": null,
   "metadata": {},
   "outputs": [],
   "source": []
  }
 ],
 "metadata": {
  "language_info": {
   "codemirror_mode": {
    "name": "ipython",
    "version": 3
   },
   "file_extension": ".py",
   "mimetype": "text/x-python",
   "name": "python",
   "nbconvert_exporter": "python",
   "pygments_lexer": "ipython3",
   "version": "3.7.6-final"
  },
  "orig_nbformat": 2,
  "kernelspec": {
   "name": "python37664bitbaseconda19daccaab569477d9dec399eeb89c3e8",
   "display_name": "Python 3.7.6 64-bit ('base': conda)",
   "language": "python"
  }
 },
 "nbformat": 4,
 "nbformat_minor": 2
}